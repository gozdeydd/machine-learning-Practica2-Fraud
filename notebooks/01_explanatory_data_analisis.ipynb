{
 "cells": [
  {
   "cell_type": "markdown",
   "id": "ba9ece79",
   "metadata": {},
   "source": [
    "# CUNEF MUCD 2022/2023\n",
    "# Machine Learning\n",
    "# Análisis de Fraude"
   ]
  },
  {
   "cell_type": "markdown",
   "id": "5854d843",
   "metadata": {},
   "source": [
    "### Autores:\n",
    "- Gozde Yazganoglu\n",
    "- Irma Sanchez\n",
    "\n"
   ]
  },
  {
   "cell_type": "markdown",
   "id": "4aa84a2b",
   "metadata": {},
   "source": [
    "# Importación de Librerías"
   ]
  },
  {
   "cell_type": "code",
   "execution_count": 2,
   "id": "8a6d2962",
   "metadata": {
    "scrolled": true
   },
   "outputs": [],
   "source": [
    "import pandas as pd\n",
    "import numpy as np\n",
    "import sweetviz as sv\n",
    "import matplotlib.pyplot as plt\n",
    "from matplotlib import pyplot as plt\n",
    "import seaborn as sns\n",
    "import warnings\n",
    "warnings.filterwarnings(\"ignore\")\n",
    "import plotly.express as px\n",
    "import sklearn"
   ]
  },
  {
   "attachments": {},
   "cell_type": "markdown",
   "id": "c90aa892",
   "metadata": {},
   "source": [
    "### Importación de Dataset y Diccionario"
   ]
  },
  {
   "cell_type": "code",
   "execution_count": 3,
   "id": "32f721e7",
   "metadata": {},
   "outputs": [
    {
     "name": "stdout",
     "output_type": "stream",
     "text": [
      "El dataset está compuesto por 1048575 filas y 19 columnas\n"
     ]
    },
    {
     "data": {
      "text/html": [
       "<div>\n",
       "<style scoped>\n",
       "    .dataframe tbody tr th:only-of-type {\n",
       "        vertical-align: middle;\n",
       "    }\n",
       "\n",
       "    .dataframe tbody tr th {\n",
       "        vertical-align: top;\n",
       "    }\n",
       "\n",
       "    .dataframe thead th {\n",
       "        text-align: right;\n",
       "    }\n",
       "</style>\n",
       "<table border=\"1\" class=\"dataframe\">\n",
       "  <thead>\n",
       "    <tr style=\"text-align: right;\">\n",
       "      <th></th>\n",
       "      <th>step</th>\n",
       "      <th>type</th>\n",
       "      <th>amount</th>\n",
       "      <th>gender</th>\n",
       "      <th>device</th>\n",
       "      <th>connection_time</th>\n",
       "      <th>nameOrig</th>\n",
       "      <th>race</th>\n",
       "      <th>oldbalanceOrg</th>\n",
       "      <th>age</th>\n",
       "      <th>newbalanceOrig</th>\n",
       "      <th>zone</th>\n",
       "      <th>user_number</th>\n",
       "      <th>nameDest</th>\n",
       "      <th>user_connections</th>\n",
       "      <th>security_alert</th>\n",
       "      <th>oldbalanceDest</th>\n",
       "      <th>newbalanceDest</th>\n",
       "      <th>isFraud</th>\n",
       "    </tr>\n",
       "  </thead>\n",
       "  <tbody>\n",
       "    <tr>\n",
       "      <th>0</th>\n",
       "      <td>1</td>\n",
       "      <td>PAYMENT</td>\n",
       "      <td>9839.64</td>\n",
       "      <td>man</td>\n",
       "      <td>mac</td>\n",
       "      <td>0,140039412</td>\n",
       "      <td>C1231006815</td>\n",
       "      <td>black</td>\n",
       "      <td>170136.0</td>\n",
       "      <td>85</td>\n",
       "      <td>160296.36</td>\n",
       "      <td>capital</td>\n",
       "      <td>138</td>\n",
       "      <td>M1979787155</td>\n",
       "      <td>5</td>\n",
       "      <td>1</td>\n",
       "      <td>0.0</td>\n",
       "      <td>0.0</td>\n",
       "      <td>0</td>\n",
       "    </tr>\n",
       "    <tr>\n",
       "      <th>1</th>\n",
       "      <td>1</td>\n",
       "      <td>PAYMENT</td>\n",
       "      <td>1864.28</td>\n",
       "      <td>woman</td>\n",
       "      <td>mac</td>\n",
       "      <td>0,496889534</td>\n",
       "      <td>C1666544295</td>\n",
       "      <td>asian</td>\n",
       "      <td>21249.0</td>\n",
       "      <td>57</td>\n",
       "      <td>19384.72</td>\n",
       "      <td>country</td>\n",
       "      <td>909</td>\n",
       "      <td>M2044282225</td>\n",
       "      <td>1</td>\n",
       "      <td>0</td>\n",
       "      <td>0.0</td>\n",
       "      <td>0.0</td>\n",
       "      <td>0</td>\n",
       "    </tr>\n",
       "    <tr>\n",
       "      <th>2</th>\n",
       "      <td>1</td>\n",
       "      <td>TRANSFER</td>\n",
       "      <td>181.00</td>\n",
       "      <td>man</td>\n",
       "      <td>pc</td>\n",
       "      <td>0,781150327</td>\n",
       "      <td>C1305486145</td>\n",
       "      <td>asian</td>\n",
       "      <td>181.0</td>\n",
       "      <td>66</td>\n",
       "      <td>0.00</td>\n",
       "      <td>capital</td>\n",
       "      <td>2569</td>\n",
       "      <td>C553264065</td>\n",
       "      <td>10</td>\n",
       "      <td>0</td>\n",
       "      <td>0.0</td>\n",
       "      <td>0.0</td>\n",
       "      <td>1</td>\n",
       "    </tr>\n",
       "    <tr>\n",
       "      <th>3</th>\n",
       "      <td>1</td>\n",
       "      <td>CASH_OUT</td>\n",
       "      <td>181.00</td>\n",
       "      <td>man</td>\n",
       "      <td>mac</td>\n",
       "      <td>0,565068378</td>\n",
       "      <td>C840083671</td>\n",
       "      <td>black</td>\n",
       "      <td>181.0</td>\n",
       "      <td>31</td>\n",
       "      <td>0.00</td>\n",
       "      <td>country</td>\n",
       "      <td>1787</td>\n",
       "      <td>C38997010</td>\n",
       "      <td>3</td>\n",
       "      <td>0</td>\n",
       "      <td>21182.0</td>\n",
       "      <td>0.0</td>\n",
       "      <td>1</td>\n",
       "    </tr>\n",
       "    <tr>\n",
       "      <th>4</th>\n",
       "      <td>1</td>\n",
       "      <td>PAYMENT</td>\n",
       "      <td>11668.14</td>\n",
       "      <td>unknow</td>\n",
       "      <td>mac</td>\n",
       "      <td>0,517114493</td>\n",
       "      <td>C2048537720</td>\n",
       "      <td>black</td>\n",
       "      <td>41554.0</td>\n",
       "      <td>90</td>\n",
       "      <td>29885.86</td>\n",
       "      <td>country</td>\n",
       "      <td>3997</td>\n",
       "      <td>M1230701703</td>\n",
       "      <td>8</td>\n",
       "      <td>0</td>\n",
       "      <td>0.0</td>\n",
       "      <td>0.0</td>\n",
       "      <td>0</td>\n",
       "    </tr>\n",
       "  </tbody>\n",
       "</table>\n",
       "</div>"
      ],
      "text/plain": [
       "   step      type    amount  gender device connection_time     nameOrig  \\\n",
       "0     1   PAYMENT   9839.64     man    mac     0,140039412  C1231006815   \n",
       "1     1   PAYMENT   1864.28   woman    mac     0,496889534  C1666544295   \n",
       "2     1  TRANSFER    181.00     man     pc     0,781150327  C1305486145   \n",
       "3     1  CASH_OUT    181.00     man    mac     0,565068378   C840083671   \n",
       "4     1   PAYMENT  11668.14  unknow    mac     0,517114493  C2048537720   \n",
       "\n",
       "    race  oldbalanceOrg  age  newbalanceOrig     zone  user_number  \\\n",
       "0  black       170136.0   85       160296.36  capital          138   \n",
       "1  asian        21249.0   57        19384.72  country          909   \n",
       "2  asian          181.0   66            0.00  capital         2569   \n",
       "3  black          181.0   31            0.00  country         1787   \n",
       "4  black        41554.0   90        29885.86  country         3997   \n",
       "\n",
       "      nameDest  user_connections  security_alert  oldbalanceDest  \\\n",
       "0  M1979787155                 5               1             0.0   \n",
       "1  M2044282225                 1               0             0.0   \n",
       "2   C553264065                10               0             0.0   \n",
       "3    C38997010                 3               0         21182.0   \n",
       "4  M1230701703                 8               0             0.0   \n",
       "\n",
       "   newbalanceDest  isFraud  \n",
       "0             0.0        0  \n",
       "1             0.0        0  \n",
       "2             0.0        1  \n",
       "3             0.0        1  \n",
       "4             0.0        0  "
      ]
     },
     "execution_count": 3,
     "metadata": {},
     "output_type": "execute_result"
    }
   ],
   "source": [
    "data = pd.read_csv('../data/raw/Copia de Original_dataset_payments_fraud.csv', sep=\";\")\n",
    "print(\"El dataset está compuesto por\", len(data.index), \"filas y\", len(data.columns), \"columnas\")\n",
    "data.head()"
   ]
  },
  {
   "cell_type": "code",
   "execution_count": 5,
   "id": "88fb33c1",
   "metadata": {},
   "outputs": [
    {
     "data": {
      "text/html": [
       "<div>\n",
       "<style scoped>\n",
       "    .dataframe tbody tr th:only-of-type {\n",
       "        vertical-align: middle;\n",
       "    }\n",
       "\n",
       "    .dataframe tbody tr th {\n",
       "        vertical-align: top;\n",
       "    }\n",
       "\n",
       "    .dataframe thead th {\n",
       "        text-align: right;\n",
       "    }\n",
       "</style>\n",
       "<table border=\"1\" class=\"dataframe\">\n",
       "  <thead>\n",
       "    <tr style=\"text-align: right;\">\n",
       "      <th></th>\n",
       "      <th>Variable</th>\n",
       "      <th>Description</th>\n",
       "      <th>Type</th>\n",
       "      <th>Values</th>\n",
       "    </tr>\n",
       "  </thead>\n",
       "  <tbody>\n",
       "    <tr>\n",
       "      <th>0</th>\n",
       "      <td>step</td>\n",
       "      <td>unidad de tiempo  1 = 1 hora</td>\n",
       "      <td>Numerical</td>\n",
       "      <td>[1, 95]</td>\n",
       "    </tr>\n",
       "    <tr>\n",
       "      <th>1</th>\n",
       "      <td>type</td>\n",
       "      <td>tipo</td>\n",
       "      <td>Categorical</td>\n",
       "      <td>CASH_IN, CASH_OUT, TRANSFER, PAYMENT, DEBIT</td>\n",
       "    </tr>\n",
       "    <tr>\n",
       "      <th>2</th>\n",
       "      <td>amount</td>\n",
       "      <td>cantidad</td>\n",
       "      <td>Numerical</td>\n",
       "      <td>[10.48 , 10000000.00]</td>\n",
       "    </tr>\n",
       "    <tr>\n",
       "      <th>3</th>\n",
       "      <td>gender</td>\n",
       "      <td>género (informado por el cliente)</td>\n",
       "      <td>Categorical</td>\n",
       "      <td>man, woman, unknown + (null values)</td>\n",
       "    </tr>\n",
       "    <tr>\n",
       "      <th>4</th>\n",
       "      <td>device</td>\n",
       "      <td>tipo del dispositivo que inicio la transacción</td>\n",
       "      <td>Categorical</td>\n",
       "      <td>mac, iphone, pc + (null values)</td>\n",
       "    </tr>\n",
       "    <tr>\n",
       "      <th>5</th>\n",
       "      <td>connection_time</td>\n",
       "      <td>segundos que tardan en llegar los datos desde...</td>\n",
       "      <td>Numerical</td>\n",
       "      <td>[ 0,0000282433 , 0,999999999]</td>\n",
       "    </tr>\n",
       "    <tr>\n",
       "      <th>6</th>\n",
       "      <td>nameOrig</td>\n",
       "      <td>identificador del cliente que inicia la trans...</td>\n",
       "      <td>Categorical</td>\n",
       "      <td>Customer id with letter and numbers</td>\n",
       "    </tr>\n",
       "    <tr>\n",
       "      <th>7</th>\n",
       "      <td>race</td>\n",
       "      <td>raza</td>\n",
       "      <td>Categorical</td>\n",
       "      <td>asian, black, latin + (null values)</td>\n",
       "    </tr>\n",
       "    <tr>\n",
       "      <th>8</th>\n",
       "      <td>oldbalanceOrg</td>\n",
       "      <td>saldo antes de la transacción</td>\n",
       "      <td>Numerical</td>\n",
       "      <td>fom 0.0 to  1.05E+ 15</td>\n",
       "    </tr>\n",
       "    <tr>\n",
       "      <th>9</th>\n",
       "      <td>age</td>\n",
       "      <td>edad estimada</td>\n",
       "      <td>Numerical</td>\n",
       "      <td>[5, 100]</td>\n",
       "    </tr>\n",
       "    <tr>\n",
       "      <th>10</th>\n",
       "      <td>newbalanceOrig</td>\n",
       "      <td>saldo después</td>\n",
       "      <td>Numerical</td>\n",
       "      <td>[0.0 ,  1.05E+ 15]</td>\n",
       "    </tr>\n",
       "    <tr>\n",
       "      <th>11</th>\n",
       "      <td>nameDest</td>\n",
       "      <td>receptor de la transacción</td>\n",
       "      <td>Categorical</td>\n",
       "      <td>africa, country, capital + (null values)</td>\n",
       "    </tr>\n",
       "    <tr>\n",
       "      <th>12</th>\n",
       "      <td>user_connections</td>\n",
       "      <td>conexiones del mismo usuario ese día</td>\n",
       "      <td>Numerical</td>\n",
       "      <td>[59 , 5000]</td>\n",
       "    </tr>\n",
       "    <tr>\n",
       "      <th>13</th>\n",
       "      <td>security_alert</td>\n",
       "      <td>si existía una alerta de seguridad ese día em...</td>\n",
       "      <td>Numerical</td>\n",
       "      <td>Customer id with letter and numbers</td>\n",
       "    </tr>\n",
       "    <tr>\n",
       "      <th>14</th>\n",
       "      <td>oldbalanceDest</td>\n",
       "      <td>balance inicial del destinatario</td>\n",
       "      <td>Numerical</td>\n",
       "      <td>[ 1 , 10]</td>\n",
       "    </tr>\n",
       "    <tr>\n",
       "      <th>15</th>\n",
       "      <td>newbalanceDest</td>\n",
       "      <td>balance final del destinatario</td>\n",
       "      <td>Numerical</td>\n",
       "      <td>[0 , 1 ]</td>\n",
       "    </tr>\n",
       "    <tr>\n",
       "      <th>16</th>\n",
       "      <td>zone</td>\n",
       "      <td>lugar inferida del origen de la transacción</td>\n",
       "      <td>Categorical</td>\n",
       "      <td>[0.0 ,  1.08E+ 14]</td>\n",
       "    </tr>\n",
       "    <tr>\n",
       "      <th>17</th>\n",
       "      <td>user_number</td>\n",
       "      <td>usuarios concurrentes en la web en el momento...</td>\n",
       "      <td>Numerical</td>\n",
       "      <td>[0.0 , 1.08E+ 14]</td>\n",
       "    </tr>\n",
       "    <tr>\n",
       "      <th>18</th>\n",
       "      <td>isFraud</td>\n",
       "      <td>etiqueda de fraude verificada</td>\n",
       "      <td>Numerical(Target)</td>\n",
       "      <td>[0, 1]</td>\n",
       "    </tr>\n",
       "  </tbody>\n",
       "</table>\n",
       "</div>"
      ],
      "text/plain": [
       "            Variable                                        Description  \\\n",
       "0               step                       unidad de tiempo  1 = 1 hora   \n",
       "1               type                                               tipo   \n",
       "2             amount                                           cantidad   \n",
       "3             gender                  género (informado por el cliente)   \n",
       "4             device     tipo del dispositivo que inicio la transacción   \n",
       "5    connection_time   segundos que tardan en llegar los datos desde...   \n",
       "6           nameOrig   identificador del cliente que inicia la trans...   \n",
       "7               race                                               raza   \n",
       "8      oldbalanceOrg                      saldo antes de la transacción   \n",
       "9                age                                      edad estimada   \n",
       "10    newbalanceOrig                                      saldo después   \n",
       "11          nameDest                         receptor de la transacción   \n",
       "12  user_connections               conexiones del mismo usuario ese día   \n",
       "13    security_alert   si existía una alerta de seguridad ese día em...   \n",
       "14    oldbalanceDest                   balance inicial del destinatario   \n",
       "15    newbalanceDest                     balance final del destinatario   \n",
       "16              zone        lugar inferida del origen de la transacción   \n",
       "17       user_number   usuarios concurrentes en la web en el momento...   \n",
       "18           isFraud                      etiqueda de fraude verificada   \n",
       "\n",
       "                 Type                                       Values  \n",
       "0           Numerical                                      [1, 95]  \n",
       "1         Categorical  CASH_IN, CASH_OUT, TRANSFER, PAYMENT, DEBIT  \n",
       "2           Numerical                        [10.48 , 10000000.00]  \n",
       "3         Categorical          man, woman, unknown + (null values)  \n",
       "4         Categorical              mac, iphone, pc + (null values)  \n",
       "5           Numerical                [ 0,0000282433 , 0,999999999]  \n",
       "6         Categorical          Customer id with letter and numbers  \n",
       "7         Categorical          asian, black, latin + (null values)  \n",
       "8           Numerical                        fom 0.0 to  1.05E+ 15  \n",
       "9           Numerical                                     [5, 100]  \n",
       "10          Numerical                           [0.0 ,  1.05E+ 15]  \n",
       "11        Categorical     africa, country, capital + (null values)  \n",
       "12          Numerical                                  [59 , 5000]  \n",
       "13          Numerical          Customer id with letter and numbers  \n",
       "14          Numerical                                    [ 1 , 10]  \n",
       "15          Numerical                                     [0 , 1 ]  \n",
       "16        Categorical                           [0.0 ,  1.08E+ 14]  \n",
       "17          Numerical                            [0.0 , 1.08E+ 14]  \n",
       "18  Numerical(Target)                                       [0, 1]  "
      ]
     },
     "execution_count": 5,
     "metadata": {},
     "output_type": "execute_result"
    }
   ],
   "source": [
    "dictionary = pd.read_excel('../data/raw/initial variables.xlsx')\n",
    "\n",
    "dictionary"
   ]
  },
  {
   "cell_type": "markdown",
   "id": "6cf85708",
   "metadata": {},
   "source": [
    "Echamos un vistazo rápido con sweetviz. Resultados están en el archivo 'html'."
   ]
  },
  {
   "cell_type": "code",
   "execution_count": 4,
   "id": "67b4cae2",
   "metadata": {},
   "outputs": [],
   "source": [
    "#analyze_report=sv.analyze(data)\n",
    "#analyze_report.show_html('primer_analisis.html')\n",
    "\n",
    "\n",
    "# Comentamos el codigo porque se trabaja mejor así. El resultado esta en htmls. En caso de necesidad se puede executar tambien."
   ]
  },
  {
   "cell_type": "markdown",
   "id": "52f38d84",
   "metadata": {},
   "source": [
    "# Variable Objectivo y Problema de Negocio"
   ]
  },
  {
   "cell_type": "markdown",
   "id": "8cd3d283",
   "metadata": {},
   "source": [
    "Tras ver el análsis obtenido con sweetviz, podemos ver que existe un pequeño porcentaje de transacciones (menos del 0,1%) que pueden acabar siendo fraude.\n",
    "Pero una transacción fraudulenta pueda causar pérdidas millonarias y genera un gran efecto sobre los clientes y el banco ( empeora su reputación...)\n",
    "Además, el banco puede quedar en la posicion  de hacerse responsable de las pérdidas de los clientes. Por tanto, si se consigue prevenir el fraude, mejor. \n",
    "Nuestra variable objetivo de la base de datos empleada es 'isFraud'. A continuación, la analizaremos."
   ]
  },
  {
   "cell_type": "code",
   "execution_count": 5,
   "id": "01de5c03",
   "metadata": {},
   "outputs": [
    {
     "data": {
      "text/html": [
       "<div>\n",
       "<style scoped>\n",
       "    .dataframe tbody tr th:only-of-type {\n",
       "        vertical-align: middle;\n",
       "    }\n",
       "\n",
       "    .dataframe tbody tr th {\n",
       "        vertical-align: top;\n",
       "    }\n",
       "\n",
       "    .dataframe thead th {\n",
       "        text-align: right;\n",
       "    }\n",
       "</style>\n",
       "<table border=\"1\" class=\"dataframe\">\n",
       "  <thead>\n",
       "    <tr style=\"text-align: right;\">\n",
       "      <th></th>\n",
       "      <th>index</th>\n",
       "      <th>percent</th>\n",
       "      <th>isFraud</th>\n",
       "    </tr>\n",
       "  </thead>\n",
       "  <tbody>\n",
       "    <tr>\n",
       "      <th>0</th>\n",
       "      <td>0</td>\n",
       "      <td>99.89109</td>\n",
       "      <td>1047433</td>\n",
       "    </tr>\n",
       "    <tr>\n",
       "      <th>1</th>\n",
       "      <td>1</td>\n",
       "      <td>0.10891</td>\n",
       "      <td>1142</td>\n",
       "    </tr>\n",
       "  </tbody>\n",
       "</table>\n",
       "</div>"
      ],
      "text/plain": [
       "   index   percent  isFraud\n",
       "0      0  99.89109  1047433\n",
       "1      1   0.10891     1142"
      ]
     },
     "execution_count": 5,
     "metadata": {},
     "output_type": "execute_result"
    }
   ],
   "source": [
    "data['isFraud'].value_counts()\n",
    "\n",
    "df_objective = data ['isFraud'].value_counts(normalize=True).mul(100).rename('percent').reset_index()\n",
    "df_objective_count = data['isFraud'].value_counts().reset_index()\n",
    "df_objective_pc = pd.merge(df_objective, df_objective_count, on=['index'], how='inner')\n",
    "df_objective_pc\n",
    "\n"
   ]
  },
  {
   "cell_type": "code",
   "execution_count": 6,
   "id": "41e7afc5",
   "metadata": {},
   "outputs": [
    {
     "data": {
      "application/vnd.plotly.v1+json": {
       "config": {
        "plotlyServerURL": "https://plot.ly"
       },
       "data": [
        {
         "alignmentgroup": "True",
         "bingroup": "x",
         "histfunc": "sum",
         "hovertemplate": "variable=percent<br>Fraud=%{x}<br>sum of value=%{y}<extra></extra>",
         "legendgroup": "percent",
         "marker": {
          "color": "#636efa",
          "pattern": {
           "shape": ""
          }
         },
         "name": "percent",
         "offsetgroup": "percent",
         "orientation": "v",
         "showlegend": true,
         "type": "histogram",
         "x": [
          0,
          1
         ],
         "xaxis": "x",
         "y": [
          99.89109028920201,
          0.10890971079798775
         ],
         "yaxis": "y"
        }
       ],
       "layout": {
        "barmode": "relative",
        "legend": {
         "title": {
          "text": "variable"
         },
         "tracegroupgap": 0
        },
        "margin": {
         "t": 60
        },
        "template": {
         "data": {
          "bar": [
           {
            "error_x": {
             "color": "#2a3f5f"
            },
            "error_y": {
             "color": "#2a3f5f"
            },
            "marker": {
             "line": {
              "color": "#E5ECF6",
              "width": 0.5
             },
             "pattern": {
              "fillmode": "overlay",
              "size": 10,
              "solidity": 0.2
             }
            },
            "type": "bar"
           }
          ],
          "barpolar": [
           {
            "marker": {
             "line": {
              "color": "#E5ECF6",
              "width": 0.5
             },
             "pattern": {
              "fillmode": "overlay",
              "size": 10,
              "solidity": 0.2
             }
            },
            "type": "barpolar"
           }
          ],
          "carpet": [
           {
            "aaxis": {
             "endlinecolor": "#2a3f5f",
             "gridcolor": "white",
             "linecolor": "white",
             "minorgridcolor": "white",
             "startlinecolor": "#2a3f5f"
            },
            "baxis": {
             "endlinecolor": "#2a3f5f",
             "gridcolor": "white",
             "linecolor": "white",
             "minorgridcolor": "white",
             "startlinecolor": "#2a3f5f"
            },
            "type": "carpet"
           }
          ],
          "choropleth": [
           {
            "colorbar": {
             "outlinewidth": 0,
             "ticks": ""
            },
            "type": "choropleth"
           }
          ],
          "contour": [
           {
            "colorbar": {
             "outlinewidth": 0,
             "ticks": ""
            },
            "colorscale": [
             [
              0,
              "#0d0887"
             ],
             [
              0.1111111111111111,
              "#46039f"
             ],
             [
              0.2222222222222222,
              "#7201a8"
             ],
             [
              0.3333333333333333,
              "#9c179e"
             ],
             [
              0.4444444444444444,
              "#bd3786"
             ],
             [
              0.5555555555555556,
              "#d8576b"
             ],
             [
              0.6666666666666666,
              "#ed7953"
             ],
             [
              0.7777777777777778,
              "#fb9f3a"
             ],
             [
              0.8888888888888888,
              "#fdca26"
             ],
             [
              1,
              "#f0f921"
             ]
            ],
            "type": "contour"
           }
          ],
          "contourcarpet": [
           {
            "colorbar": {
             "outlinewidth": 0,
             "ticks": ""
            },
            "type": "contourcarpet"
           }
          ],
          "heatmap": [
           {
            "colorbar": {
             "outlinewidth": 0,
             "ticks": ""
            },
            "colorscale": [
             [
              0,
              "#0d0887"
             ],
             [
              0.1111111111111111,
              "#46039f"
             ],
             [
              0.2222222222222222,
              "#7201a8"
             ],
             [
              0.3333333333333333,
              "#9c179e"
             ],
             [
              0.4444444444444444,
              "#bd3786"
             ],
             [
              0.5555555555555556,
              "#d8576b"
             ],
             [
              0.6666666666666666,
              "#ed7953"
             ],
             [
              0.7777777777777778,
              "#fb9f3a"
             ],
             [
              0.8888888888888888,
              "#fdca26"
             ],
             [
              1,
              "#f0f921"
             ]
            ],
            "type": "heatmap"
           }
          ],
          "heatmapgl": [
           {
            "colorbar": {
             "outlinewidth": 0,
             "ticks": ""
            },
            "colorscale": [
             [
              0,
              "#0d0887"
             ],
             [
              0.1111111111111111,
              "#46039f"
             ],
             [
              0.2222222222222222,
              "#7201a8"
             ],
             [
              0.3333333333333333,
              "#9c179e"
             ],
             [
              0.4444444444444444,
              "#bd3786"
             ],
             [
              0.5555555555555556,
              "#d8576b"
             ],
             [
              0.6666666666666666,
              "#ed7953"
             ],
             [
              0.7777777777777778,
              "#fb9f3a"
             ],
             [
              0.8888888888888888,
              "#fdca26"
             ],
             [
              1,
              "#f0f921"
             ]
            ],
            "type": "heatmapgl"
           }
          ],
          "histogram": [
           {
            "marker": {
             "pattern": {
              "fillmode": "overlay",
              "size": 10,
              "solidity": 0.2
             }
            },
            "type": "histogram"
           }
          ],
          "histogram2d": [
           {
            "colorbar": {
             "outlinewidth": 0,
             "ticks": ""
            },
            "colorscale": [
             [
              0,
              "#0d0887"
             ],
             [
              0.1111111111111111,
              "#46039f"
             ],
             [
              0.2222222222222222,
              "#7201a8"
             ],
             [
              0.3333333333333333,
              "#9c179e"
             ],
             [
              0.4444444444444444,
              "#bd3786"
             ],
             [
              0.5555555555555556,
              "#d8576b"
             ],
             [
              0.6666666666666666,
              "#ed7953"
             ],
             [
              0.7777777777777778,
              "#fb9f3a"
             ],
             [
              0.8888888888888888,
              "#fdca26"
             ],
             [
              1,
              "#f0f921"
             ]
            ],
            "type": "histogram2d"
           }
          ],
          "histogram2dcontour": [
           {
            "colorbar": {
             "outlinewidth": 0,
             "ticks": ""
            },
            "colorscale": [
             [
              0,
              "#0d0887"
             ],
             [
              0.1111111111111111,
              "#46039f"
             ],
             [
              0.2222222222222222,
              "#7201a8"
             ],
             [
              0.3333333333333333,
              "#9c179e"
             ],
             [
              0.4444444444444444,
              "#bd3786"
             ],
             [
              0.5555555555555556,
              "#d8576b"
             ],
             [
              0.6666666666666666,
              "#ed7953"
             ],
             [
              0.7777777777777778,
              "#fb9f3a"
             ],
             [
              0.8888888888888888,
              "#fdca26"
             ],
             [
              1,
              "#f0f921"
             ]
            ],
            "type": "histogram2dcontour"
           }
          ],
          "mesh3d": [
           {
            "colorbar": {
             "outlinewidth": 0,
             "ticks": ""
            },
            "type": "mesh3d"
           }
          ],
          "parcoords": [
           {
            "line": {
             "colorbar": {
              "outlinewidth": 0,
              "ticks": ""
             }
            },
            "type": "parcoords"
           }
          ],
          "pie": [
           {
            "automargin": true,
            "type": "pie"
           }
          ],
          "scatter": [
           {
            "fillpattern": {
             "fillmode": "overlay",
             "size": 10,
             "solidity": 0.2
            },
            "type": "scatter"
           }
          ],
          "scatter3d": [
           {
            "line": {
             "colorbar": {
              "outlinewidth": 0,
              "ticks": ""
             }
            },
            "marker": {
             "colorbar": {
              "outlinewidth": 0,
              "ticks": ""
             }
            },
            "type": "scatter3d"
           }
          ],
          "scattercarpet": [
           {
            "marker": {
             "colorbar": {
              "outlinewidth": 0,
              "ticks": ""
             }
            },
            "type": "scattercarpet"
           }
          ],
          "scattergeo": [
           {
            "marker": {
             "colorbar": {
              "outlinewidth": 0,
              "ticks": ""
             }
            },
            "type": "scattergeo"
           }
          ],
          "scattergl": [
           {
            "marker": {
             "colorbar": {
              "outlinewidth": 0,
              "ticks": ""
             }
            },
            "type": "scattergl"
           }
          ],
          "scattermapbox": [
           {
            "marker": {
             "colorbar": {
              "outlinewidth": 0,
              "ticks": ""
             }
            },
            "type": "scattermapbox"
           }
          ],
          "scatterpolar": [
           {
            "marker": {
             "colorbar": {
              "outlinewidth": 0,
              "ticks": ""
             }
            },
            "type": "scatterpolar"
           }
          ],
          "scatterpolargl": [
           {
            "marker": {
             "colorbar": {
              "outlinewidth": 0,
              "ticks": ""
             }
            },
            "type": "scatterpolargl"
           }
          ],
          "scatterternary": [
           {
            "marker": {
             "colorbar": {
              "outlinewidth": 0,
              "ticks": ""
             }
            },
            "type": "scatterternary"
           }
          ],
          "surface": [
           {
            "colorbar": {
             "outlinewidth": 0,
             "ticks": ""
            },
            "colorscale": [
             [
              0,
              "#0d0887"
             ],
             [
              0.1111111111111111,
              "#46039f"
             ],
             [
              0.2222222222222222,
              "#7201a8"
             ],
             [
              0.3333333333333333,
              "#9c179e"
             ],
             [
              0.4444444444444444,
              "#bd3786"
             ],
             [
              0.5555555555555556,
              "#d8576b"
             ],
             [
              0.6666666666666666,
              "#ed7953"
             ],
             [
              0.7777777777777778,
              "#fb9f3a"
             ],
             [
              0.8888888888888888,
              "#fdca26"
             ],
             [
              1,
              "#f0f921"
             ]
            ],
            "type": "surface"
           }
          ],
          "table": [
           {
            "cells": {
             "fill": {
              "color": "#EBF0F8"
             },
             "line": {
              "color": "white"
             }
            },
            "header": {
             "fill": {
              "color": "#C8D4E3"
             },
             "line": {
              "color": "white"
             }
            },
            "type": "table"
           }
          ]
         },
         "layout": {
          "annotationdefaults": {
           "arrowcolor": "#2a3f5f",
           "arrowhead": 0,
           "arrowwidth": 1
          },
          "autotypenumbers": "strict",
          "coloraxis": {
           "colorbar": {
            "outlinewidth": 0,
            "ticks": ""
           }
          },
          "colorscale": {
           "diverging": [
            [
             0,
             "#8e0152"
            ],
            [
             0.1,
             "#c51b7d"
            ],
            [
             0.2,
             "#de77ae"
            ],
            [
             0.3,
             "#f1b6da"
            ],
            [
             0.4,
             "#fde0ef"
            ],
            [
             0.5,
             "#f7f7f7"
            ],
            [
             0.6,
             "#e6f5d0"
            ],
            [
             0.7,
             "#b8e186"
            ],
            [
             0.8,
             "#7fbc41"
            ],
            [
             0.9,
             "#4d9221"
            ],
            [
             1,
             "#276419"
            ]
           ],
           "sequential": [
            [
             0,
             "#0d0887"
            ],
            [
             0.1111111111111111,
             "#46039f"
            ],
            [
             0.2222222222222222,
             "#7201a8"
            ],
            [
             0.3333333333333333,
             "#9c179e"
            ],
            [
             0.4444444444444444,
             "#bd3786"
            ],
            [
             0.5555555555555556,
             "#d8576b"
            ],
            [
             0.6666666666666666,
             "#ed7953"
            ],
            [
             0.7777777777777778,
             "#fb9f3a"
            ],
            [
             0.8888888888888888,
             "#fdca26"
            ],
            [
             1,
             "#f0f921"
            ]
           ],
           "sequentialminus": [
            [
             0,
             "#0d0887"
            ],
            [
             0.1111111111111111,
             "#46039f"
            ],
            [
             0.2222222222222222,
             "#7201a8"
            ],
            [
             0.3333333333333333,
             "#9c179e"
            ],
            [
             0.4444444444444444,
             "#bd3786"
            ],
            [
             0.5555555555555556,
             "#d8576b"
            ],
            [
             0.6666666666666666,
             "#ed7953"
            ],
            [
             0.7777777777777778,
             "#fb9f3a"
            ],
            [
             0.8888888888888888,
             "#fdca26"
            ],
            [
             1,
             "#f0f921"
            ]
           ]
          },
          "colorway": [
           "#636efa",
           "#EF553B",
           "#00cc96",
           "#ab63fa",
           "#FFA15A",
           "#19d3f3",
           "#FF6692",
           "#B6E880",
           "#FF97FF",
           "#FECB52"
          ],
          "font": {
           "color": "#2a3f5f"
          },
          "geo": {
           "bgcolor": "white",
           "lakecolor": "white",
           "landcolor": "#E5ECF6",
           "showlakes": true,
           "showland": true,
           "subunitcolor": "white"
          },
          "hoverlabel": {
           "align": "left"
          },
          "hovermode": "closest",
          "mapbox": {
           "style": "light"
          },
          "paper_bgcolor": "white",
          "plot_bgcolor": "#E5ECF6",
          "polar": {
           "angularaxis": {
            "gridcolor": "white",
            "linecolor": "white",
            "ticks": ""
           },
           "bgcolor": "#E5ECF6",
           "radialaxis": {
            "gridcolor": "white",
            "linecolor": "white",
            "ticks": ""
           }
          },
          "scene": {
           "xaxis": {
            "backgroundcolor": "#E5ECF6",
            "gridcolor": "white",
            "gridwidth": 2,
            "linecolor": "white",
            "showbackground": true,
            "ticks": "",
            "zerolinecolor": "white"
           },
           "yaxis": {
            "backgroundcolor": "#E5ECF6",
            "gridcolor": "white",
            "gridwidth": 2,
            "linecolor": "white",
            "showbackground": true,
            "ticks": "",
            "zerolinecolor": "white"
           },
           "zaxis": {
            "backgroundcolor": "#E5ECF6",
            "gridcolor": "white",
            "gridwidth": 2,
            "linecolor": "white",
            "showbackground": true,
            "ticks": "",
            "zerolinecolor": "white"
           }
          },
          "shapedefaults": {
           "line": {
            "color": "#2a3f5f"
           }
          },
          "ternary": {
           "aaxis": {
            "gridcolor": "white",
            "linecolor": "white",
            "ticks": ""
           },
           "baxis": {
            "gridcolor": "white",
            "linecolor": "white",
            "ticks": ""
           },
           "bgcolor": "#E5ECF6",
           "caxis": {
            "gridcolor": "white",
            "linecolor": "white",
            "ticks": ""
           }
          },
          "title": {
           "x": 0.05
          },
          "xaxis": {
           "automargin": true,
           "gridcolor": "white",
           "linecolor": "white",
           "ticks": "",
           "title": {
            "standoff": 15
           },
           "zerolinecolor": "white",
           "zerolinewidth": 2
          },
          "yaxis": {
           "automargin": true,
           "gridcolor": "white",
           "linecolor": "white",
           "ticks": "",
           "title": {
            "standoff": 15
           },
           "zerolinecolor": "white",
           "zerolinewidth": 2
          }
         }
        },
        "xaxis": {
         "anchor": "y",
         "domain": [
          0,
          1
         ],
         "title": {
          "text": "Fraud"
         }
        },
        "yaxis": {
         "anchor": "x",
         "domain": [
          0,
          1
         ],
         "title": {
          "text": "sum of value"
         }
        }
       }
      }
     },
     "metadata": {},
     "output_type": "display_data"
    }
   ],
   "source": [
    "fig = px.histogram(df_objective_pc, x='index', y=['percent'], labels={'index':'Fraud'})\n",
    "fig.show()\n",
    "\n"
   ]
  },
  {
   "cell_type": "markdown",
   "id": "d3411f57",
   "metadata": {},
   "source": [
    "# Features"
   ]
  },
  {
   "cell_type": "code",
   "execution_count": 7,
   "id": "f9a40f5d",
   "metadata": {},
   "outputs": [
    {
     "data": {
      "text/html": [
       "<div>\n",
       "<style scoped>\n",
       "    .dataframe tbody tr th:only-of-type {\n",
       "        vertical-align: middle;\n",
       "    }\n",
       "\n",
       "    .dataframe tbody tr th {\n",
       "        vertical-align: top;\n",
       "    }\n",
       "\n",
       "    .dataframe thead th {\n",
       "        text-align: right;\n",
       "    }\n",
       "</style>\n",
       "<table border=\"1\" class=\"dataframe\">\n",
       "  <thead>\n",
       "    <tr style=\"text-align: right;\">\n",
       "      <th></th>\n",
       "      <th>feature_type</th>\n",
       "      <th>count</th>\n",
       "    </tr>\n",
       "  </thead>\n",
       "  <tbody>\n",
       "    <tr>\n",
       "      <th>0</th>\n",
       "      <td>int64</td>\n",
       "      <td>6</td>\n",
       "    </tr>\n",
       "    <tr>\n",
       "      <th>1</th>\n",
       "      <td>float64</td>\n",
       "      <td>5</td>\n",
       "    </tr>\n",
       "    <tr>\n",
       "      <th>2</th>\n",
       "      <td>object</td>\n",
       "      <td>8</td>\n",
       "    </tr>\n",
       "  </tbody>\n",
       "</table>\n",
       "</div>"
      ],
      "text/plain": [
       "  feature_type  count\n",
       "0        int64      6\n",
       "1      float64      5\n",
       "2       object      8"
      ]
     },
     "execution_count": 7,
     "metadata": {},
     "output_type": "execute_result"
    }
   ],
   "source": [
    "data.dtypes.sort_values().to_frame('feature_type').groupby(by = 'feature_type').size().to_frame('count').reset_index()"
   ]
  },
  {
   "cell_type": "markdown",
   "id": "fa0fa1e5",
   "metadata": {},
   "source": [
    "Las variables que componen nuestro dataset son: 8 variables categóricas, 10 numéricas"
   ]
  },
  {
   "cell_type": "code",
   "execution_count": 8,
   "id": "9785d658",
   "metadata": {},
   "outputs": [],
   "source": [
    "data_dtypes = pd.merge(data.isnull().sum(axis = 0).sort_values().to_frame('missing_value').reset_index(),\n",
    "                             data.dtypes.to_frame('feature_type').reset_index(),\n",
    "                             on = 'index',\n",
    "                             how = 'inner')"
   ]
  },
  {
   "cell_type": "code",
   "execution_count": 9,
   "id": "f1fb9371",
   "metadata": {},
   "outputs": [
    {
     "data": {
      "text/html": [
       "<div>\n",
       "<style scoped>\n",
       "    .dataframe tbody tr th:only-of-type {\n",
       "        vertical-align: middle;\n",
       "    }\n",
       "\n",
       "    .dataframe tbody tr th {\n",
       "        vertical-align: top;\n",
       "    }\n",
       "\n",
       "    .dataframe thead th {\n",
       "        text-align: right;\n",
       "    }\n",
       "</style>\n",
       "<table border=\"1\" class=\"dataframe\">\n",
       "  <thead>\n",
       "    <tr style=\"text-align: right;\">\n",
       "      <th></th>\n",
       "      <th>index</th>\n",
       "      <th>missing_value</th>\n",
       "      <th>feature_type</th>\n",
       "    </tr>\n",
       "  </thead>\n",
       "  <tbody>\n",
       "    <tr>\n",
       "      <th>0</th>\n",
       "      <td>step</td>\n",
       "      <td>0</td>\n",
       "      <td>int64</td>\n",
       "    </tr>\n",
       "    <tr>\n",
       "      <th>2</th>\n",
       "      <td>security_alert</td>\n",
       "      <td>0</td>\n",
       "      <td>int64</td>\n",
       "    </tr>\n",
       "    <tr>\n",
       "      <th>3</th>\n",
       "      <td>user_connections</td>\n",
       "      <td>0</td>\n",
       "      <td>int64</td>\n",
       "    </tr>\n",
       "    <tr>\n",
       "      <th>5</th>\n",
       "      <td>user_number</td>\n",
       "      <td>0</td>\n",
       "      <td>int64</td>\n",
       "    </tr>\n",
       "    <tr>\n",
       "      <th>8</th>\n",
       "      <td>age</td>\n",
       "      <td>0</td>\n",
       "      <td>int64</td>\n",
       "    </tr>\n",
       "    <tr>\n",
       "      <th>14</th>\n",
       "      <td>isFraud</td>\n",
       "      <td>0</td>\n",
       "      <td>int64</td>\n",
       "    </tr>\n",
       "    <tr>\n",
       "      <th>1</th>\n",
       "      <td>oldbalanceDest</td>\n",
       "      <td>0</td>\n",
       "      <td>float64</td>\n",
       "    </tr>\n",
       "    <tr>\n",
       "      <th>6</th>\n",
       "      <td>newbalanceOrig</td>\n",
       "      <td>0</td>\n",
       "      <td>float64</td>\n",
       "    </tr>\n",
       "    <tr>\n",
       "      <th>7</th>\n",
       "      <td>newbalanceDest</td>\n",
       "      <td>0</td>\n",
       "      <td>float64</td>\n",
       "    </tr>\n",
       "    <tr>\n",
       "      <th>11</th>\n",
       "      <td>amount</td>\n",
       "      <td>0</td>\n",
       "      <td>float64</td>\n",
       "    </tr>\n",
       "    <tr>\n",
       "      <th>13</th>\n",
       "      <td>oldbalanceOrg</td>\n",
       "      <td>0</td>\n",
       "      <td>float64</td>\n",
       "    </tr>\n",
       "    <tr>\n",
       "      <th>4</th>\n",
       "      <td>nameDest</td>\n",
       "      <td>0</td>\n",
       "      <td>object</td>\n",
       "    </tr>\n",
       "    <tr>\n",
       "      <th>9</th>\n",
       "      <td>nameOrig</td>\n",
       "      <td>0</td>\n",
       "      <td>object</td>\n",
       "    </tr>\n",
       "    <tr>\n",
       "      <th>10</th>\n",
       "      <td>connection_time</td>\n",
       "      <td>0</td>\n",
       "      <td>object</td>\n",
       "    </tr>\n",
       "    <tr>\n",
       "      <th>12</th>\n",
       "      <td>type</td>\n",
       "      <td>0</td>\n",
       "      <td>object</td>\n",
       "    </tr>\n",
       "    <tr>\n",
       "      <th>15</th>\n",
       "      <td>zone</td>\n",
       "      <td>104414</td>\n",
       "      <td>object</td>\n",
       "    </tr>\n",
       "    <tr>\n",
       "      <th>16</th>\n",
       "      <td>device</td>\n",
       "      <td>104580</td>\n",
       "      <td>object</td>\n",
       "    </tr>\n",
       "    <tr>\n",
       "      <th>17</th>\n",
       "      <td>gender</td>\n",
       "      <td>105118</td>\n",
       "      <td>object</td>\n",
       "    </tr>\n",
       "    <tr>\n",
       "      <th>18</th>\n",
       "      <td>race</td>\n",
       "      <td>105163</td>\n",
       "      <td>object</td>\n",
       "    </tr>\n",
       "  </tbody>\n",
       "</table>\n",
       "</div>"
      ],
      "text/plain": [
       "               index  missing_value feature_type\n",
       "0               step              0        int64\n",
       "2     security_alert              0        int64\n",
       "3   user_connections              0        int64\n",
       "5        user_number              0        int64\n",
       "8                age              0        int64\n",
       "14           isFraud              0        int64\n",
       "1     oldbalanceDest              0      float64\n",
       "6     newbalanceOrig              0      float64\n",
       "7     newbalanceDest              0      float64\n",
       "11            amount              0      float64\n",
       "13     oldbalanceOrg              0      float64\n",
       "4           nameDest              0       object\n",
       "9           nameOrig              0       object\n",
       "10   connection_time              0       object\n",
       "12              type              0       object\n",
       "15              zone         104414       object\n",
       "16            device         104580       object\n",
       "17            gender         105118       object\n",
       "18              race         105163       object"
      ]
     },
     "execution_count": 9,
     "metadata": {},
     "output_type": "execute_result"
    }
   ],
   "source": [
    "data_dtypes.sort_values(['missing_value', 'feature_type'])"
   ]
  },
  {
   "cell_type": "markdown",
   "id": "253c99ec",
   "metadata": {},
   "source": [
    "# Duplicate Columns"
   ]
  },
  {
   "cell_type": "code",
   "execution_count": 10,
   "id": "1765588a",
   "metadata": {},
   "outputs": [],
   "source": [
    "def duplicate_columns(frame):\n",
    "    groups = frame.columns.to_series().groupby(frame.dtypes).groups\n",
    "    dups = []\n",
    "\n",
    "    for t, v in groups.items():\n",
    "\n",
    "        cs = frame[v].columns\n",
    "        vs = frame[v]\n",
    "        lcs = len(cs)\n",
    "\n",
    "        for i in range(lcs):\n",
    "            ia = vs.iloc[:,i].values\n",
    "            for j in range(i+1, lcs):\n",
    "                ja = vs.iloc[:,j].values\n",
    "                if np.array_equal(ia, ja):\n",
    "                    dups.append(cs[i])\n",
    "                    break\n",
    "    return dups"
   ]
  },
  {
   "cell_type": "code",
   "execution_count": 11,
   "id": "444ed79f",
   "metadata": {},
   "outputs": [
    {
     "data": {
      "text/plain": [
       "[]"
      ]
     },
     "execution_count": 11,
     "metadata": {},
     "output_type": "execute_result"
    }
   ],
   "source": [
    "duplicate_cols = duplicate_columns(data)\n",
    "duplicate_cols"
   ]
  },
  {
   "cell_type": "markdown",
   "id": "7f375cd2",
   "metadata": {},
   "source": [
    "No existe columnas duplicadas"
   ]
  },
  {
   "cell_type": "markdown",
   "id": "9ffb4ce4",
   "metadata": {},
   "source": [
    "# Analisis de Nulos"
   ]
  },
  {
   "cell_type": "markdown",
   "id": "38d942f4",
   "metadata": {},
   "source": [
    "En esta sección vamos a valorar y transformar las variables con nulos. Según los resultados de Sweetviz y de nuestro codigo, 'zone', 'device', 'gender', 'race' tienen valores nulos. Sexo y Raza pueden ser nulos, porque a veces la gente no quiere compartir este tipo de informacion, para evitar la discriminacion o simplemetente porque no se sineten identificados con ningún sexo. Creemos que no puede tener un efecto grande, pero como no tenemos muchos fraudes, cuanta más información dispongamos mejor. Por eso dejamos raza y sexo. Vamos a llamar valores nulos como 'Unknow' para gender y 'Other' para raza.\n",
    "\n",
    "Zona sin embargo, sí que puede ser importante.La mayoría de las transacciones fraudes suelen ocurrir en sitios lejanos. Por ejemplo, la mayoría de las transacciones bancarias son SWIFT o con tarjeta de crédito, PayPal...etc. Mayoría de los alternativos son productos de empresas en EEUU. Estas empresas no pueden hacer transacciones con países no permitidos o cuentas relacionadas con grupos teroristas. Por eso,que haya fraude es más fácil en algunos sitios que los otros. Por otra parte, los ladrones  cada vez emplean tecnología más inteligente y pueden evitar las barreras  o utilizar VPN. Por eso puede ser difícl detectarlo. En nuestra caso vamos a llamar los nulos como 'Unknown'.\n",
    "\n",
    "La variable 'Tipo de dispositivo' puede ser también importante. Algunos dispositivos pueden ser más fáciles de hackear que  otros, y puede cambiar el resultado de fraude. Los dispositivos que no sabemos los llamamos 'Unknown' o 'Other'.\n",
    "\n",
    "En este caso quitar nulos nos hace perder mucha información, por ello vamos a evitarlo."
   ]
  },
  {
   "cell_type": "code",
   "execution_count": 12,
   "id": "0fa24329",
   "metadata": {},
   "outputs": [],
   "source": [
    "data = data.fillna({\n",
    "    'gender' : 'unknow',\n",
    "    'race' : 'other',\n",
    "    'zone' : 'unknown',\n",
    "    'device' : 'other',\n",
    "    \n",
    "})\n"
   ]
  },
  {
   "cell_type": "code",
   "execution_count": 13,
   "id": "8f9c35ca",
   "metadata": {},
   "outputs": [
    {
     "data": {
      "text/html": [
       "<div>\n",
       "<style scoped>\n",
       "    .dataframe tbody tr th:only-of-type {\n",
       "        vertical-align: middle;\n",
       "    }\n",
       "\n",
       "    .dataframe tbody tr th {\n",
       "        vertical-align: top;\n",
       "    }\n",
       "\n",
       "    .dataframe thead th {\n",
       "        text-align: right;\n",
       "    }\n",
       "</style>\n",
       "<table border=\"1\" class=\"dataframe\">\n",
       "  <thead>\n",
       "    <tr style=\"text-align: right;\">\n",
       "      <th></th>\n",
       "      <th>index</th>\n",
       "      <th>missing_value</th>\n",
       "      <th>feature_type</th>\n",
       "    </tr>\n",
       "  </thead>\n",
       "  <tbody>\n",
       "    <tr>\n",
       "      <th>0</th>\n",
       "      <td>step</td>\n",
       "      <td>0</td>\n",
       "      <td>int64</td>\n",
       "    </tr>\n",
       "    <tr>\n",
       "      <th>1</th>\n",
       "      <td>oldbalanceDest</td>\n",
       "      <td>0</td>\n",
       "      <td>float64</td>\n",
       "    </tr>\n",
       "    <tr>\n",
       "      <th>2</th>\n",
       "      <td>security_alert</td>\n",
       "      <td>0</td>\n",
       "      <td>int64</td>\n",
       "    </tr>\n",
       "    <tr>\n",
       "      <th>3</th>\n",
       "      <td>user_connections</td>\n",
       "      <td>0</td>\n",
       "      <td>int64</td>\n",
       "    </tr>\n",
       "    <tr>\n",
       "      <th>4</th>\n",
       "      <td>nameDest</td>\n",
       "      <td>0</td>\n",
       "      <td>object</td>\n",
       "    </tr>\n",
       "    <tr>\n",
       "      <th>5</th>\n",
       "      <td>user_number</td>\n",
       "      <td>0</td>\n",
       "      <td>int64</td>\n",
       "    </tr>\n",
       "    <tr>\n",
       "      <th>6</th>\n",
       "      <td>zone</td>\n",
       "      <td>0</td>\n",
       "      <td>object</td>\n",
       "    </tr>\n",
       "    <tr>\n",
       "      <th>7</th>\n",
       "      <td>newbalanceOrig</td>\n",
       "      <td>0</td>\n",
       "      <td>float64</td>\n",
       "    </tr>\n",
       "    <tr>\n",
       "      <th>8</th>\n",
       "      <td>newbalanceDest</td>\n",
       "      <td>0</td>\n",
       "      <td>float64</td>\n",
       "    </tr>\n",
       "    <tr>\n",
       "      <th>9</th>\n",
       "      <td>age</td>\n",
       "      <td>0</td>\n",
       "      <td>int64</td>\n",
       "    </tr>\n",
       "    <tr>\n",
       "      <th>10</th>\n",
       "      <td>race</td>\n",
       "      <td>0</td>\n",
       "      <td>object</td>\n",
       "    </tr>\n",
       "    <tr>\n",
       "      <th>11</th>\n",
       "      <td>nameOrig</td>\n",
       "      <td>0</td>\n",
       "      <td>object</td>\n",
       "    </tr>\n",
       "    <tr>\n",
       "      <th>12</th>\n",
       "      <td>connection_time</td>\n",
       "      <td>0</td>\n",
       "      <td>object</td>\n",
       "    </tr>\n",
       "    <tr>\n",
       "      <th>13</th>\n",
       "      <td>device</td>\n",
       "      <td>0</td>\n",
       "      <td>object</td>\n",
       "    </tr>\n",
       "    <tr>\n",
       "      <th>14</th>\n",
       "      <td>gender</td>\n",
       "      <td>0</td>\n",
       "      <td>object</td>\n",
       "    </tr>\n",
       "    <tr>\n",
       "      <th>15</th>\n",
       "      <td>amount</td>\n",
       "      <td>0</td>\n",
       "      <td>float64</td>\n",
       "    </tr>\n",
       "    <tr>\n",
       "      <th>16</th>\n",
       "      <td>type</td>\n",
       "      <td>0</td>\n",
       "      <td>object</td>\n",
       "    </tr>\n",
       "    <tr>\n",
       "      <th>17</th>\n",
       "      <td>oldbalanceOrg</td>\n",
       "      <td>0</td>\n",
       "      <td>float64</td>\n",
       "    </tr>\n",
       "    <tr>\n",
       "      <th>18</th>\n",
       "      <td>isFraud</td>\n",
       "      <td>0</td>\n",
       "      <td>int64</td>\n",
       "    </tr>\n",
       "  </tbody>\n",
       "</table>\n",
       "</div>"
      ],
      "text/plain": [
       "               index  missing_value feature_type\n",
       "0               step              0        int64\n",
       "1     oldbalanceDest              0      float64\n",
       "2     security_alert              0        int64\n",
       "3   user_connections              0        int64\n",
       "4           nameDest              0       object\n",
       "5        user_number              0        int64\n",
       "6               zone              0       object\n",
       "7     newbalanceOrig              0      float64\n",
       "8     newbalanceDest              0      float64\n",
       "9                age              0        int64\n",
       "10              race              0       object\n",
       "11          nameOrig              0       object\n",
       "12   connection_time              0       object\n",
       "13            device              0       object\n",
       "14            gender              0       object\n",
       "15            amount              0      float64\n",
       "16              type              0       object\n",
       "17     oldbalanceOrg              0      float64\n",
       "18           isFraud              0        int64"
      ]
     },
     "execution_count": 13,
     "metadata": {},
     "output_type": "execute_result"
    }
   ],
   "source": [
    "data_dtypes_n = pd.merge(data.isnull().sum(axis = 0).sort_values().to_frame('missing_value').reset_index(),\n",
    "                             data.dtypes.to_frame('feature_type').reset_index(),\n",
    "                             on = 'index',\n",
    "                             how = 'inner')\n",
    "data_dtypes_n"
   ]
  },
  {
   "cell_type": "markdown",
   "id": "8e4b8e5b",
   "metadata": {},
   "source": [
    "Ya no tenemos valores nulos."
   ]
  },
  {
   "cell_type": "markdown",
   "id": "6b573c32",
   "metadata": {},
   "source": [
    "#  Variables Categoricos"
   ]
  },
  {
   "cell_type": "code",
   "execution_count": 14,
   "id": "f852cb07",
   "metadata": {},
   "outputs": [
    {
     "data": {
      "text/plain": [
       "0    0,140039412\n",
       "1    0,496889534\n",
       "2    0,781150327\n",
       "3    0,565068378\n",
       "4    0,517114493\n",
       "Name: connection_time, dtype: object"
      ]
     },
     "execution_count": 14,
     "metadata": {},
     "output_type": "execute_result"
    }
   ],
   "source": [
    "data.connection_time.head()"
   ]
  },
  {
   "cell_type": "markdown",
   "id": "39bf6ca1",
   "metadata": {},
   "source": [
    "Aparentemente connection_time esta clasificado como object por culpa de estar con coma en vez de con punto. Deberíamos ver este variable como numeric. Porque duracion de connection puede efectar positivamente o negativamente."
   ]
  },
  {
   "cell_type": "code",
   "execution_count": 15,
   "id": "59f82b10",
   "metadata": {},
   "outputs": [
    {
     "data": {
      "text/plain": [
       "0    0.140039\n",
       "1    0.496890\n",
       "2    0.781150\n",
       "3    0.565068\n",
       "4    0.517114\n",
       "Name: connection_time, dtype: float64"
      ]
     },
     "execution_count": 15,
     "metadata": {},
     "output_type": "execute_result"
    }
   ],
   "source": [
    "data = data.assign(**{'connection_time': lambda data: data['connection_time'].str.replace(',', '.').astype(float)})\n",
    "data.connection_time.head()"
   ]
  },
  {
   "cell_type": "code",
   "execution_count": 16,
   "id": "d372eec8",
   "metadata": {},
   "outputs": [
    {
     "data": {
      "text/plain": [
       "0    C1231006815\n",
       "1    C1666544295\n",
       "2    C1305486145\n",
       "3     C840083671\n",
       "4    C2048537720\n",
       "Name: nameOrig, dtype: object"
      ]
     },
     "execution_count": 16,
     "metadata": {},
     "output_type": "execute_result"
    }
   ],
   "source": [
    "data.nameOrig.head()"
   ]
  },
  {
   "cell_type": "code",
   "execution_count": 17,
   "id": "dc93ad01",
   "metadata": {},
   "outputs": [
    {
     "data": {
      "text/plain": [
       "0    M1979787155\n",
       "1    M2044282225\n",
       "2     C553264065\n",
       "3      C38997010\n",
       "4    M1230701703\n",
       "Name: nameDest, dtype: object"
      ]
     },
     "execution_count": 17,
     "metadata": {},
     "output_type": "execute_result"
    }
   ],
   "source": [
    "data.nameDest.head()"
   ]
  },
  {
   "cell_type": "markdown",
   "id": "a3911ffd",
   "metadata": {},
   "source": [
    "nameDest y nameOrig son variables, identificadores para los clientes. Sería preferible conocer el significado de las letras o números, ya que en algunos bancos, el número de cliente nos da mucha informacion. Además, las letras pueden significar el tipo de cliente o si es cliente de este banco o otro banco...etc. Esta información sería muy importante.(Depende de resultados pudieramos ofrecir a los clientes o clientes de otro bancos diferente, por que tienen protocoles de seguridad diferente). Pero con la informacion que tenemos, no lo podemos utilizar. \n",
    "\n",
    "A lo mejor algunos clientes reciben más transacciones con fraude porque no estan cuidando a su seguridad tanto. O atacadores roban directamente estos clientes Pero con este porcentaje de fraudes y némero de clientes(nameOrig tiene mas de 1 millon valores diferentes), no podemos detectar. Por eso, decidimos quitar estas variables."
   ]
  },
  {
   "cell_type": "code",
   "execution_count": 18,
   "id": "2501751a",
   "metadata": {},
   "outputs": [],
   "source": [
    "from sklearn import preprocessing\n"
   ]
  },
  {
   "cell_type": "markdown",
   "id": "3453a1fe",
   "metadata": {},
   "source": [
    "Para poder ver la correlacion implementamos label encoding solo en las variables categóricas para que el algoritmo pueda entender.En este momento no tocamos el dataset."
   ]
  },
  {
   "cell_type": "code",
   "execution_count": 19,
   "id": "54df7497",
   "metadata": {},
   "outputs": [],
   "source": [
    "#Label encoding los variables, numerizacion. Para ver correlaciones.\n",
    "\n",
    "le_nameDest = preprocessing.LabelEncoder()\n",
    "le_nameOrig = preprocessing.LabelEncoder()\n",
    "le_type = preprocessing.LabelEncoder()\n",
    "le_gender = preprocessing.LabelEncoder()\n",
    "le_race = preprocessing.LabelEncoder()\n",
    "le_zone = preprocessing.LabelEncoder()\n",
    "le_device = preprocessing.LabelEncoder()\n"
   ]
  },
  {
   "cell_type": "code",
   "execution_count": 20,
   "id": "a1f53bb1",
   "metadata": {},
   "outputs": [
    {
     "data": {
      "text/html": [
       "<div>\n",
       "<style scoped>\n",
       "    .dataframe tbody tr th:only-of-type {\n",
       "        vertical-align: middle;\n",
       "    }\n",
       "\n",
       "    .dataframe tbody tr th {\n",
       "        vertical-align: top;\n",
       "    }\n",
       "\n",
       "    .dataframe thead th {\n",
       "        text-align: right;\n",
       "    }\n",
       "</style>\n",
       "<table border=\"1\" class=\"dataframe\">\n",
       "  <thead>\n",
       "    <tr style=\"text-align: right;\">\n",
       "      <th></th>\n",
       "      <th>isFraud</th>\n",
       "    </tr>\n",
       "  </thead>\n",
       "  <tbody>\n",
       "    <tr>\n",
       "      <th>0</th>\n",
       "      <td>0</td>\n",
       "    </tr>\n",
       "    <tr>\n",
       "      <th>1</th>\n",
       "      <td>0</td>\n",
       "    </tr>\n",
       "    <tr>\n",
       "      <th>2</th>\n",
       "      <td>1</td>\n",
       "    </tr>\n",
       "    <tr>\n",
       "      <th>3</th>\n",
       "      <td>1</td>\n",
       "    </tr>\n",
       "    <tr>\n",
       "      <th>4</th>\n",
       "      <td>0</td>\n",
       "    </tr>\n",
       "  </tbody>\n",
       "</table>\n",
       "</div>"
      ],
      "text/plain": [
       "   isFraud\n",
       "0        0\n",
       "1        0\n",
       "2        1\n",
       "3        1\n",
       "4        0"
      ]
     },
     "execution_count": 20,
     "metadata": {},
     "output_type": "execute_result"
    }
   ],
   "source": [
    "data_cat = data.filter(items=['nameDest-n','nameOrig-n', 'type-n','gender-n','race-n','zone-n', 'device-n', 'isFraud'])\n",
    "\n",
    "data_cat.head()"
   ]
  },
  {
   "cell_type": "code",
   "execution_count": 21,
   "id": "358d1973",
   "metadata": {},
   "outputs": [
    {
     "data": {
      "text/html": [
       "<div>\n",
       "<style scoped>\n",
       "    .dataframe tbody tr th:only-of-type {\n",
       "        vertical-align: middle;\n",
       "    }\n",
       "\n",
       "    .dataframe tbody tr th {\n",
       "        vertical-align: top;\n",
       "    }\n",
       "\n",
       "    .dataframe thead th {\n",
       "        text-align: right;\n",
       "    }\n",
       "</style>\n",
       "<table border=\"1\" class=\"dataframe\">\n",
       "  <thead>\n",
       "    <tr style=\"text-align: right;\">\n",
       "      <th></th>\n",
       "      <th>step</th>\n",
       "      <th>type</th>\n",
       "      <th>amount</th>\n",
       "      <th>gender</th>\n",
       "      <th>device</th>\n",
       "      <th>connection_time</th>\n",
       "      <th>nameOrig</th>\n",
       "      <th>race</th>\n",
       "      <th>oldbalanceOrg</th>\n",
       "      <th>age</th>\n",
       "      <th>...</th>\n",
       "      <th>oldbalanceDest</th>\n",
       "      <th>newbalanceDest</th>\n",
       "      <th>isFraud</th>\n",
       "      <th>nameDest-n</th>\n",
       "      <th>nameOrig-n</th>\n",
       "      <th>type-n</th>\n",
       "      <th>gender-n</th>\n",
       "      <th>race-n</th>\n",
       "      <th>zone-n</th>\n",
       "      <th>device-n</th>\n",
       "    </tr>\n",
       "  </thead>\n",
       "  <tbody>\n",
       "    <tr>\n",
       "      <th>0</th>\n",
       "      <td>1</td>\n",
       "      <td>PAYMENT</td>\n",
       "      <td>9839.64</td>\n",
       "      <td>man</td>\n",
       "      <td>mac</td>\n",
       "      <td>0.140039</td>\n",
       "      <td>C1231006815</td>\n",
       "      <td>black</td>\n",
       "      <td>170136.0</td>\n",
       "      <td>85</td>\n",
       "      <td>...</td>\n",
       "      <td>0.0</td>\n",
       "      <td>0.0</td>\n",
       "      <td>0</td>\n",
       "      <td>274917</td>\n",
       "      <td>125164</td>\n",
       "      <td>3</td>\n",
       "      <td>0</td>\n",
       "      <td>1</td>\n",
       "      <td>1</td>\n",
       "      <td>1</td>\n",
       "    </tr>\n",
       "    <tr>\n",
       "      <th>1</th>\n",
       "      <td>1</td>\n",
       "      <td>PAYMENT</td>\n",
       "      <td>1864.28</td>\n",
       "      <td>woman</td>\n",
       "      <td>mac</td>\n",
       "      <td>0.496890</td>\n",
       "      <td>C1666544295</td>\n",
       "      <td>asian</td>\n",
       "      <td>21249.0</td>\n",
       "      <td>57</td>\n",
       "      <td>...</td>\n",
       "      <td>0.0</td>\n",
       "      <td>0.0</td>\n",
       "      <td>0</td>\n",
       "      <td>286716</td>\n",
       "      <td>361319</td>\n",
       "      <td>3</td>\n",
       "      <td>2</td>\n",
       "      <td>0</td>\n",
       "      <td>2</td>\n",
       "      <td>1</td>\n",
       "    </tr>\n",
       "    <tr>\n",
       "      <th>2</th>\n",
       "      <td>1</td>\n",
       "      <td>TRANSFER</td>\n",
       "      <td>181.00</td>\n",
       "      <td>man</td>\n",
       "      <td>pc</td>\n",
       "      <td>0.781150</td>\n",
       "      <td>C1305486145</td>\n",
       "      <td>asian</td>\n",
       "      <td>181.0</td>\n",
       "      <td>66</td>\n",
       "      <td>...</td>\n",
       "      <td>0.0</td>\n",
       "      <td>0.0</td>\n",
       "      <td>1</td>\n",
       "      <td>73550</td>\n",
       "      <td>165236</td>\n",
       "      <td>4</td>\n",
       "      <td>0</td>\n",
       "      <td>0</td>\n",
       "      <td>1</td>\n",
       "      <td>3</td>\n",
       "    </tr>\n",
       "    <tr>\n",
       "      <th>3</th>\n",
       "      <td>1</td>\n",
       "      <td>CASH_OUT</td>\n",
       "      <td>181.00</td>\n",
       "      <td>man</td>\n",
       "      <td>mac</td>\n",
       "      <td>0.565068</td>\n",
       "      <td>C840083671</td>\n",
       "      <td>black</td>\n",
       "      <td>181.0</td>\n",
       "      <td>31</td>\n",
       "      <td>...</td>\n",
       "      <td>21182.0</td>\n",
       "      <td>0.0</td>\n",
       "      <td>1</td>\n",
       "      <td>65464</td>\n",
       "      <td>961662</td>\n",
       "      <td>1</td>\n",
       "      <td>0</td>\n",
       "      <td>1</td>\n",
       "      <td>2</td>\n",
       "      <td>1</td>\n",
       "    </tr>\n",
       "    <tr>\n",
       "      <th>4</th>\n",
       "      <td>1</td>\n",
       "      <td>PAYMENT</td>\n",
       "      <td>11668.14</td>\n",
       "      <td>unknow</td>\n",
       "      <td>mac</td>\n",
       "      <td>0.517114</td>\n",
       "      <td>C2048537720</td>\n",
       "      <td>black</td>\n",
       "      <td>41554.0</td>\n",
       "      <td>90</td>\n",
       "      <td>...</td>\n",
       "      <td>0.0</td>\n",
       "      <td>0.0</td>\n",
       "      <td>0</td>\n",
       "      <td>138001</td>\n",
       "      <td>567915</td>\n",
       "      <td>3</td>\n",
       "      <td>1</td>\n",
       "      <td>1</td>\n",
       "      <td>2</td>\n",
       "      <td>1</td>\n",
       "    </tr>\n",
       "  </tbody>\n",
       "</table>\n",
       "<p>5 rows × 26 columns</p>\n",
       "</div>"
      ],
      "text/plain": [
       "   step      type    amount  gender device  connection_time     nameOrig  \\\n",
       "0     1   PAYMENT   9839.64     man    mac         0.140039  C1231006815   \n",
       "1     1   PAYMENT   1864.28   woman    mac         0.496890  C1666544295   \n",
       "2     1  TRANSFER    181.00     man     pc         0.781150  C1305486145   \n",
       "3     1  CASH_OUT    181.00     man    mac         0.565068   C840083671   \n",
       "4     1   PAYMENT  11668.14  unknow    mac         0.517114  C2048537720   \n",
       "\n",
       "    race  oldbalanceOrg  age  ...  oldbalanceDest newbalanceDest  isFraud  \\\n",
       "0  black       170136.0   85  ...             0.0            0.0        0   \n",
       "1  asian        21249.0   57  ...             0.0            0.0        0   \n",
       "2  asian          181.0   66  ...             0.0            0.0        1   \n",
       "3  black          181.0   31  ...         21182.0            0.0        1   \n",
       "4  black        41554.0   90  ...             0.0            0.0        0   \n",
       "\n",
       "  nameDest-n  nameOrig-n  type-n  gender-n  race-n  zone-n  device-n  \n",
       "0     274917      125164       3         0       1       1         1  \n",
       "1     286716      361319       3         2       0       2         1  \n",
       "2      73550      165236       4         0       0       1         3  \n",
       "3      65464      961662       1         0       1       2         1  \n",
       "4     138001      567915       3         1       1       2         1  \n",
       "\n",
       "[5 rows x 26 columns]"
      ]
     },
     "execution_count": 21,
     "metadata": {},
     "output_type": "execute_result"
    }
   ],
   "source": [
    "data['nameDest-n'] = le_nameDest.fit_transform(data['nameDest'])\n",
    "data['nameOrig-n'] = le_nameOrig.fit_transform(data['nameOrig'])\n",
    "data['type-n'] = le_type.fit_transform(data['type'])\n",
    "data['gender-n'] = le_gender.fit_transform(data['gender'])\n",
    "data['race-n'] = le_race.fit_transform(data['race'])\n",
    "data['zone-n'] = le_zone.fit_transform(data['zone'])\n",
    "data['device-n'] = le_device.fit_transform(data['device'])\n",
    "data.head()"
   ]
  },
  {
   "cell_type": "code",
   "execution_count": 22,
   "id": "fd8dfca2",
   "metadata": {},
   "outputs": [
    {
     "data": {
      "text/html": [
       "<div>\n",
       "<style scoped>\n",
       "    .dataframe tbody tr th:only-of-type {\n",
       "        vertical-align: middle;\n",
       "    }\n",
       "\n",
       "    .dataframe tbody tr th {\n",
       "        vertical-align: top;\n",
       "    }\n",
       "\n",
       "    .dataframe thead th {\n",
       "        text-align: right;\n",
       "    }\n",
       "</style>\n",
       "<table border=\"1\" class=\"dataframe\">\n",
       "  <thead>\n",
       "    <tr style=\"text-align: right;\">\n",
       "      <th></th>\n",
       "      <th>step</th>\n",
       "      <th>amount</th>\n",
       "      <th>connection_time</th>\n",
       "      <th>oldbalanceOrg</th>\n",
       "      <th>age</th>\n",
       "      <th>newbalanceOrig</th>\n",
       "      <th>user_number</th>\n",
       "      <th>user_connections</th>\n",
       "      <th>security_alert</th>\n",
       "      <th>oldbalanceDest</th>\n",
       "      <th>newbalanceDest</th>\n",
       "      <th>isFraud</th>\n",
       "    </tr>\n",
       "  </thead>\n",
       "  <tbody>\n",
       "    <tr>\n",
       "      <th>0</th>\n",
       "      <td>1</td>\n",
       "      <td>9839.64</td>\n",
       "      <td>0.140039</td>\n",
       "      <td>170136.0</td>\n",
       "      <td>85</td>\n",
       "      <td>160296.36</td>\n",
       "      <td>138</td>\n",
       "      <td>5</td>\n",
       "      <td>1</td>\n",
       "      <td>0.0</td>\n",
       "      <td>0.0</td>\n",
       "      <td>0</td>\n",
       "    </tr>\n",
       "    <tr>\n",
       "      <th>1</th>\n",
       "      <td>1</td>\n",
       "      <td>1864.28</td>\n",
       "      <td>0.496890</td>\n",
       "      <td>21249.0</td>\n",
       "      <td>57</td>\n",
       "      <td>19384.72</td>\n",
       "      <td>909</td>\n",
       "      <td>1</td>\n",
       "      <td>0</td>\n",
       "      <td>0.0</td>\n",
       "      <td>0.0</td>\n",
       "      <td>0</td>\n",
       "    </tr>\n",
       "    <tr>\n",
       "      <th>2</th>\n",
       "      <td>1</td>\n",
       "      <td>181.00</td>\n",
       "      <td>0.781150</td>\n",
       "      <td>181.0</td>\n",
       "      <td>66</td>\n",
       "      <td>0.00</td>\n",
       "      <td>2569</td>\n",
       "      <td>10</td>\n",
       "      <td>0</td>\n",
       "      <td>0.0</td>\n",
       "      <td>0.0</td>\n",
       "      <td>1</td>\n",
       "    </tr>\n",
       "    <tr>\n",
       "      <th>3</th>\n",
       "      <td>1</td>\n",
       "      <td>181.00</td>\n",
       "      <td>0.565068</td>\n",
       "      <td>181.0</td>\n",
       "      <td>31</td>\n",
       "      <td>0.00</td>\n",
       "      <td>1787</td>\n",
       "      <td>3</td>\n",
       "      <td>0</td>\n",
       "      <td>21182.0</td>\n",
       "      <td>0.0</td>\n",
       "      <td>1</td>\n",
       "    </tr>\n",
       "    <tr>\n",
       "      <th>4</th>\n",
       "      <td>1</td>\n",
       "      <td>11668.14</td>\n",
       "      <td>0.517114</td>\n",
       "      <td>41554.0</td>\n",
       "      <td>90</td>\n",
       "      <td>29885.86</td>\n",
       "      <td>3997</td>\n",
       "      <td>8</td>\n",
       "      <td>0</td>\n",
       "      <td>0.0</td>\n",
       "      <td>0.0</td>\n",
       "      <td>0</td>\n",
       "    </tr>\n",
       "  </tbody>\n",
       "</table>\n",
       "</div>"
      ],
      "text/plain": [
       "   step    amount  connection_time  oldbalanceOrg  age  newbalanceOrig  \\\n",
       "0     1   9839.64         0.140039       170136.0   85       160296.36   \n",
       "1     1   1864.28         0.496890        21249.0   57        19384.72   \n",
       "2     1    181.00         0.781150          181.0   66            0.00   \n",
       "3     1    181.00         0.565068          181.0   31            0.00   \n",
       "4     1  11668.14         0.517114        41554.0   90        29885.86   \n",
       "\n",
       "   user_number  user_connections  security_alert  oldbalanceDest  \\\n",
       "0          138                 5               1             0.0   \n",
       "1          909                 1               0             0.0   \n",
       "2         2569                10               0             0.0   \n",
       "3         1787                 3               0         21182.0   \n",
       "4         3997                 8               0             0.0   \n",
       "\n",
       "   newbalanceDest  isFraud  \n",
       "0             0.0        0  \n",
       "1             0.0        0  \n",
       "2             0.0        1  \n",
       "3             0.0        1  \n",
       "4             0.0        0  "
      ]
     },
     "execution_count": 22,
     "metadata": {},
     "output_type": "execute_result"
    }
   ],
   "source": [
    "data_cat = data.filter(items=['nameDest-n','nameOrig-n', 'type-n','gender-n','race-n','zone-n', 'device-n', 'isFraud'])\n",
    "\n",
    "data_cat.head()\n",
    "data_numeric = data.drop(columns = ['nameDest-n','nameOrig-n', 'type-n','gender-n','race-n','zone-n', 'device-n', 'nameDest','nameOrig', 'type','gender','race','zone', 'device'])\n",
    "\n",
    "data_numeric.head()"
   ]
  },
  {
   "cell_type": "code",
   "execution_count": 23,
   "id": "18546397",
   "metadata": {},
   "outputs": [
    {
     "data": {
      "image/png": "[encoded data removed]",
      "text/plain": [
       "<Figure size 1000x800 with 2 Axes>"
      ]
     },
     "metadata": {},
     "output_type": "display_data"
    }
   ],
   "source": [
    "corr_cat = data_cat.corr(method = 'spearman')\n",
    "\n",
    "plt.figure(figsize = (10, 8))\n",
    "sns.heatmap(corr_cat.abs(), cmap ='viridis' )\n",
    "plt.show()\n"
   ]
  },
  {
   "cell_type": "markdown",
   "id": "5119af87",
   "metadata": {},
   "source": [
    "Podemos observar que la variable type es muy importante, ya que esta relacionada con cuenta de destino. Esto puede deberse a que los estafadores o ladrones no lo han hecho una sola vez.\n"
   ]
  },
  {
   "cell_type": "markdown",
   "id": "61ba7d32",
   "metadata": {},
   "source": [
    "# Variables Numericos"
   ]
  },
  {
   "cell_type": "markdown",
   "id": "e21c4b17",
   "metadata": {},
   "source": [
    "Por datos numéricos calculamos correlación de pearson\n"
   ]
  },
  {
   "cell_type": "code",
   "execution_count": 24,
   "id": "ab6ba0bd",
   "metadata": {},
   "outputs": [
    {
     "data": {
      "image/png": "[encoded data removed]",
      "text/plain": [
       "<Figure size 1000x800 with 2 Axes>"
      ]
     },
     "metadata": {},
     "output_type": "display_data"
    }
   ],
   "source": [
    "corr_num = data_numeric.corr(method = 'pearson')\n",
    "\n",
    "plt.figure(figsize = (10, 8))\n",
    "sns.heatmap(corr_num.abs(), cmap ='viridis' )\n",
    "plt.show()\n"
   ]
  },
  {
   "cell_type": "code",
   "execution_count": 25,
   "id": "4a5e28a6",
   "metadata": {},
   "outputs": [
    {
     "name": "stdout",
     "output_type": "stream",
     "text": [
      "El dataset está compuesto por 1048575 filas y 26 columnas\n"
     ]
    },
    {
     "data": {
      "text/html": [
       "<div>\n",
       "<style scoped>\n",
       "    .dataframe tbody tr th:only-of-type {\n",
       "        vertical-align: middle;\n",
       "    }\n",
       "\n",
       "    .dataframe tbody tr th {\n",
       "        vertical-align: top;\n",
       "    }\n",
       "\n",
       "    .dataframe thead th {\n",
       "        text-align: right;\n",
       "    }\n",
       "</style>\n",
       "<table border=\"1\" class=\"dataframe\">\n",
       "  <thead>\n",
       "    <tr style=\"text-align: right;\">\n",
       "      <th></th>\n",
       "      <th>step</th>\n",
       "      <th>type</th>\n",
       "      <th>amount</th>\n",
       "      <th>gender</th>\n",
       "      <th>device</th>\n",
       "      <th>connection_time</th>\n",
       "      <th>nameOrig</th>\n",
       "      <th>race</th>\n",
       "      <th>oldbalanceOrg</th>\n",
       "      <th>age</th>\n",
       "      <th>...</th>\n",
       "      <th>oldbalanceDest</th>\n",
       "      <th>newbalanceDest</th>\n",
       "      <th>isFraud</th>\n",
       "      <th>nameDest-n</th>\n",
       "      <th>nameOrig-n</th>\n",
       "      <th>type-n</th>\n",
       "      <th>gender-n</th>\n",
       "      <th>race-n</th>\n",
       "      <th>zone-n</th>\n",
       "      <th>device-n</th>\n",
       "    </tr>\n",
       "  </thead>\n",
       "  <tbody>\n",
       "    <tr>\n",
       "      <th>0</th>\n",
       "      <td>1</td>\n",
       "      <td>PAYMENT</td>\n",
       "      <td>9839.64</td>\n",
       "      <td>man</td>\n",
       "      <td>mac</td>\n",
       "      <td>0.140039</td>\n",
       "      <td>C1231006815</td>\n",
       "      <td>black</td>\n",
       "      <td>170136.0</td>\n",
       "      <td>85</td>\n",
       "      <td>...</td>\n",
       "      <td>0.0</td>\n",
       "      <td>0.0</td>\n",
       "      <td>0</td>\n",
       "      <td>274917</td>\n",
       "      <td>125164</td>\n",
       "      <td>3</td>\n",
       "      <td>0</td>\n",
       "      <td>1</td>\n",
       "      <td>1</td>\n",
       "      <td>1</td>\n",
       "    </tr>\n",
       "    <tr>\n",
       "      <th>1</th>\n",
       "      <td>1</td>\n",
       "      <td>PAYMENT</td>\n",
       "      <td>1864.28</td>\n",
       "      <td>woman</td>\n",
       "      <td>mac</td>\n",
       "      <td>0.496890</td>\n",
       "      <td>C1666544295</td>\n",
       "      <td>asian</td>\n",
       "      <td>21249.0</td>\n",
       "      <td>57</td>\n",
       "      <td>...</td>\n",
       "      <td>0.0</td>\n",
       "      <td>0.0</td>\n",
       "      <td>0</td>\n",
       "      <td>286716</td>\n",
       "      <td>361319</td>\n",
       "      <td>3</td>\n",
       "      <td>2</td>\n",
       "      <td>0</td>\n",
       "      <td>2</td>\n",
       "      <td>1</td>\n",
       "    </tr>\n",
       "    <tr>\n",
       "      <th>2</th>\n",
       "      <td>1</td>\n",
       "      <td>TRANSFER</td>\n",
       "      <td>181.00</td>\n",
       "      <td>man</td>\n",
       "      <td>pc</td>\n",
       "      <td>0.781150</td>\n",
       "      <td>C1305486145</td>\n",
       "      <td>asian</td>\n",
       "      <td>181.0</td>\n",
       "      <td>66</td>\n",
       "      <td>...</td>\n",
       "      <td>0.0</td>\n",
       "      <td>0.0</td>\n",
       "      <td>1</td>\n",
       "      <td>73550</td>\n",
       "      <td>165236</td>\n",
       "      <td>4</td>\n",
       "      <td>0</td>\n",
       "      <td>0</td>\n",
       "      <td>1</td>\n",
       "      <td>3</td>\n",
       "    </tr>\n",
       "    <tr>\n",
       "      <th>3</th>\n",
       "      <td>1</td>\n",
       "      <td>CASH_OUT</td>\n",
       "      <td>181.00</td>\n",
       "      <td>man</td>\n",
       "      <td>mac</td>\n",
       "      <td>0.565068</td>\n",
       "      <td>C840083671</td>\n",
       "      <td>black</td>\n",
       "      <td>181.0</td>\n",
       "      <td>31</td>\n",
       "      <td>...</td>\n",
       "      <td>21182.0</td>\n",
       "      <td>0.0</td>\n",
       "      <td>1</td>\n",
       "      <td>65464</td>\n",
       "      <td>961662</td>\n",
       "      <td>1</td>\n",
       "      <td>0</td>\n",
       "      <td>1</td>\n",
       "      <td>2</td>\n",
       "      <td>1</td>\n",
       "    </tr>\n",
       "    <tr>\n",
       "      <th>4</th>\n",
       "      <td>1</td>\n",
       "      <td>PAYMENT</td>\n",
       "      <td>11668.14</td>\n",
       "      <td>unknow</td>\n",
       "      <td>mac</td>\n",
       "      <td>0.517114</td>\n",
       "      <td>C2048537720</td>\n",
       "      <td>black</td>\n",
       "      <td>41554.0</td>\n",
       "      <td>90</td>\n",
       "      <td>...</td>\n",
       "      <td>0.0</td>\n",
       "      <td>0.0</td>\n",
       "      <td>0</td>\n",
       "      <td>138001</td>\n",
       "      <td>567915</td>\n",
       "      <td>3</td>\n",
       "      <td>1</td>\n",
       "      <td>1</td>\n",
       "      <td>2</td>\n",
       "      <td>1</td>\n",
       "    </tr>\n",
       "  </tbody>\n",
       "</table>\n",
       "<p>5 rows × 26 columns</p>\n",
       "</div>"
      ],
      "text/plain": [
       "   step      type    amount  gender device  connection_time     nameOrig  \\\n",
       "0     1   PAYMENT   9839.64     man    mac         0.140039  C1231006815   \n",
       "1     1   PAYMENT   1864.28   woman    mac         0.496890  C1666544295   \n",
       "2     1  TRANSFER    181.00     man     pc         0.781150  C1305486145   \n",
       "3     1  CASH_OUT    181.00     man    mac         0.565068   C840083671   \n",
       "4     1   PAYMENT  11668.14  unknow    mac         0.517114  C2048537720   \n",
       "\n",
       "    race  oldbalanceOrg  age  ...  oldbalanceDest newbalanceDest  isFraud  \\\n",
       "0  black       170136.0   85  ...             0.0            0.0        0   \n",
       "1  asian        21249.0   57  ...             0.0            0.0        0   \n",
       "2  asian          181.0   66  ...             0.0            0.0        1   \n",
       "3  black          181.0   31  ...         21182.0            0.0        1   \n",
       "4  black        41554.0   90  ...             0.0            0.0        0   \n",
       "\n",
       "  nameDest-n  nameOrig-n  type-n  gender-n  race-n  zone-n  device-n  \n",
       "0     274917      125164       3         0       1       1         1  \n",
       "1     286716      361319       3         2       0       2         1  \n",
       "2      73550      165236       4         0       0       1         3  \n",
       "3      65464      961662       1         0       1       2         1  \n",
       "4     138001      567915       3         1       1       2         1  \n",
       "\n",
       "[5 rows x 26 columns]"
      ]
     },
     "execution_count": 25,
     "metadata": {},
     "output_type": "execute_result"
    }
   ],
   "source": [
    "print(\"El dataset está compuesto por\", len(data.index), \"filas y\", len(data.columns), \"columnas\")\n",
    "data.head()"
   ]
  },
  {
   "cell_type": "markdown",
   "id": "4b2ad1ef",
   "metadata": {},
   "source": [
    "La matriz de correlación nos muestra que la variable más relevante es amount. Los new balances y old balances están correlados.\n"
   ]
  },
  {
   "cell_type": "code",
   "execution_count": 26,
   "id": "424028d1",
   "metadata": {},
   "outputs": [],
   "source": [
    "# Histogram with Kernel Density Estimate Plot (KDE)\n",
    "# Source: https://stackoverflow.com/questions/43638851/pandas-histogram-plot-with-kde\n",
    "def plot_histograms(df, columns):\n",
    "    # keep total number of subplot\n",
    "    k = len(df.columns)\n",
    "    # n = number of chart columns\n",
    "    n = columns\n",
    "    m = (k - 1) // n + 1\n",
    "    \n",
    "    # Create figure\n",
    "    fig, axes = plt.subplots(m, n, figsize=(n * 5, m * 3))\n",
    "\n",
    "    # Iterate through columns, tracking the column name and \n",
    "    # which number we are at i. Within each iteration, plot\n",
    "    for i, (name, col) in enumerate(df.iteritems()):\n",
    "        r, c = i // n, i % n\n",
    "        ax = axes[r, c]\n",
    "        # the histogram\n",
    "        col.hist(ax=ax)\n",
    "        \n",
    "        # kde = Kernel Density Estimate plot\n",
    "        ax2 = col.plot.kde(ax=ax, secondary_y=True, title=name)\n",
    "        ax2.set_ylim(0)\n",
    "        \n",
    "        \n",
    "\n",
    "    # Use tight_layout() as an easy way to sharpen up the layout spacing\n",
    "    fig.tight_layout()"
   ]
  },
  {
   "cell_type": "markdown",
   "id": "52399c4d",
   "metadata": {},
   "source": [
    "Guardamos el dataset en parquet para poder utilizarlo en los siguentes pasos."
   ]
  },
  {
   "cell_type": "code",
   "execution_count": 27,
   "id": "a9dee4e5",
   "metadata": {},
   "outputs": [
    {
     "data": {
      "image/png": "[encoded data removed]",
      "text/plain": [
       "<Figure size 1000x1800 with 24 Axes>"
      ]
     },
     "metadata": {},
     "output_type": "display_data"
    }
   ],
   "source": [
    "plot_histograms(df=data[['step','amount','connection_time','oldbalanceOrg', 'age', 'newbalanceOrig', 'user_number', 'user_connections','security_alert','oldbalanceDest','newbalanceDest','isFraud']], columns=2)\n"
   ]
  },
  {
   "cell_type": "markdown",
   "id": "fb3ff193",
   "metadata": {},
   "source": [
    "Cuando echamos un ojo a los distribuciones, vemos que los variables numericos no son normales. Algunos valores sale muy frequente y el otros muy poco. Es porque los fradulent transactiones occurre muy raro y probablemente su indicatores tambien ocurre muy raro. En este caso si quitamos algunos valores como 'outlier' deberiamos tambien quitar todos 1s de variable objectivo 'isFraud' con 0.1% y no podemos encontrar nada. Por eso, en este analisis, deberiamos mantener los outliers. \n"
   ]
  },
  {
   "cell_type": "code",
   "execution_count": 28,
   "id": "550753ed",
   "metadata": {},
   "outputs": [],
   "source": [
    "data=data.drop(columns = ['nameDest-n','nameOrig-n', 'type-n','gender-n','race-n','zone-n', 'device-n'])"
   ]
  },
  {
   "cell_type": "code",
   "execution_count": 29,
   "id": "448d1953",
   "metadata": {},
   "outputs": [
    {
     "data": {
      "text/html": [
       "<div>\n",
       "<style scoped>\n",
       "    .dataframe tbody tr th:only-of-type {\n",
       "        vertical-align: middle;\n",
       "    }\n",
       "\n",
       "    .dataframe tbody tr th {\n",
       "        vertical-align: top;\n",
       "    }\n",
       "\n",
       "    .dataframe thead th {\n",
       "        text-align: right;\n",
       "    }\n",
       "</style>\n",
       "<table border=\"1\" class=\"dataframe\">\n",
       "  <thead>\n",
       "    <tr style=\"text-align: right;\">\n",
       "      <th></th>\n",
       "      <th>step</th>\n",
       "      <th>amount</th>\n",
       "      <th>connection_time</th>\n",
       "      <th>oldbalanceOrg</th>\n",
       "      <th>age</th>\n",
       "      <th>newbalanceOrig</th>\n",
       "      <th>user_number</th>\n",
       "      <th>user_connections</th>\n",
       "      <th>security_alert</th>\n",
       "      <th>oldbalanceDest</th>\n",
       "      <th>newbalanceDest</th>\n",
       "      <th>isFraud</th>\n",
       "    </tr>\n",
       "  </thead>\n",
       "  <tbody>\n",
       "    <tr>\n",
       "      <th>count</th>\n",
       "      <td>1.048575e+06</td>\n",
       "      <td>1.048575e+06</td>\n",
       "      <td>1.048575e+06</td>\n",
       "      <td>1.048575e+06</td>\n",
       "      <td>1.048575e+06</td>\n",
       "      <td>1.048575e+06</td>\n",
       "      <td>1.048575e+06</td>\n",
       "      <td>1.048575e+06</td>\n",
       "      <td>1.048575e+06</td>\n",
       "      <td>1.048575e+06</td>\n",
       "      <td>1.048575e+06</td>\n",
       "      <td>1.048575e+06</td>\n",
       "    </tr>\n",
       "    <tr>\n",
       "      <th>mean</th>\n",
       "      <td>2.696617e+01</td>\n",
       "      <td>1.586670e+05</td>\n",
       "      <td>5.000671e-01</td>\n",
       "      <td>8.740055e+05</td>\n",
       "      <td>5.245674e+01</td>\n",
       "      <td>8.938049e+05</td>\n",
       "      <td>2.530440e+03</td>\n",
       "      <td>5.503561e+00</td>\n",
       "      <td>1.000453e-01</td>\n",
       "      <td>9.781600e+05</td>\n",
       "      <td>1.114193e+06</td>\n",
       "      <td>1.089097e-03</td>\n",
       "    </tr>\n",
       "    <tr>\n",
       "      <th>std</th>\n",
       "      <td>1.562325e+01</td>\n",
       "      <td>2.649409e+05</td>\n",
       "      <td>2.885239e-01</td>\n",
       "      <td>2.971725e+06</td>\n",
       "      <td>2.772639e+01</td>\n",
       "      <td>3.008246e+06</td>\n",
       "      <td>1.426418e+03</td>\n",
       "      <td>2.872241e+00</td>\n",
       "      <td>3.000605e-01</td>\n",
       "      <td>2.296779e+06</td>\n",
       "      <td>2.416554e+06</td>\n",
       "      <td>3.298351e-02</td>\n",
       "    </tr>\n",
       "    <tr>\n",
       "      <th>min</th>\n",
       "      <td>1.000000e+00</td>\n",
       "      <td>1.000000e-01</td>\n",
       "      <td>2.618800e-08</td>\n",
       "      <td>0.000000e+00</td>\n",
       "      <td>5.000000e+00</td>\n",
       "      <td>0.000000e+00</td>\n",
       "      <td>5.900000e+01</td>\n",
       "      <td>1.000000e+00</td>\n",
       "      <td>0.000000e+00</td>\n",
       "      <td>0.000000e+00</td>\n",
       "      <td>0.000000e+00</td>\n",
       "      <td>0.000000e+00</td>\n",
       "    </tr>\n",
       "    <tr>\n",
       "      <th>25%</th>\n",
       "      <td>1.500000e+01</td>\n",
       "      <td>1.214907e+04</td>\n",
       "      <td>2.500884e-01</td>\n",
       "      <td>0.000000e+00</td>\n",
       "      <td>2.800000e+01</td>\n",
       "      <td>0.000000e+00</td>\n",
       "      <td>1.295000e+03</td>\n",
       "      <td>3.000000e+00</td>\n",
       "      <td>0.000000e+00</td>\n",
       "      <td>0.000000e+00</td>\n",
       "      <td>0.000000e+00</td>\n",
       "      <td>0.000000e+00</td>\n",
       "    </tr>\n",
       "    <tr>\n",
       "      <th>50%</th>\n",
       "      <td>2.000000e+01</td>\n",
       "      <td>7.634333e+04</td>\n",
       "      <td>5.003599e-01</td>\n",
       "      <td>1.600200e+04</td>\n",
       "      <td>5.200000e+01</td>\n",
       "      <td>0.000000e+00</td>\n",
       "      <td>2.532000e+03</td>\n",
       "      <td>6.000000e+00</td>\n",
       "      <td>0.000000e+00</td>\n",
       "      <td>1.263772e+05</td>\n",
       "      <td>2.182604e+05</td>\n",
       "      <td>0.000000e+00</td>\n",
       "    </tr>\n",
       "    <tr>\n",
       "      <th>75%</th>\n",
       "      <td>3.900000e+01</td>\n",
       "      <td>2.137619e+05</td>\n",
       "      <td>7.496531e-01</td>\n",
       "      <td>1.366420e+05</td>\n",
       "      <td>7.600000e+01</td>\n",
       "      <td>1.746000e+05</td>\n",
       "      <td>3.765000e+03</td>\n",
       "      <td>8.000000e+00</td>\n",
       "      <td>0.000000e+00</td>\n",
       "      <td>9.159235e+05</td>\n",
       "      <td>1.149808e+06</td>\n",
       "      <td>0.000000e+00</td>\n",
       "    </tr>\n",
       "    <tr>\n",
       "      <th>max</th>\n",
       "      <td>9.500000e+01</td>\n",
       "      <td>1.000000e+07</td>\n",
       "      <td>9.999991e-01</td>\n",
       "      <td>3.893942e+07</td>\n",
       "      <td>1.000000e+02</td>\n",
       "      <td>3.894623e+07</td>\n",
       "      <td>5.000000e+03</td>\n",
       "      <td>1.000000e+01</td>\n",
       "      <td>1.000000e+00</td>\n",
       "      <td>4.205466e+07</td>\n",
       "      <td>4.216916e+07</td>\n",
       "      <td>1.000000e+00</td>\n",
       "    </tr>\n",
       "  </tbody>\n",
       "</table>\n",
       "</div>"
      ],
      "text/plain": [
       "               step        amount  connection_time  oldbalanceOrg  \\\n",
       "count  1.048575e+06  1.048575e+06     1.048575e+06   1.048575e+06   \n",
       "mean   2.696617e+01  1.586670e+05     5.000671e-01   8.740055e+05   \n",
       "std    1.562325e+01  2.649409e+05     2.885239e-01   2.971725e+06   \n",
       "min    1.000000e+00  1.000000e-01     2.618800e-08   0.000000e+00   \n",
       "25%    1.500000e+01  1.214907e+04     2.500884e-01   0.000000e+00   \n",
       "50%    2.000000e+01  7.634333e+04     5.003599e-01   1.600200e+04   \n",
       "75%    3.900000e+01  2.137619e+05     7.496531e-01   1.366420e+05   \n",
       "max    9.500000e+01  1.000000e+07     9.999991e-01   3.893942e+07   \n",
       "\n",
       "                age  newbalanceOrig   user_number  user_connections  \\\n",
       "count  1.048575e+06    1.048575e+06  1.048575e+06      1.048575e+06   \n",
       "mean   5.245674e+01    8.938049e+05  2.530440e+03      5.503561e+00   \n",
       "std    2.772639e+01    3.008246e+06  1.426418e+03      2.872241e+00   \n",
       "min    5.000000e+00    0.000000e+00  5.900000e+01      1.000000e+00   \n",
       "25%    2.800000e+01    0.000000e+00  1.295000e+03      3.000000e+00   \n",
       "50%    5.200000e+01    0.000000e+00  2.532000e+03      6.000000e+00   \n",
       "75%    7.600000e+01    1.746000e+05  3.765000e+03      8.000000e+00   \n",
       "max    1.000000e+02    3.894623e+07  5.000000e+03      1.000000e+01   \n",
       "\n",
       "       security_alert  oldbalanceDest  newbalanceDest       isFraud  \n",
       "count    1.048575e+06    1.048575e+06    1.048575e+06  1.048575e+06  \n",
       "mean     1.000453e-01    9.781600e+05    1.114193e+06  1.089097e-03  \n",
       "std      3.000605e-01    2.296779e+06    2.416554e+06  3.298351e-02  \n",
       "min      0.000000e+00    0.000000e+00    0.000000e+00  0.000000e+00  \n",
       "25%      0.000000e+00    0.000000e+00    0.000000e+00  0.000000e+00  \n",
       "50%      0.000000e+00    1.263772e+05    2.182604e+05  0.000000e+00  \n",
       "75%      0.000000e+00    9.159235e+05    1.149808e+06  0.000000e+00  \n",
       "max      1.000000e+00    4.205466e+07    4.216916e+07  1.000000e+00  "
      ]
     },
     "execution_count": 29,
     "metadata": {},
     "output_type": "execute_result"
    }
   ],
   "source": [
    "data.describe()"
   ]
  },
  {
   "cell_type": "code",
   "execution_count": 30,
   "id": "9a90a02f",
   "metadata": {},
   "outputs": [
    {
     "name": "stdout",
     "output_type": "stream",
     "text": [
      "guardado\n"
     ]
    }
   ],
   "source": [
    "data.to_parquet(\"../data/processed/dataset_payments_fraud_processed.parquet\")\n",
    "print('guardado')"
   ]
  },
  {
   "cell_type": "code",
   "execution_count": 33,
   "id": "619d4827",
   "metadata": {},
   "outputs": [
    {
     "name": "stdout",
     "output_type": "stream",
     "text": [
      "guardado\n"
     ]
    }
   ],
   "source": [
    "data_selection = data.drop(columns = ['gender','race', 'nameDest','nameOrig'])\n",
    "\n",
    "data_selection\n",
    "\n",
    "data_selection.to_parquet('../data/processed/data_selection.parquet')\n",
    "\n",
    "print('guardado')"
   ]
  }
 ],
 "metadata": {
  "kernelspec": {
   "display_name": "practica0",
   "language": "python",
   "name": "practica0"
  },
  "language_info": {
   "codemirror_mode": {
    "name": "ipython",
    "version": 3
   },
   "file_extension": ".py",
   "mimetype": "text/x-python",
   "name": "python",
   "nbconvert_exporter": "python",
   "pygments_lexer": "ipython3",
   "version": "3.9.13"
  }
 },
 "nbformat": 4,
 "nbformat_minor": 5
}
