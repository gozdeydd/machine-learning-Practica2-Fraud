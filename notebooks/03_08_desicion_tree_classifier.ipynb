{
 "cells": [
  {
   "cell_type": "markdown",
   "id": "cd4931d7",
   "metadata": {},
   "source": [
    "# CUNEF MUCD 2022/2023\n",
    "\n",
    "# Machine Learning\n",
    "# Análisis de Fraude¶"
   ]
  },
  {
   "cell_type": "markdown",
   "id": "8f60b87d",
   "metadata": {},
   "source": [
    "### Autores:\n",
    "- Gozde Yazganoglu\n",
    "- Irma Sanchez\n"
   ]
  },
  {
   "cell_type": "markdown",
   "id": "6d95d169",
   "metadata": {},
   "source": [
    "# Importación de Librerías\n"
   ]
  },
  {
   "cell_type": "code",
   "execution_count": 1,
   "id": "2321ae91",
   "metadata": {},
   "outputs": [],
   "source": [
    "import pandas as pd\n",
    "from sklearn.ensemble import RandomForestClassifier\n",
    "import pandas as pd\n",
    "import numpy as np\n",
    "import matplotlib.pyplot as plt\n",
    "import seaborn as sns\n",
    "\n",
    "import sklearn\n",
    "\n",
    "from sklearn.model_selection import train_test_split\n",
    "from sklearn.model_selection import cross_validate, KFold\n",
    "\n",
    "from sklearn.metrics import classification_report, confusion_matrix, roc_curve, auc, \\\n",
    "                            silhouette_score, recall_score, precision_score, make_scorer, \\\n",
    "                            roc_auc_score, f1_score, precision_recall_curve\n",
    "\n",
    "from sklearn.metrics import accuracy_score, roc_auc_score, \\\n",
    "                            classification_report, confusion_matrix\n",
    "\n",
    "\n",
    "from sklearn import metrics\n",
    "from sklearn.metrics import plot_confusion_matrix\n",
    "\n",
    "from sklearn.pipeline import Pipeline\n",
    "from sklearn.metrics import accuracy_score, log_loss\n",
    "from sklearn.neighbors import KNeighborsClassifier\n",
    "from sklearn.svm import SVC, LinearSVC, NuSVC\n",
    "from sklearn.tree import DecisionTreeClassifier\n",
    "from sklearn.discriminant_analysis import LinearDiscriminantAnalysis\n",
    "import pickle\n",
    "from sklearn.metrics import ConfusionMatrixDisplay\n",
    "import warnings\n",
    "warnings.filterwarnings('ignore')\n",
    "\n",
    "\n",
    "from aux_func import evaluate_model, cargar_modelo"
   ]
  },
  {
   "cell_type": "code",
   "execution_count": 2,
   "id": "a0c47d93",
   "metadata": {},
   "outputs": [],
   "source": [
    "xtrain = pd.read_parquet(\"../data/processed/xtrain.parquet\")\n",
    "ytrain = pd.read_parquet(\"../data/processed/ytrain.parquet\")\n",
    "xtest = pd.read_parquet(\"../data/processed/xtest.parquet\")\n",
    "ytest = pd.read_parquet(\"../data/processed/ytest.parquet\")"
   ]
  },
  {
   "cell_type": "code",
   "execution_count": 3,
   "id": "26268b3c",
   "metadata": {},
   "outputs": [],
   "source": [
    "#Cargamos pipeline preprocesado\n",
    "preprocessor = cargar_modelo('../models/preprocessor.pickle')"
   ]
  },
  {
   "cell_type": "markdown",
   "id": "0529d655",
   "metadata": {},
   "source": [
    "# Decision Tree Classifier"
   ]
  },
  {
   "cell_type": "markdown",
   "id": "14d832a8",
   "metadata": {},
   "source": [
    "El árbol de decisión es una técnica de aprendizaje supervisado que se puede utilizar tanto para problemas de clasificación como de regresión, pero se prefiere sobre todo para resolver problemas de clasificación. Es un clasificador con estructura de árbol, donde los nodos internos representan las características de un conjunto de datos, las ramas representan las reglas de decisión y cada nodo  representa el resultado."
   ]
  },
  {
   "cell_type": "code",
   "execution_count": 4,
   "id": "65f531f4",
   "metadata": {},
   "outputs": [],
   "source": [
    "clf_dtc = Pipeline(steps=[\n",
    "    ('preprocesador', preprocessor), \n",
    "    \n",
    "    ('clasificador', DecisionTreeClassifier(criterion='gini', random_state=0))])"
   ]
  },
  {
   "cell_type": "code",
   "execution_count": 5,
   "id": "1ad599da",
   "metadata": {},
   "outputs": [
    {
     "data": {
      "text/plain": [
       "Pipeline(steps=[('preprocesador',\n",
       "                 ColumnTransformer(transformers=[('num',\n",
       "                                                  Pipeline(steps=[('imputer',\n",
       "                                                                   SimpleImputer(strategy='median')),\n",
       "                                                                  ('scaler',\n",
       "                                                                   StandardScaler())]),\n",
       "                                                  ['step', 'amount',\n",
       "                                                   'connection_time',\n",
       "                                                   'oldbalanceOrg', 'age',\n",
       "                                                   'newbalanceOrig',\n",
       "                                                   'user_number',\n",
       "                                                   'user_connections',\n",
       "                                                   'security_alert',\n",
       "                                                   'oldbalanceDest',\n",
       "                                                   'newbalanceDest']),\n",
       "                                                 ('cat',\n",
       "                                                  Pipeline(steps=[('imputer',\n",
       "                                                                   SimpleImputer(fill_value=nan,\n",
       "                                                                                 strategy='constant')),\n",
       "                                                                  ('onehot',\n",
       "                                                                   OneHotEncoder(handle_unknown='ignore'))]),\n",
       "                                                  ['type', 'gender', 'race',\n",
       "                                                   'zone', 'device'])])),\n",
       "                ('clasificador', DecisionTreeClassifier(random_state=0))])"
      ]
     },
     "execution_count": 5,
     "metadata": {},
     "output_type": "execute_result"
    }
   ],
   "source": [
    "clf_dtc.fit(xtrain, ytrain)"
   ]
  },
  {
   "cell_type": "code",
   "execution_count": 6,
   "id": "ffab2f2d",
   "metadata": {},
   "outputs": [],
   "source": [
    "with open('../models/model_DTC.pickle', 'wb') as f:\n",
    "    pickle.dump(clf_dtc, f)"
   ]
  },
  {
   "cell_type": "code",
   "execution_count": 17,
   "id": "03b800bc",
   "metadata": {},
   "outputs": [],
   "source": [
    "ypred = clf_dtc.predict(xtrain)\n",
    "ypred_proba = clf_dtc.predict_proba(xtrain)\n"
   ]
  },
  {
   "cell_type": "markdown",
   "id": "a1207fc0",
   "metadata": {},
   "source": [
    "# Ajuste del umbral de predicción\n"
   ]
  },
  {
   "cell_type": "code",
   "execution_count": 18,
   "id": "bc85fa4f",
   "metadata": {},
   "outputs": [
    {
     "name": "stdout",
     "output_type": "stream",
     "text": [
      "Best Threshold=1.000000, G-Mean=1.000\n",
      "ROC-AUC score of the model: 1.0\n",
      "Accuracy of the model: 0.9989104260544072\n",
      "\n",
      "Classification report: \n",
      "              precision    recall  f1-score   support\n",
      "\n",
      "           0       1.00      1.00      1.00    837946\n",
      "           1       0.00      0.00      0.00       914\n",
      "\n",
      "    accuracy                           1.00    838860\n",
      "   macro avg       0.50      0.50      0.50    838860\n",
      "weighted avg       1.00      1.00      1.00    838860\n",
      "\n",
      "\n",
      "Confusion matrix: \n",
      "[[837946      0]\n",
      " [   914      0]]\n",
      "\n"
     ]
    }
   ],
   "source": [
    "# keep probabilities for the positive outcome only\n",
    "yhat = ypred_proba[:, 1]\n",
    "# calculate roc curves\n",
    "fpr, tpr, thresholds = roc_curve(ytrain, yhat)\n",
    "\n",
    "gmeans = np.sqrt(tpr * (1-fpr))\n",
    "# locate the index of the largest g-mean\n",
    "ix = np.argmax(gmeans)\n",
    "print('Best Threshold=%f, G-Mean=%.3f' % (thresholds[ix], gmeans[ix]))\n",
    "\n",
    "ypred_new_threshold = (ypred_proba[:,1]>thresholds[ix]).astype(int)\n",
    "evaluate_model(ytrain,ypred_new_threshold,ypred_proba)"
   ]
  },
  {
   "cell_type": "code",
   "execution_count": 12,
   "id": "661914d2",
   "metadata": {},
   "outputs": [
    {
     "data": {
      "image/png": "[encoded data removed]",
      "text/plain": [
       "<Figure size 640x480 with 1 Axes>"
      ]
     },
     "metadata": {},
     "output_type": "display_data"
    }
   ],
   "source": [
    "import matplotlib.pyplot as plt\n",
    "# plot the roc curve for the model\n",
    "plt.plot([0,1], [0,1], linestyle='--', label='No Skill')\n",
    "plt.plot(fpr, tpr, marker='.', label='DTC')\n",
    "# axis labels\n",
    "plt.xlabel('False Positive Rate')\n",
    "plt.ylabel('True Positive Rate')\n",
    "plt.legend()\n",
    "# show the plot\n",
    "plt.show()"
   ]
  },
  {
   "cell_type": "code",
   "execution_count": 13,
   "id": "e6e4272e",
   "metadata": {},
   "outputs": [
    {
     "name": "stdout",
     "output_type": "stream",
     "text": [
      "Best Threshold=1.000000, G-Mean=1.000\n"
     ]
    }
   ],
   "source": [
    "# calculate the g-mean for each threshold\n",
    "gmeans = np.sqrt(tpr * (1-fpr))\n",
    "# locate the index of the largest g-mean\n",
    "ix = np.argmax(gmeans)\n",
    "print('Best Threshold=%f, G-Mean=%.3f' % (thresholds[ix], gmeans[ix]))"
   ]
  },
  {
   "cell_type": "code",
   "execution_count": null,
   "id": "f4aaaef5",
   "metadata": {},
   "outputs": [],
   "source": []
  }
 ],
 "metadata": {
  "kernelspec": {
   "display_name": "practica0",
   "language": "python",
   "name": "practica0"
  },
  "language_info": {
   "codemirror_mode": {
    "name": "ipython",
    "version": 3
   },
   "file_extension": ".py",
   "mimetype": "text/x-python",
   "name": "python",
   "nbconvert_exporter": "python",
   "pygments_lexer": "ipython3",
   "version": "3.9.13"
  }
 },
 "nbformat": 4,
 "nbformat_minor": 5
}
