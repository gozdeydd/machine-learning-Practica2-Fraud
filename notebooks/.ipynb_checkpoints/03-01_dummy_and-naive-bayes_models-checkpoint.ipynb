{
 "cells": [
  {
   "cell_type": "markdown",
   "id": "473b7235",
   "metadata": {},
   "source": [
    "# CUNEF MUCD 2022/2023\n",
    "\n",
    "# Machine Learning\n",
    "# Análisis de Fraude¶"
   ]
  },
  {
   "cell_type": "markdown",
   "id": "4b5a309d",
   "metadata": {},
   "source": [
    "### Autores:\n",
    "- Gozde Yazganoglu\n",
    "- Irma Sanchez\n"
   ]
  },
  {
   "cell_type": "markdown",
   "id": "175f5e13",
   "metadata": {},
   "source": [
    "# Importación de Librerías "
   ]
  },
  {
   "cell_type": "code",
   "execution_count": 2,
   "id": "f25304dd",
   "metadata": {},
   "outputs": [],
   "source": [
    "\n",
    "import pandas as pd\n",
    "import numpy as np\n",
    "\n",
    "from sklearn import metrics\n",
    "from sklearn.metrics import classification_report, confusion_matrix, roc_curve, auc, \\\n",
    "                            silhouette_score, recall_score, precision_score, make_scorer, \\\n",
    "                            roc_auc_score, f1_score, precision_recall_curve\n",
    "from sklearn.metrics import ConfusionMatrixDisplay\n",
    "from sklearn.metrics import accuracy_score, roc_auc_score, \\\n",
    "                            classification_report, confusion_matrix\n",
    "from sklearn import metrics\n",
    "from sklearn.metrics import plot_confusion_matrix\n",
    "\n",
    "from sklearn.dummy import DummyClassifier \n",
    "from sklearn.naive_bayes import GaussianNB\n",
    "\n",
    "from sklearn.pipeline import Pipeline\n",
    "from sklearn.compose import ColumnTransformer\n",
    "\n",
    "import pickle\n",
    "import warnings\n",
    "warnings.filterwarnings('ignore')\n",
    "\n",
    "from aux_func import evaluate_model, cargar_modelo\n"
   ]
  },
  {
   "cell_type": "markdown",
   "id": "6924daa1",
   "metadata": {},
   "source": [
    "# Cargando Datos y Pipelines"
   ]
  },
  {
   "cell_type": "code",
   "execution_count": 3,
   "id": "e07cb7de",
   "metadata": {},
   "outputs": [],
   "source": [
    "xtrain = pd.read_parquet(\"../data/processed/xtrain.parquet\")\n",
    "ytrain = pd.read_parquet(\"../data/processed/ytrain.parquet\")\n",
    "xtest = pd.read_parquet(\"../data/processed/xtest.parquet\")\n",
    "ytest = pd.read_parquet(\"../data/processed/ytest.parquet\")"
   ]
  },
  {
   "cell_type": "code",
   "execution_count": 4,
   "id": "ce694c10",
   "metadata": {},
   "outputs": [],
   "source": [
    "preprocessor = cargar_modelo('../models/preprocessor.pickle')\n"
   ]
  },
  {
   "cell_type": "code",
   "execution_count": 5,
   "id": "5bd05798",
   "metadata": {},
   "outputs": [
    {
     "data": {
      "text/plain": [
       "ColumnTransformer(transformers=[('num',\n",
       "                                 Pipeline(steps=[('imputer',\n",
       "                                                  SimpleImputer(strategy='median')),\n",
       "                                                 ('scaler', StandardScaler())]),\n",
       "                                 ['step', 'amount', 'connection_time',\n",
       "                                  'oldbalanceOrg', 'age', 'newbalanceOrig',\n",
       "                                  'user_number', 'user_connections',\n",
       "                                  'security_alert', 'oldbalanceDest',\n",
       "                                  'newbalanceDest']),\n",
       "                                ('cat',\n",
       "                                 Pipeline(steps=[('imputer',\n",
       "                                                  SimpleImputer(fill_value=nan,\n",
       "                                                                strategy='constant')),\n",
       "                                                 ('onehot',\n",
       "                                                  OneHotEncoder(handle_unknown='ignore'))]),\n",
       "                                 ['type', 'gender', 'race', 'zone', 'device'])])"
      ]
     },
     "execution_count": 5,
     "metadata": {},
     "output_type": "execute_result"
    }
   ],
   "source": [
    "preprocessor"
   ]
  },
  {
   "cell_type": "markdown",
   "id": "6acc7091",
   "metadata": {},
   "source": [
    "# Implementacion del Modelo"
   ]
  },
  {
   "cell_type": "code",
   "execution_count": 16,
   "id": "705dec5b",
   "metadata": {},
   "outputs": [],
   "source": [
    "model_dummy = Pipeline(steps=[\n",
    "    ('preprocesador', preprocessor),\n",
    "    ('clasificador', DummyClassifier(strategy='stratified', random_state=0))])"
   ]
  },
  {
   "cell_type": "code",
   "execution_count": 17,
   "id": "b1d554ff",
   "metadata": {},
   "outputs": [
    {
     "data": {
      "text/plain": [
       "Pipeline(steps=[('preprocesador',\n",
       "                 ColumnTransformer(transformers=[('num',\n",
       "                                                  Pipeline(steps=[('imputer',\n",
       "                                                                   SimpleImputer(strategy='median')),\n",
       "                                                                  ('scaler',\n",
       "                                                                   StandardScaler())]),\n",
       "                                                  ['step', 'amount',\n",
       "                                                   'connection_time',\n",
       "                                                   'oldbalanceOrg', 'age',\n",
       "                                                   'newbalanceOrig',\n",
       "                                                   'user_number',\n",
       "                                                   'user_connections',\n",
       "                                                   'security_alert',\n",
       "                                                   'oldbalanceDest',\n",
       "                                                   'newbalanceDest']),\n",
       "                                                 ('cat',\n",
       "                                                  Pipeline(steps=[('imputer',\n",
       "                                                                   SimpleImputer(fill_value=nan,\n",
       "                                                                                 strategy='constant')),\n",
       "                                                                  ('onehot',\n",
       "                                                                   OneHotEncoder(handle_unknown='ignore'))]),\n",
       "                                                  ['type', 'gender', 'race',\n",
       "                                                   'zone', 'device'])])),\n",
       "                ('clasificador',\n",
       "                 DummyClassifier(random_state=0, strategy='stratified'))])"
      ]
     },
     "execution_count": 17,
     "metadata": {},
     "output_type": "execute_result"
    }
   ],
   "source": [
    "model_dummy.fit(xtrain, ytrain)"
   ]
  },
  {
   "cell_type": "code",
   "execution_count": 18,
   "id": "743797ad",
   "metadata": {},
   "outputs": [],
   "source": [
    "with open('../models/model_dummy.pickle', 'wb') as f:\n",
    "    pickle.dump(model_dummy, f)"
   ]
  },
  {
   "cell_type": "code",
   "execution_count": 19,
   "id": "73b1cf60",
   "metadata": {},
   "outputs": [
    {
     "name": "stdout",
     "output_type": "stream",
     "text": [
      "ROC-AUC score of the model: 0.49943194565772575\n",
      "Accuracy of the model: 0.9977779367236488\n",
      "\n",
      "Classification report: \n",
      "              precision    recall  f1-score   support\n",
      "\n",
      "           0       1.00      1.00      1.00    209487\n",
      "           1       0.00      0.00      0.00       228\n",
      "\n",
      "    accuracy                           1.00    209715\n",
      "   macro avg       0.50      0.50      0.50    209715\n",
      "weighted avg       1.00      1.00      1.00    209715\n",
      "\n",
      "\n",
      "Confusion matrix: \n",
      "[[209249    238]\n",
      " [   228      0]]\n",
      "\n"
     ]
    }
   ],
   "source": [
    "ypred = model_dummy.predict(xtest)\n",
    "ypred_proba = model_dummy.predict_proba(xtest)\n",
    "evaluate_model(ytest,ypred,ypred_proba)"
   ]
  },
  {
   "cell_type": "code",
   "execution_count": 24,
   "id": "2ce7e8c2",
   "metadata": {},
   "outputs": [
    {
     "name": "stdout",
     "output_type": "stream",
     "text": [
      "Best Threshold=1.000000, G-Mean=0.881\n",
      "ROC-AUC score of the model: 0.9359664029732113\n",
      "Accuracy of the model: 0.8883961566888396\n",
      "\n",
      "Classification report: \n",
      "              precision    recall  f1-score   support\n",
      "\n",
      "           0       1.00      0.89      0.94    209487\n",
      "           1       0.01      0.87      0.02       228\n",
      "\n",
      "    accuracy                           0.89    209715\n",
      "   macro avg       0.50      0.88      0.48    209715\n",
      "weighted avg       1.00      0.89      0.94    209715\n",
      "\n",
      "\n",
      "Confusion matrix: \n",
      "[[186112  23375]\n",
      " [    30    198]]\n",
      "\n"
     ]
    }
   ],
   "source": [
    "# keep probabilities for the positive outcome only\n",
    "yhat = ypred_proba[:, 1]\n",
    "# calculate roc curves\n",
    "fpr, tpr, thresholds = roc_curve(ytest, yhat)\n",
    "\n",
    "gmeans = np.sqrt(tpr * (1-fpr))\n",
    "# locate the index of the largest g-mean\n",
    "ix = np.argmax(gmeans)\n",
    "print('Best Threshold=%f, G-Mean=%.3f' % (thresholds[ix], gmeans[ix]))\n",
    "\n",
    "ypred_new_threshold = (ypred_proba[:,1]>thresholds[ix]).astype(int)\n",
    "evaluate_model(ytest,ypred_new_threshold,ypred_proba)\n"
   ]
  },
  {
   "cell_type": "code",
   "execution_count": 20,
   "id": "279dc123",
   "metadata": {},
   "outputs": [],
   "source": [
    "model_NB = Pipeline(steps=[\n",
    "    ('preprocesador', preprocessor),\n",
    "    ('clasificador', GaussianNB())])"
   ]
  },
  {
   "cell_type": "code",
   "execution_count": 21,
   "id": "1b6ff7ea",
   "metadata": {},
   "outputs": [],
   "source": [
    "with open('../models/model_NB.pickle', 'wb') as f:\n",
    "    pickle.dump(model_NB, f)"
   ]
  },
  {
   "cell_type": "code",
   "execution_count": 22,
   "id": "50ee36c4",
   "metadata": {},
   "outputs": [
    {
     "data": {
      "text/plain": [
       "Pipeline(steps=[('preprocesador',\n",
       "                 ColumnTransformer(transformers=[('num',\n",
       "                                                  Pipeline(steps=[('imputer',\n",
       "                                                                   SimpleImputer(strategy='median')),\n",
       "                                                                  ('scaler',\n",
       "                                                                   StandardScaler())]),\n",
       "                                                  ['step', 'amount',\n",
       "                                                   'connection_time',\n",
       "                                                   'oldbalanceOrg', 'age',\n",
       "                                                   'newbalanceOrig',\n",
       "                                                   'user_number',\n",
       "                                                   'user_connections',\n",
       "                                                   'security_alert',\n",
       "                                                   'oldbalanceDest',\n",
       "                                                   'newbalanceDest']),\n",
       "                                                 ('cat',\n",
       "                                                  Pipeline(steps=[('imputer',\n",
       "                                                                   SimpleImputer(fill_value=nan,\n",
       "                                                                                 strategy='constant')),\n",
       "                                                                  ('onehot',\n",
       "                                                                   OneHotEncoder(handle_unknown='ignore'))]),\n",
       "                                                  ['type', 'gender', 'race',\n",
       "                                                   'zone', 'device'])])),\n",
       "                ('clasificador', GaussianNB())])"
      ]
     },
     "execution_count": 22,
     "metadata": {},
     "output_type": "execute_result"
    }
   ],
   "source": [
    "model_NB.fit(xtrain, ytrain)"
   ]
  },
  {
   "cell_type": "code",
   "execution_count": 23,
   "id": "1c1f9b7a",
   "metadata": {},
   "outputs": [
    {
     "name": "stdout",
     "output_type": "stream",
     "text": [
      "ROC-AUC score of the model: 0.9359664029732113\n",
      "Accuracy of the model: 0.9977779367236488\n",
      "\n",
      "Classification report: \n",
      "              precision    recall  f1-score   support\n",
      "\n",
      "           0       1.00      1.00      1.00    209487\n",
      "           1       0.00      0.00      0.00       228\n",
      "\n",
      "    accuracy                           1.00    209715\n",
      "   macro avg       0.50      0.50      0.50    209715\n",
      "weighted avg       1.00      1.00      1.00    209715\n",
      "\n",
      "\n",
      "Confusion matrix: \n",
      "[[209249    238]\n",
      " [   228      0]]\n",
      "\n"
     ]
    }
   ],
   "source": [
    "ypred = model_dummy.predict(xtest)\n",
    "ypred_proba = model_NB.predict_proba(xtest)\n",
    "evaluate_model(ytest,ypred,ypred_proba)"
   ]
  },
  {
   "cell_type": "markdown",
   "id": "f405b834",
   "metadata": {},
   "source": [
    "#  Ajuste de Umbral"
   ]
  },
  {
   "cell_type": "code",
   "execution_count": 13,
   "id": "435979cf",
   "metadata": {},
   "outputs": [
    {
     "name": "stdout",
     "output_type": "stream",
     "text": [
      "Best Threshold=2.000000, G-Mean=0.000\n",
      "ROC-AUC score of the model: 0.49943194565772575\n",
      "Accuracy of the model: 0.9989128102424719\n",
      "\n",
      "Classification report: \n",
      "              precision    recall  f1-score   support\n",
      "\n",
      "           0       1.00      1.00      1.00    209487\n",
      "           1       0.00      0.00      0.00       228\n",
      "\n",
      "    accuracy                           1.00    209715\n",
      "   macro avg       0.50      0.50      0.50    209715\n",
      "weighted avg       1.00      1.00      1.00    209715\n",
      "\n",
      "\n",
      "Confusion matrix: \n",
      "[[209487      0]\n",
      " [   228      0]]\n",
      "\n"
     ]
    }
   ],
   "source": [
    "# keep probabilities for the positive outcome only\n",
    "yhat = ypred_proba[:, 1]\n",
    "# calculate roc curves\n",
    "fpr, tpr, thresholds = roc_curve(ytest, yhat)\n",
    "\n",
    "gmeans = np.sqrt(tpr * (1-fpr))\n",
    "# locate the index of the largest g-mean\n",
    "ix = np.argmax(gmeans)\n",
    "print('Best Threshold=%f, G-Mean=%.3f' % (thresholds[ix], gmeans[ix]))\n",
    "\n",
    "ypred_new_threshold = (ypred_proba[:,1]>thresholds[ix]).astype(int)\n",
    "evaluate_model(ytest,ypred_new_threshold,ypred_proba)"
   ]
  },
  {
   "cell_type": "markdown",
   "id": "9cc57f18",
   "metadata": {},
   "source": [
    "Como estamos con un problema de minoridad, todos los modelos que trabajaremos va a tener alto accuracy. Pero los dos modelos no detecta los fraudes. los intenciones de ajustar los modelos no nos ayuda mucho tampoco. Analizaremos mas detallada en seccion de model selection."
   ]
  },
  {
   "cell_type": "code",
   "execution_count": null,
   "id": "0e73841b",
   "metadata": {},
   "outputs": [],
   "source": []
  }
 ],
 "metadata": {
  "kernelspec": {
   "display_name": "practica0",
   "language": "python",
   "name": "practica0"
  },
  "language_info": {
   "codemirror_mode": {
    "name": "ipython",
    "version": 3
   },
   "file_extension": ".py",
   "mimetype": "text/x-python",
   "name": "python",
   "nbconvert_exporter": "python",
   "pygments_lexer": "ipython3",
   "version": "3.9.13"
  }
 },
 "nbformat": 4,
 "nbformat_minor": 5
}
