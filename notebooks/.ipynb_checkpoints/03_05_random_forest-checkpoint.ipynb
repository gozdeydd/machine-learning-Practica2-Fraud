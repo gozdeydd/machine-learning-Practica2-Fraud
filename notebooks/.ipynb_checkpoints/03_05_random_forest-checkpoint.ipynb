{
 "cells": [
  {
   "cell_type": "markdown",
   "id": "cd4931d7",
   "metadata": {},
   "source": [
    "# CUNEF MUCD 2022/2023\n",
    "\n",
    "# Machine Learning\n",
    "# Análisis de Fraude¶"
   ]
  },
  {
   "cell_type": "markdown",
   "id": "8f60b87d",
   "metadata": {},
   "source": [
    "### Autores:\n",
    "- Gozde Yazganoglu\n",
    "- Irma Sanchez\n"
   ]
  },
  {
   "cell_type": "markdown",
   "id": "6d95d169",
   "metadata": {},
   "source": [
    "# Importación de Librerías\n"
   ]
  },
  {
   "cell_type": "code",
   "execution_count": 8,
   "id": "2321ae91",
   "metadata": {},
   "outputs": [],
   "source": [
    "import pandas as pd\n",
    "from sklearn.ensemble import RandomForestClassifier\n",
    "import pandas as pd\n",
    "import numpy as np\n",
    "import matplotlib.pyplot as plt\n",
    "import seaborn as sns\n",
    "\n",
    "import sklearn\n",
    "\n",
    "from sklearn.model_selection import train_test_split\n",
    "from sklearn.model_selection import cross_validate, KFold\n",
    "\n",
    "from sklearn.metrics import classification_report, confusion_matrix, roc_curve, auc, \\\n",
    "                            silhouette_score, recall_score, precision_score, make_scorer, \\\n",
    "                            roc_auc_score, f1_score, precision_recall_curve\n",
    "\n",
    "from sklearn.metrics import accuracy_score, roc_auc_score, \\\n",
    "                            classification_report, confusion_matrix\n",
    "\n",
    "\n",
    "from sklearn import metrics\n",
    "from sklearn.metrics import plot_confusion_matrix\n",
    "\n",
    "from sklearn.pipeline import Pipeline\n",
    "from sklearn.metrics import accuracy_score, log_loss\n",
    "\n",
    "from sklearn.ensemble import RandomForestClassifier\n",
    "from sklearn.discriminant_analysis import LinearDiscriminantAnalysis\n",
    "import pickle\n",
    "from sklearn.metrics import ConfusionMatrixDisplay\n",
    "\n",
    "import warnings\n",
    "warnings.filterwarnings('ignore')\n",
    "from aux_func import evaluate_model, cargar_modelo"
   ]
  },
  {
   "cell_type": "markdown",
   "id": "3305dc6a",
   "metadata": {},
   "source": [
    "# Cargo de los Datos y Processor"
   ]
  },
  {
   "cell_type": "code",
   "execution_count": 9,
   "id": "a0c47d93",
   "metadata": {},
   "outputs": [],
   "source": [
    "xtrain = pd.read_parquet(\"../data/processed/xtrain.parquet\")\n",
    "ytrain = pd.read_parquet(\"../data/processed/ytrain.parquet\")\n",
    "xtest = pd.read_parquet(\"../data/processed/xtest.parquet\")\n",
    "ytest = pd.read_parquet(\"../data/processed/ytest.parquet\")"
   ]
  },
  {
   "cell_type": "code",
   "execution_count": 6,
   "id": "26268b3c",
   "metadata": {},
   "outputs": [],
   "source": [
    "#Cargamos pipeline preprocesado\n",
    "preprocessor = cargar_modelo('../models/preprocessor.pickle')"
   ]
  },
  {
   "cell_type": "markdown",
   "id": "3cf146eb",
   "metadata": {},
   "source": [
    "# RANDOM FOREST"
   ]
  },
  {
   "cell_type": "markdown",
   "id": "d47b8bac",
   "metadata": {},
   "source": [
    "El algoritmo de bosque aleatorio es una extensión de bagging, ya que utiliza tanto el bagging como la Feature randomness para crear un bosque de árboles de decisión no correlacionado. La Feature randomness, genera un subconjunto aleatorio de características, lo que garantiza una baja correlación entre los árboles de decisión. Esta es una diferencia clave entre los árboles de decisión y el Random Forest."
   ]
  },
  {
   "cell_type": "code",
   "execution_count": 11,
   "id": "65f531f4",
   "metadata": {},
   "outputs": [],
   "source": [
    "clf_rf = Pipeline(steps=[\n",
    "    ('preprocesador', preprocessor), \n",
    "    \n",
    "    ('clasificador', RandomForestClassifier(n_jobs=-1, random_state=0))])"
   ]
  },
  {
   "cell_type": "code",
   "execution_count": 12,
   "id": "7a48da34",
   "metadata": {},
   "outputs": [
    {
     "data": {
      "text/plain": [
       "Pipeline(steps=[('preprocesador',\n",
       "                 ColumnTransformer(transformers=[('num',\n",
       "                                                  Pipeline(steps=[('imputer',\n",
       "                                                                   SimpleImputer(strategy='median')),\n",
       "                                                                  ('scaler',\n",
       "                                                                   StandardScaler())]),\n",
       "                                                  ['step', 'amount',\n",
       "                                                   'connection_time',\n",
       "                                                   'oldbalanceOrg', 'age',\n",
       "                                                   'newbalanceOrig',\n",
       "                                                   'user_number',\n",
       "                                                   'user_connections',\n",
       "                                                   'security_alert',\n",
       "                                                   'oldbalanceDest',\n",
       "                                                   'newbalanceDest']),\n",
       "                                                 ('cat',\n",
       "                                                  Pipeline(steps=[('imputer',\n",
       "                                                                   SimpleImputer(fill_value=nan,\n",
       "                                                                                 strategy='constant')),\n",
       "                                                                  ('onehot',\n",
       "                                                                   OneHotEncoder(handle_unknown='ignore'))]),\n",
       "                                                  ['type', 'gender', 'race',\n",
       "                                                   'zone', 'device'])])),\n",
       "                ('clasificador',\n",
       "                 RandomForestClassifier(n_jobs=-1, random_state=0))])"
      ]
     },
     "execution_count": 12,
     "metadata": {},
     "output_type": "execute_result"
    }
   ],
   "source": [
    "clf_rf.fit(xtrain, ytrain)"
   ]
  },
  {
   "cell_type": "code",
   "execution_count": 13,
   "id": "7c484f81",
   "metadata": {},
   "outputs": [
    {
     "name": "stdout",
     "output_type": "stream",
     "text": [
      "ROC-AUC score of the model: 0.9815634416539184\n",
      "Accuracy of the model: 0.999718665808359\n",
      "\n",
      "Classification report: \n",
      "              precision    recall  f1-score   support\n",
      "\n",
      "           0       1.00      1.00      1.00    209487\n",
      "           1       0.99      0.75      0.85       228\n",
      "\n",
      "    accuracy                           1.00    209715\n",
      "   macro avg       1.00      0.87      0.93    209715\n",
      "weighted avg       1.00      1.00      1.00    209715\n",
      "\n",
      "\n",
      "Confusion matrix: \n",
      "[[209486      1]\n",
      " [    58    170]]\n",
      "\n"
     ]
    }
   ],
   "source": [
    "ypred = clf_rf.predict(xtest)\n",
    "ypred_proba = clf_rf.predict_proba(xtest)\n",
    "evaluate_model(ytest,ypred, ypred_proba)"
   ]
  },
  {
   "cell_type": "code",
   "execution_count": 14,
   "id": "ba9b340e",
   "metadata": {},
   "outputs": [],
   "source": [
    "with open('../models/model_RF.pickle', 'wb') as f:\n",
    "    pickle.dump(clf_rf, f)"
   ]
  },
  {
   "cell_type": "code",
   "execution_count": 16,
   "id": "890eaf6a",
   "metadata": {},
   "outputs": [],
   "source": [
    "with open('../models/model_RF.pickle', 'rb') as f:\n",
    "    clf_svm = pickle.load(f)"
   ]
  },
  {
   "cell_type": "code",
   "execution_count": 17,
   "id": "bc85fa4f",
   "metadata": {},
   "outputs": [
    {
     "name": "stdout",
     "output_type": "stream",
     "text": [
      "Best Threshold=0.010000, G-Mean=0.972\n",
      "ROC-AUC score of the model: 0.9815634416539184\n",
      "Accuracy of the model: 0.9951124144672532\n",
      "\n",
      "Classification report: \n",
      "              precision    recall  f1-score   support\n",
      "\n",
      "           0       1.00      1.00      1.00    209487\n",
      "           1       0.18      0.94      0.30       228\n",
      "\n",
      "    accuracy                           1.00    209715\n",
      "   macro avg       0.59      0.97      0.65    209715\n",
      "weighted avg       1.00      1.00      1.00    209715\n",
      "\n",
      "\n",
      "Confusion matrix: \n",
      "[[208475   1012]\n",
      " [    13    215]]\n",
      "\n"
     ]
    }
   ],
   "source": [
    "# Adjusting threshold\n",
    "# keep probabilities for the positive outcome only\n",
    "yhat = ypred_proba[:, 1]\n",
    "# calculate roc curves\n",
    "fpr, tpr, thresholds = roc_curve(ytest, yhat)\n",
    "\n",
    "gmeans = np.sqrt(tpr * (1-fpr))\n",
    "# locate the index of the largest g-mean\n",
    "ix = np.argmax(gmeans)\n",
    "print('Best Threshold=%f, G-Mean=%.3f' % (thresholds[ix], gmeans[ix]))\n",
    "\n",
    "ypred_new_threshold = (ypred_proba[:,1]>thresholds[ix]).astype(int)\n",
    "evaluate_model(ytest,ypred_new_threshold,ypred_proba)"
   ]
  },
  {
   "cell_type": "markdown",
   "id": "5585fd2f",
   "metadata": {},
   "source": [
    "# Graficos"
   ]
  },
  {
   "cell_type": "markdown",
   "id": "cd274b60",
   "metadata": {},
   "source": [
    "ROC CURVE"
   ]
  },
  {
   "cell_type": "code",
   "execution_count": 21,
   "id": "f96aa16b",
   "metadata": {},
   "outputs": [
    {
     "data": {
      "image/png": "[encoded data removed]",
      "text/plain": [
       "<Figure size 432x288 with 1 Axes>"
      ]
     },
     "metadata": {
      "needs_background": "light"
     },
     "output_type": "display_data"
    }
   ],
   "source": [
    "import matplotlib.pyplot as plt\n",
    "# plot the roc curve for the model\n",
    "plt.plot([0,1], [0,1], linestyle='--', label='No Skill')\n",
    "plt.plot(fpr, tpr, marker='.', label='RandomForest')\n",
    "# axis labels\n",
    "plt.xlabel('False Positive Rate')\n",
    "plt.ylabel('True Positive Rate')\n",
    "plt.legend()\n",
    "# show the plot\n",
    "plt.show()"
   ]
  },
  {
   "cell_type": "code",
   "execution_count": 15,
   "id": "e365c4ae",
   "metadata": {},
   "outputs": [
    {
     "name": "stdout",
     "output_type": "stream",
     "text": [
      "Best Threshold=0.010000, G-Mean=0.972\n"
     ]
    }
   ],
   "source": [
    "# calculate the g-mean for each threshold\n",
    "gmeans = np.sqrt(tpr * (1-fpr))\n",
    "# locate the index of the largest g-mean\n",
    "ix = np.argmax(gmeans)\n",
    "print('Best Threshold=%f, G-Mean=%.3f' % (thresholds[ix], gmeans[ix]))"
   ]
  },
  {
   "cell_type": "markdown",
   "id": "3bcded02",
   "metadata": {},
   "source": [
    "PR CURVE"
   ]
  },
  {
   "cell_type": "code",
   "execution_count": 22,
   "id": "7ec893ed",
   "metadata": {},
   "outputs": [
    {
     "data": {
      "image/png": "[encoded data removed]",
      "text/plain": [
       "<Figure size 432x288 with 1 Axes>"
      ]
     },
     "metadata": {
      "needs_background": "light"
     },
     "output_type": "display_data"
    }
   ],
   "source": [
    "# calculate pr-curve\n",
    "precision, recall, thresholds = precision_recall_curve(ytest, yhat)\n",
    "# plot the roc curve for the model\n",
    "no_skill = len(ytest[ytest==1]) / len(ytest)\n",
    "plt.plot([0,1], [no_skill,no_skill], linestyle='--', label='No Skill')\n",
    "plt.plot(recall, precision, marker='.', label='RandomForest')\n",
    "# axis labels\n",
    "plt.xlabel('Recall')\n",
    "plt.ylabel('Precision')\n",
    "plt.legend()\n",
    "# show the plot\n",
    "plt.show()"
   ]
  },
  {
   "cell_type": "code",
   "execution_count": 23,
   "id": "e43bcc58",
   "metadata": {},
   "outputs": [
    {
     "name": "stdout",
     "output_type": "stream",
     "text": [
      "Best Threshold=0.370000, F-Score=0.867\n"
     ]
    },
    {
     "data": {
      "image/png": "[encoded data removed]",
      "text/plain": [
       "<Figure size 432x288 with 1 Axes>"
      ]
     },
     "metadata": {
      "needs_background": "light"
     },
     "output_type": "display_data"
    }
   ],
   "source": [
    "# convert to f score\n",
    "fscore = (2 * precision * recall) / (precision + recall)\n",
    "# locate the index of the largest f score\n",
    "ix = np.argmax(fscore)\n",
    "print('Best Threshold=%f, F-Score=%.3f' % (thresholds[ix], fscore[ix]))\n",
    "# plot the roc curve for the model\n",
    "no_skill = len(ytest[ytest==1]) / len(ytest)\n",
    "plt.plot([0,1], [no_skill,no_skill], linestyle='--', label='No Skill')\n",
    "plt.plot(recall, precision, marker='.', label='RandomForest')\n",
    "plt.scatter(recall[ix], precision[ix], s=100, marker='o', color='black', label='Best')\n",
    "# axis labels\n",
    "plt.xlabel('Recall')\n",
    "plt.ylabel('Precision')\n",
    "plt.legend()\n",
    "# show the plot\n",
    "plt.show()"
   ]
  },
  {
   "cell_type": "code",
   "execution_count": 18,
   "id": "55bda608",
   "metadata": {},
   "outputs": [
    {
     "name": "stdout",
     "output_type": "stream",
     "text": [
      "F-Score: 0.85213\n"
     ]
    }
   ],
   "source": [
    "# evaluate the model\n",
    "score = f1_score(ytest, ypred)\n",
    "print('F-Score: %.5f' % score)"
   ]
  },
  {
   "cell_type": "markdown",
   "id": "6c57eb55",
   "metadata": {},
   "source": [
    "CUMULATIVE GAINS CURVE"
   ]
  },
  {
   "cell_type": "code",
   "execution_count": 19,
   "id": "4fa8867b",
   "metadata": {},
   "outputs": [
    {
     "data": {
      "image/png": "[encoded data removed]",
      "text/plain": [
       "<Figure size 432x288 with 1 Axes>"
      ]
     },
     "metadata": {
      "needs_background": "light"
     },
     "output_type": "display_data"
    }
   ],
   "source": [
    "import scikitplot as skplt\n",
    "import matplotlib.pyplot as plt\n",
    "\n",
    "skplt.metrics.plot_cumulative_gain(ytest, ypred_proba)\n",
    "plt.show()"
   ]
  },
  {
   "cell_type": "markdown",
   "id": "ddc69c9f",
   "metadata": {},
   "source": [
    "LIFT CURVE"
   ]
  },
  {
   "cell_type": "code",
   "execution_count": 20,
   "id": "00257830",
   "metadata": {},
   "outputs": [
    {
     "data": {
      "image/png": "[encoded data removed]",
      "text/plain": [
       "<Figure size 432x288 with 1 Axes>"
      ]
     },
     "metadata": {
      "needs_background": "light"
     },
     "output_type": "display_data"
    }
   ],
   "source": [
    "skplt.metrics.plot_lift_curve(ytest, ypred_proba)\n",
    "plt.show()"
   ]
  },
  {
   "cell_type": "code",
   "execution_count": null,
   "id": "0ee5d5e9",
   "metadata": {},
   "outputs": [],
   "source": []
  }
 ],
 "metadata": {
  "kernelspec": {
   "display_name": "practica0",
   "language": "python",
   "name": "practica0"
  },
  "language_info": {
   "codemirror_mode": {
    "name": "ipython",
    "version": 3
   },
   "file_extension": ".py",
   "mimetype": "text/x-python",
   "name": "python",
   "nbconvert_exporter": "python",
   "pygments_lexer": "ipython3",
   "version": "3.9.13"
  }
 },
 "nbformat": 4,
 "nbformat_minor": 5
}
