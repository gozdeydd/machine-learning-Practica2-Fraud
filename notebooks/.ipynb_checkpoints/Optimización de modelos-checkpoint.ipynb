{
 "cells": [
  {
   "cell_type": "markdown",
   "id": "d0381f6e",
   "metadata": {},
   "source": [
    "# CUNEF MUCD 2022/2023\n",
    "## Machine Learning\n",
    "## Análisis de Fraude"
   ]
  },
  {
   "cell_type": "markdown",
   "id": "b82b4b60",
   "metadata": {},
   "source": [
    "# Autores:\n",
    "-Gozde Yazganoglu\n",
    "\n",
    "-Irma Sanchez"
   ]
  },
  {
   "cell_type": "code",
   "execution_count": 1,
   "id": "2ddb3beb",
   "metadata": {
    "pycharm": {
     "is_executing": true
    }
   },
   "outputs": [],
   "source": [
    "import pandas as pd\n",
    "from sklearn.ensemble import RandomForestClassifier\n",
    "import pandas as pd\n",
    "import numpy as np\n",
    "import matplotlib.pyplot as plt\n",
    "import seaborn as sns\n",
    "\n",
    "import sklearn\n",
    "\n",
    "from sklearn.model_selection import train_test_split\n",
    "from sklearn.model_selection import cross_validate, KFold\n",
    "\n",
    "from sklearn.metrics import classification_report, confusion_matrix, roc_curve, auc, \\\n",
    "                            silhouette_score, recall_score, precision_score, make_scorer, \\\n",
    "                            roc_auc_score, f1_score, precision_recall_curve\n",
    "\n",
    "from sklearn.metrics import accuracy_score, roc_auc_score, \\\n",
    "                            classification_report, confusion_matrix\n",
    "\n",
    "\n",
    "from sklearn import metrics\n",
    "from sklearn.metrics import plot_confusion_matrix\n",
    "\n",
    "from sklearn.pipeline import Pipeline\n",
    "from sklearn.metrics import accuracy_score, log_loss\n",
    "from sklearn.neighbors import KNeighborsClassifier\n",
    "from lightgbm import LGBMClassifier\n",
    "from sklearn.svm import SVC, LinearSVC, NuSVC\n",
    "from sklearn.tree import DecisionTreeClassifier\n",
    "from sklearn.ensemble import RandomForestClassifier, AdaBoostClassifier, GradientBoostingClassifier\n",
    "from sklearn.discriminant_analysis import LinearDiscriminantAnalysis\n",
    "from sklearn.metrics import ConfusionMatrixDisplay\n",
    "from sklearn.model_selection import GridSearchCV, RandomizedSearchCV\n",
    "import warnings\n",
    "from sklearn.preprocessing import StandardScaler\n",
    "from category_encoders import TargetEncoder\n",
    "from sklearn.preprocessing import OneHotEncoder\n",
    "from sklearn.impute import SimpleImputer, MissingIndicator\n",
    "from sklearn.compose import ColumnTransformer\n",
    "\n",
    "warnings.filterwarnings('ignore')\n",
    "\n",
    "from aux_func import evaluate_model\n",
    "from aux_func import model_analysis, cargar_modelo\n",
    "import lightgbm as lgb\n",
    "import pickle"
   ]
  },
  {
   "cell_type": "code",
   "execution_count": 2,
   "id": "bd098534",
   "metadata": {},
   "outputs": [],
   "source": [
    "import pickle\n",
    "import pandas as pd\n",
    "import numpy as np\n",
    "from sklearn.model_selection import GridSearchCV\n",
    "from aux_func import model_analysis, cargar_modelo"
   ]
  },
  {
   "cell_type": "code",
   "execution_count": 3,
   "id": "01f5e7f0",
   "metadata": {},
   "outputs": [],
   "source": [
    "#Cargamos pipeline preprocesado. Esto no funciona por cuestiones de incompatibilidad entre pickle y GridSearchCV. Funciona pero sin multithreading (n_jobs máximo es 1)\n",
    "# por lo que generamos de nuevo el preprocessor\n",
    "\n",
    "preprocessor = cargar_modelo('../models/preprocessor.pickle')"
   ]
  },
  {
   "cell_type": "code",
   "execution_count": 4,
   "id": "c7184122",
   "metadata": {},
   "outputs": [],
   "source": [
    "xtrain = pd.read_parquet(\"../data/processed/xtrain.parquet\")\n",
    "ytrain = pd.read_parquet(\"../data/processed/ytrain.parquet\")\n",
    "xtest = pd.read_parquet(\"../data/processed/xtest.parquet\")\n",
    "ytest = pd.read_parquet(\"../data/processed/ytest.parquet\")"
   ]
  },
  {
   "cell_type": "code",
   "execution_count": 6,
   "id": "a022d7e7",
   "metadata": {},
   "outputs": [],
   "source": [
    "lightgbm = cargar_modelo(\"../models/model_LightGBM.pickle\")"
   ]
  },
  {
   "cell_type": "code",
   "execution_count": 7,
   "id": "bd5aae1d",
   "metadata": {},
   "outputs": [],
   "source": [
    "lightgbm = Pipeline(steps=[('preprocessor', preprocessor),\n",
    "                            ('clasificador', lgb.LGBMClassifier())])"
   ]
  },
  {
   "cell_type": "code",
   "execution_count": 8,
   "id": "44264565",
   "metadata": {},
   "outputs": [],
   "source": [
    "param_grid = { \n",
    "    'clasificador__is_unbalance': [True],\n",
    "    'clasificador__max_depth': [-1],\n",
    "    'clasificador__objective': ['binary'],\n",
    "    'clasificador__learning_rate': [0.1, 0.05], \n",
    "    'clasificador__n_estimators' : [200, 300, 400], \n",
    "    'clasificador__importance_type' : ['split', 'gain'],\n",
    "    'clasificador__num_leaves': [50, 100, 200]\n",
    "    }\n",
    "\n",
    "CV = GridSearchCV(lightgbm, param_grid, cv=3, n_jobs=8, scoring='roc_auc', verbose=1)"
   ]
  },
  {
   "cell_type": "code",
   "execution_count": null,
   "id": "c308dcc9",
   "metadata": {},
   "outputs": [
    {
     "name": "stdout",
     "output_type": "stream",
     "text": [
      "Fitting 3 folds for each of 36 candidates, totalling 108 fits\n"
     ]
    },
    {
     "name": "stderr",
     "output_type": "stream",
     "text": [
      "/home/lapita/anaconda3/envs/practica0/lib/python3.9/site-packages/sklearn/preprocessing/_label.py:98: DataConversionWarning: A column-vector y was passed when a 1d array was expected. Please change the shape of y to (n_samples, ), for example using ravel().\n",
      "  y = column_or_1d(y, warn=True)\n",
      "/home/lapita/anaconda3/envs/practica0/lib/python3.9/site-packages/sklearn/preprocessing/_label.py:133: DataConversionWarning: A column-vector y was passed when a 1d array was expected. Please change the shape of y to (n_samples, ), for example using ravel().\n",
      "  y = column_or_1d(y, warn=True)\n",
      "/home/lapita/anaconda3/envs/practica0/lib/python3.9/site-packages/sklearn/preprocessing/_label.py:98: DataConversionWarning: A column-vector y was passed when a 1d array was expected. Please change the shape of y to (n_samples, ), for example using ravel().\n",
      "  y = column_or_1d(y, warn=True)\n",
      "/home/lapita/anaconda3/envs/practica0/lib/python3.9/site-packages/sklearn/preprocessing/_label.py:133: DataConversionWarning: A column-vector y was passed when a 1d array was expected. Please change the shape of y to (n_samples, ), for example using ravel().\n",
      "  y = column_or_1d(y, warn=True)\n",
      "/home/lapita/anaconda3/envs/practica0/lib/python3.9/site-packages/sklearn/preprocessing/_label.py:98: DataConversionWarning: A column-vector y was passed when a 1d array was expected. Please change the shape of y to (n_samples, ), for example using ravel().\n",
      "  y = column_or_1d(y, warn=True)\n",
      "/home/lapita/anaconda3/envs/practica0/lib/python3.9/site-packages/sklearn/preprocessing/_label.py:133: DataConversionWarning: A column-vector y was passed when a 1d array was expected. Please change the shape of y to (n_samples, ), for example using ravel().\n",
      "  y = column_or_1d(y, warn=True)\n",
      "/home/lapita/anaconda3/envs/practica0/lib/python3.9/site-packages/sklearn/preprocessing/_label.py:98: DataConversionWarning: A column-vector y was passed when a 1d array was expected. Please change the shape of y to (n_samples, ), for example using ravel().\n",
      "  y = column_or_1d(y, warn=True)\n",
      "/home/lapita/anaconda3/envs/practica0/lib/python3.9/site-packages/sklearn/preprocessing/_label.py:133: DataConversionWarning: A column-vector y was passed when a 1d array was expected. Please change the shape of y to (n_samples, ), for example using ravel().\n",
      "  y = column_or_1d(y, warn=True)\n",
      "/home/lapita/anaconda3/envs/practica0/lib/python3.9/site-packages/sklearn/preprocessing/_label.py:98: DataConversionWarning: A column-vector y was passed when a 1d array was expected. Please change the shape of y to (n_samples, ), for example using ravel().\n",
      "  y = column_or_1d(y, warn=True)\n",
      "/home/lapita/anaconda3/envs/practica0/lib/python3.9/site-packages/sklearn/preprocessing/_label.py:133: DataConversionWarning: A column-vector y was passed when a 1d array was expected. Please change the shape of y to (n_samples, ), for example using ravel().\n",
      "  y = column_or_1d(y, warn=True)\n",
      "/home/lapita/anaconda3/envs/practica0/lib/python3.9/site-packages/sklearn/preprocessing/_label.py:98: DataConversionWarning: A column-vector y was passed when a 1d array was expected. Please change the shape of y to (n_samples, ), for example using ravel().\n",
      "  y = column_or_1d(y, warn=True)\n",
      "/home/lapita/anaconda3/envs/practica0/lib/python3.9/site-packages/sklearn/preprocessing/_label.py:133: DataConversionWarning: A column-vector y was passed when a 1d array was expected. Please change the shape of y to (n_samples, ), for example using ravel().\n",
      "  y = column_or_1d(y, warn=True)\n",
      "/home/lapita/anaconda3/envs/practica0/lib/python3.9/site-packages/sklearn/preprocessing/_label.py:98: DataConversionWarning: A column-vector y was passed when a 1d array was expected. Please change the shape of y to (n_samples, ), for example using ravel().\n",
      "  y = column_or_1d(y, warn=True)\n",
      "/home/lapita/anaconda3/envs/practica0/lib/python3.9/site-packages/sklearn/preprocessing/_label.py:133: DataConversionWarning: A column-vector y was passed when a 1d array was expected. Please change the shape of y to (n_samples, ), for example using ravel().\n",
      "  y = column_or_1d(y, warn=True)\n",
      "/home/lapita/anaconda3/envs/practica0/lib/python3.9/site-packages/sklearn/preprocessing/_label.py:98: DataConversionWarning: A column-vector y was passed when a 1d array was expected. Please change the shape of y to (n_samples, ), for example using ravel().\n",
      "  y = column_or_1d(y, warn=True)\n",
      "/home/lapita/anaconda3/envs/practica0/lib/python3.9/site-packages/sklearn/preprocessing/_label.py:133: DataConversionWarning: A column-vector y was passed when a 1d array was expected. Please change the shape of y to (n_samples, ), for example using ravel().\n",
      "  y = column_or_1d(y, warn=True)\n",
      "/home/lapita/anaconda3/envs/practica0/lib/python3.9/site-packages/sklearn/preprocessing/_label.py:98: DataConversionWarning: A column-vector y was passed when a 1d array was expected. Please change the shape of y to (n_samples, ), for example using ravel().\n",
      "  y = column_or_1d(y, warn=True)\n",
      "/home/lapita/anaconda3/envs/practica0/lib/python3.9/site-packages/sklearn/preprocessing/_label.py:133: DataConversionWarning: A column-vector y was passed when a 1d array was expected. Please change the shape of y to (n_samples, ), for example using ravel().\n",
      "  y = column_or_1d(y, warn=True)\n",
      "/home/lapita/anaconda3/envs/practica0/lib/python3.9/site-packages/sklearn/preprocessing/_label.py:98: DataConversionWarning: A column-vector y was passed when a 1d array was expected. Please change the shape of y to (n_samples, ), for example using ravel().\n",
      "  y = column_or_1d(y, warn=True)\n",
      "/home/lapita/anaconda3/envs/practica0/lib/python3.9/site-packages/sklearn/preprocessing/_label.py:133: DataConversionWarning: A column-vector y was passed when a 1d array was expected. Please change the shape of y to (n_samples, ), for example using ravel().\n",
      "  y = column_or_1d(y, warn=True)\n",
      "/home/lapita/anaconda3/envs/practica0/lib/python3.9/site-packages/sklearn/preprocessing/_label.py:98: DataConversionWarning: A column-vector y was passed when a 1d array was expected. Please change the shape of y to (n_samples, ), for example using ravel().\n",
      "  y = column_or_1d(y, warn=True)\n",
      "/home/lapita/anaconda3/envs/practica0/lib/python3.9/site-packages/sklearn/preprocessing/_label.py:133: DataConversionWarning: A column-vector y was passed when a 1d array was expected. Please change the shape of y to (n_samples, ), for example using ravel().\n",
      "  y = column_or_1d(y, warn=True)\n",
      "/home/lapita/anaconda3/envs/practica0/lib/python3.9/site-packages/sklearn/preprocessing/_label.py:98: DataConversionWarning: A column-vector y was passed when a 1d array was expected. Please change the shape of y to (n_samples, ), for example using ravel().\n",
      "  y = column_or_1d(y, warn=True)\n",
      "/home/lapita/anaconda3/envs/practica0/lib/python3.9/site-packages/sklearn/preprocessing/_label.py:133: DataConversionWarning: A column-vector y was passed when a 1d array was expected. Please change the shape of y to (n_samples, ), for example using ravel().\n",
      "  y = column_or_1d(y, warn=True)\n",
      "/home/lapita/anaconda3/envs/practica0/lib/python3.9/site-packages/sklearn/preprocessing/_label.py:98: DataConversionWarning: A column-vector y was passed when a 1d array was expected. Please change the shape of y to (n_samples, ), for example using ravel().\n",
      "  y = column_or_1d(y, warn=True)\n",
      "/home/lapita/anaconda3/envs/practica0/lib/python3.9/site-packages/sklearn/preprocessing/_label.py:133: DataConversionWarning: A column-vector y was passed when a 1d array was expected. Please change the shape of y to (n_samples, ), for example using ravel().\n",
      "  y = column_or_1d(y, warn=True)\n",
      "/home/lapita/anaconda3/envs/practica0/lib/python3.9/site-packages/sklearn/preprocessing/_label.py:98: DataConversionWarning: A column-vector y was passed when a 1d array was expected. Please change the shape of y to (n_samples, ), for example using ravel().\n",
      "  y = column_or_1d(y, warn=True)\n",
      "/home/lapita/anaconda3/envs/practica0/lib/python3.9/site-packages/sklearn/preprocessing/_label.py:133: DataConversionWarning: A column-vector y was passed when a 1d array was expected. Please change the shape of y to (n_samples, ), for example using ravel().\n",
      "  y = column_or_1d(y, warn=True)\n",
      "/home/lapita/anaconda3/envs/practica0/lib/python3.9/site-packages/sklearn/preprocessing/_label.py:98: DataConversionWarning: A column-vector y was passed when a 1d array was expected. Please change the shape of y to (n_samples, ), for example using ravel().\n",
      "  y = column_or_1d(y, warn=True)\n",
      "/home/lapita/anaconda3/envs/practica0/lib/python3.9/site-packages/sklearn/preprocessing/_label.py:133: DataConversionWarning: A column-vector y was passed when a 1d array was expected. Please change the shape of y to (n_samples, ), for example using ravel().\n",
      "  y = column_or_1d(y, warn=True)\n",
      "/home/lapita/anaconda3/envs/practica0/lib/python3.9/site-packages/sklearn/preprocessing/_label.py:98: DataConversionWarning: A column-vector y was passed when a 1d array was expected. Please change the shape of y to (n_samples, ), for example using ravel().\n",
      "  y = column_or_1d(y, warn=True)\n",
      "/home/lapita/anaconda3/envs/practica0/lib/python3.9/site-packages/sklearn/preprocessing/_label.py:133: DataConversionWarning: A column-vector y was passed when a 1d array was expected. Please change the shape of y to (n_samples, ), for example using ravel().\n",
      "  y = column_or_1d(y, warn=True)\n"
     ]
    },
    {
     "name": "stderr",
     "output_type": "stream",
     "text": [
      "/home/lapita/anaconda3/envs/practica0/lib/python3.9/site-packages/sklearn/preprocessing/_label.py:98: DataConversionWarning: A column-vector y was passed when a 1d array was expected. Please change the shape of y to (n_samples, ), for example using ravel().\n",
      "  y = column_or_1d(y, warn=True)\n",
      "/home/lapita/anaconda3/envs/practica0/lib/python3.9/site-packages/sklearn/preprocessing/_label.py:133: DataConversionWarning: A column-vector y was passed when a 1d array was expected. Please change the shape of y to (n_samples, ), for example using ravel().\n",
      "  y = column_or_1d(y, warn=True)\n"
     ]
    }
   ],
   "source": [
    "CV.fit(xtrain,ytrain)"
   ]
  },
  {
   "cell_type": "code",
   "execution_count": null,
   "id": "b802d2a3",
   "metadata": {},
   "outputs": [],
   "source": [
    "with open('../models/LightGBM_optimizado.pickle', 'wb') as f:\n",
    "    pickle.dump(CV, f)"
   ]
  },
  {
   "cell_type": "code",
   "execution_count": 13,
   "id": "1d613a4d",
   "metadata": {},
   "outputs": [],
   "source": [
    "# Para no tener que ejecutar, saltarse el fit y ejecutar a partir de aquí\n",
    "with open('../models/LightGBM_optimizado.pickle', 'rb') as f:\n",
    "    CV = pickle.load(f)"
   ]
  },
  {
   "cell_type": "code",
   "execution_count": 14,
   "id": "95f533ec",
   "metadata": {},
   "outputs": [
    {
     "name": "stdout",
     "output_type": "stream",
     "text": [
      "{'clasificador__importance_type': 'split', 'clasificador__is_unbalance': True, 'clasificador__learning_rate': 0.05, 'clasificador__max_depth': -1, 'clasificador__n_estimators': 200, 'clasificador__num_leaves': 50, 'clasificador__objective': 'binary'}\n",
      "0.8944904519075934\n"
     ]
    }
   ],
   "source": [
    "print(CV.best_params_)\n",
    "print(CV.best_score_)\n",
    "ypred = CV.predict(xtest)\n",
    "ypred_proba = CV.predict_proba(xtest)"
   ]
  },
  {
   "cell_type": "code",
   "execution_count": 15,
   "id": "d22f8d28",
   "metadata": {},
   "outputs": [
    {
     "name": "stdout",
     "output_type": "stream",
     "text": [
      "ROC-AUC score of the model: 0.9209771024605722\n",
      "Accuracy of the model: 0.9343156188160122\n",
      "\n",
      "Classification report: \n",
      "              precision    recall  f1-score   support\n",
      "\n",
      "           0       1.00      0.93      0.97    209487\n",
      "           1       0.01      0.90      0.03       228\n",
      "\n",
      "    accuracy                           0.93    209715\n",
      "   macro avg       0.51      0.92      0.50    209715\n",
      "weighted avg       1.00      0.93      0.96    209715\n",
      "\n",
      "\n",
      "Confusion matrix: \n",
      "[[195734  13753]\n",
      " [    22    206]]\n",
      "\n"
     ]
    }
   ],
   "source": [
    "evaluate_model(ytest, ypred, ypred_proba)"
   ]
  },
  {
   "cell_type": "code",
   "execution_count": 16,
   "id": "589d8d7f",
   "metadata": {},
   "outputs": [
    {
     "name": "stdout",
     "output_type": "stream",
     "text": [
      "Best Threshold=0.000000, G-Mean=0.921\n",
      "ROC-AUC score of the model: 0.9209771024605722\n",
      "Accuracy of the model: 0.9342870085592352\n",
      "\n",
      "Classification report: \n",
      "              precision    recall  f1-score   support\n",
      "\n",
      "           0       1.00      0.93      0.97    209487\n",
      "           1       0.01      0.90      0.03       228\n",
      "\n",
      "    accuracy                           0.93    209715\n",
      "   macro avg       0.51      0.92      0.50    209715\n",
      "weighted avg       1.00      0.93      0.96    209715\n",
      "\n",
      "\n",
      "Confusion matrix: \n",
      "[[195728  13759]\n",
      " [    22    206]]\n",
      "\n"
     ]
    }
   ],
   "source": [
    "# keep probabilities for the positive outcome only\n",
    "yhat = ypred_proba[:, 1]\n",
    "# calculate roc curves\n",
    "fpr, tpr, thresholds = roc_curve(ytest, yhat)\n",
    "\n",
    "gmeans = np.sqrt(tpr * (1-fpr))\n",
    "# locate the index of the largest g-mean\n",
    "ix = np.argmax(gmeans)\n",
    "print('Best Threshold=%f, G-Mean=%.3f' % (thresholds[ix], gmeans[ix]))\n",
    "\n",
    "ypred_new_threshold = (ypred_proba[:,1]>thresholds[ix]).astype(int)\n",
    "evaluate_model(ytest,ypred_new_threshold,ypred_proba)"
   ]
  },
  {
   "cell_type": "code",
   "execution_count": 17,
   "id": "79486473",
   "metadata": {},
   "outputs": [],
   "source": [
    "rf = Pipeline(steps=[\n",
    "    ('preprocesador', preprocessor),\n",
    "    ('clasificador', RandomForestClassifier())])\n",
    "\n",
    "### Parameter Tunning Optimization\n",
    "param_grid = { \n",
    "    'clasificador__n_estimators': [200, 250, 500],\n",
    "    'clasificador__max_features': ['sqrt', 'log2'],\n",
    "    'clasificador__max_depth' : [4, 6, 8, None],\n",
    "    'clasificador__criterion' :['gini'],\n",
    "    'clasificador__class_weight':['balanced']}\n",
    "\n",
    "\n",
    "CV = GridSearchCV(rf, param_grid, cv=3, n_jobs=8, scoring='roc_auc', verbose=1)"
   ]
  },
  {
   "cell_type": "code",
   "execution_count": 18,
   "id": "fe5bca16",
   "metadata": {},
   "outputs": [
    {
     "name": "stdout",
     "output_type": "stream",
     "text": [
      "Fitting 3 folds for each of 24 candidates, totalling 72 fits\n",
      "{'clasificador__class_weight': 'balanced', 'clasificador__criterion': 'gini', 'clasificador__max_depth': 8, 'clasificador__max_features': 'sqrt', 'clasificador__n_estimators': 500}\n",
      "0.9916887606462984\n"
     ]
    }
   ],
   "source": [
    "CV.fit(xtrain, ytrain)\n",
    "print(CV.best_params_)\n",
    "print(CV.best_score_)"
   ]
  },
  {
   "cell_type": "code",
   "execution_count": 19,
   "id": "3bb04a3a",
   "metadata": {},
   "outputs": [],
   "source": [
    "with open('../models/RandomForest_optimizado.pickle', 'wb') as f:\n",
    "    pickle.dump(CV, f)"
   ]
  },
  {
   "cell_type": "code",
   "execution_count": 20,
   "id": "bf784f6b",
   "metadata": {},
   "outputs": [],
   "source": [
    "# Para no tener que ejecutar, saltarse el fit y ejecutar a partir de aquí\n",
    "with open('../models/RandomForest_optimizado.pickle', 'rb') as f:\n",
    "    CV = pickle.load(f)"
   ]
  },
  {
   "cell_type": "code",
   "execution_count": 21,
   "id": "17ceea1f",
   "metadata": {},
   "outputs": [
    {
     "name": "stdout",
     "output_type": "stream",
     "text": [
      "{'clasificador__class_weight': 'balanced', 'clasificador__criterion': 'gini', 'clasificador__max_depth': 8, 'clasificador__max_features': 'sqrt', 'clasificador__n_estimators': 500}\n",
      "0.9916887606462984\n"
     ]
    }
   ],
   "source": [
    "print(CV.best_params_)\n",
    "print(CV.best_score_)\n",
    "ypred = CV.predict(xtest)\n",
    "ypred_proba = CV.predict_proba(xtest)"
   ]
  },
  {
   "cell_type": "code",
   "execution_count": 22,
   "id": "aa089768",
   "metadata": {},
   "outputs": [
    {
     "name": "stdout",
     "output_type": "stream",
     "text": [
      "ROC-AUC score of the model: 0.9950900106098783\n",
      "Accuracy of the model: 0.9862956870037909\n",
      "\n",
      "Classification report: \n",
      "              precision    recall  f1-score   support\n",
      "\n",
      "           0       1.00      0.99      0.99    209487\n",
      "           1       0.07      0.94      0.13       228\n",
      "\n",
      "    accuracy                           0.99    209715\n",
      "   macro avg       0.53      0.96      0.56    209715\n",
      "weighted avg       1.00      0.99      0.99    209715\n",
      "\n",
      "\n",
      "Confusion matrix: \n",
      "[[206627   2860]\n",
      " [    14    214]]\n",
      "\n"
     ]
    }
   ],
   "source": [
    "evaluate_model(ytest, ypred, ypred_proba)"
   ]
  },
  {
   "cell_type": "code",
   "execution_count": 23,
   "id": "132e4284",
   "metadata": {},
   "outputs": [
    {
     "name": "stdout",
     "output_type": "stream",
     "text": [
      "Best Threshold=0.527940, G-Mean=0.965\n",
      "ROC-AUC score of the model: 0.9950900106098783\n",
      "Accuracy of the model: 0.991140357151372\n",
      "\n",
      "Classification report: \n",
      "              precision    recall  f1-score   support\n",
      "\n",
      "           0       1.00      0.99      1.00    209487\n",
      "           1       0.10      0.93      0.19       228\n",
      "\n",
      "    accuracy                           0.99    209715\n",
      "   macro avg       0.55      0.96      0.59    209715\n",
      "weighted avg       1.00      0.99      0.99    209715\n",
      "\n",
      "\n",
      "Confusion matrix: \n",
      "[[207644   1843]\n",
      " [    15    213]]\n",
      "\n"
     ]
    }
   ],
   "source": [
    "# keep probabilities for the positive outcome only\n",
    "yhat = ypred_proba[:, 1]\n",
    "# calculate roc curves\n",
    "fpr, tpr, thresholds = roc_curve(ytest, yhat)\n",
    "\n",
    "gmeans = np.sqrt(tpr * (1-fpr))\n",
    "# locate the index of the largest g-mean\n",
    "ix = np.argmax(gmeans)\n",
    "print('Best Threshold=%f, G-Mean=%.3f' % (thresholds[ix], gmeans[ix]))\n",
    "\n",
    "ypred_new_threshold = (ypred_proba[:,1]>thresholds[ix]).astype(int)\n",
    "evaluate_model(ytest,ypred_new_threshold,ypred_proba)"
   ]
  },
  {
   "cell_type": "code",
   "execution_count": 24,
   "id": "a05da022",
   "metadata": {},
   "outputs": [
    {
     "name": "stdout",
     "output_type": "stream",
     "text": [
      "ROC-AUC score of the model: 0.9950900106098783\n",
      "Accuracy of the model: 0.9862956870037909\n",
      "\n",
      "Classification report: \n",
      "              precision    recall  f1-score   support\n",
      "\n",
      "           0       1.00      0.99      0.99    209487\n",
      "           1       0.07      0.94      0.13       228\n",
      "\n",
      "    accuracy                           0.99    209715\n",
      "   macro avg       0.53      0.96      0.56    209715\n",
      "weighted avg       1.00      0.99      0.99    209715\n",
      "\n",
      "\n",
      "Confusion matrix: \n",
      "[[206627   2860]\n",
      " [    14    214]]\n",
      "\n"
     ]
    },
    {
     "data": {
      "image/png": "[encoded data removed]",
      "text/plain": [
       "<Figure size 720x720 with 2 Axes>"
      ]
     },
     "metadata": {
      "needs_background": "light"
     },
     "output_type": "display_data"
    }
   ],
   "source": [
    "ypred = CV.predict(xtest)\n",
    "ypred_proba = CV.predict_proba(xtest)\n",
    "fig, ax = plt.subplots(figsize=(10, 10))\n",
    "disp = ConfusionMatrixDisplay.from_predictions(ytest, ypred,\n",
    "                                                       cmap=plt.cm.Greens,\n",
    "                                                       normalize='true',\n",
    "                                                       ax=ax)\n",
    "ax.set_title('Matriz normalizada del modelo LightGBM optimizado')\n",
    "\n",
    "evaluate_model(ytest, ypred, ypred_proba)"
   ]
  },
  {
   "cell_type": "code",
   "execution_count": null,
   "id": "0055ed1f",
   "metadata": {},
   "outputs": [],
   "source": []
  }
 ],
 "metadata": {
  "kernelspec": {
   "display_name": "practica0",
   "language": "python",
   "name": "practica0"
  },
  "language_info": {
   "codemirror_mode": {
    "name": "ipython",
    "version": 3
   },
   "file_extension": ".py",
   "mimetype": "text/x-python",
   "name": "python",
   "nbconvert_exporter": "python",
   "pygments_lexer": "ipython3",
   "version": "3.9.13"
  }
 },
 "nbformat": 4,
 "nbformat_minor": 5
}
