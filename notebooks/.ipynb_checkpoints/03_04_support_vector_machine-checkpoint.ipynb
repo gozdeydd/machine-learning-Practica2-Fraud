{
 "cells": [
  {
   "cell_type": "markdown",
   "id": "aecaac25",
   "metadata": {},
   "source": [
    "# CUNEF MUCD 2022/2023\n",
    "\n",
    "# Machine Learning\n",
    "# Análisis de Fraude¶"
   ]
  },
  {
   "cell_type": "markdown",
   "id": "bbf510e5",
   "metadata": {},
   "source": [
    "### Autores:\n",
    "- Gozde Yazganoglu\n",
    "- Irma Sanchez"
   ]
  },
  {
   "cell_type": "markdown",
   "id": "376feb5e",
   "metadata": {},
   "source": [
    "# Importación de Librerías\n"
   ]
  },
  {
   "cell_type": "code",
   "execution_count": 1,
   "id": "8f315b34",
   "metadata": {},
   "outputs": [],
   "source": [
    "import pandas as pd\n",
    "import numpy as np\n",
    "\n",
    "from sklearn.metrics import classification_report, confusion_matrix, roc_curve, auc, \\\n",
    "                            silhouette_score, recall_score, precision_score, make_scorer, \\\n",
    "                            roc_auc_score, f1_score, precision_recall_curve\n",
    "\n",
    "from sklearn.metrics import accuracy_score, roc_auc_score, \\\n",
    "                            classification_report, confusion_matrix\n",
    "\n",
    "from sklearn.svm import SVC\n",
    "from sklearn import metrics\n",
    "from sklearn.metrics import plot_confusion_matrix\n",
    "from sklearn.metrics import accuracy_score, log_loss\n",
    "from sklearn.metrics import ConfusionMatrixDisplay\n",
    "\n",
    "from sklearn.naive_bayes import GaussianNB\n",
    "from sklearn.pipeline import Pipeline\n",
    "import pickle\n",
    "import warnings\n",
    "warnings.filterwarnings('ignore')\n",
    "\n",
    "from aux_func import evaluate_model, cargar_modelo"
   ]
  },
  {
   "cell_type": "markdown",
   "id": "3e9cd514",
   "metadata": {},
   "source": [
    "# Cargo de los Datos y Processor"
   ]
  },
  {
   "cell_type": "code",
   "execution_count": 2,
   "id": "b5938865",
   "metadata": {},
   "outputs": [],
   "source": [
    "xtrain = pd.read_parquet(\"../data/processed/xtrain.parquet\")\n",
    "ytrain = pd.read_parquet(\"../data/processed/ytrain.parquet\")\n",
    "xtest = pd.read_parquet(\"../data/processed/xtest.parquet\")\n",
    "ytest = pd.read_parquet(\"../data/processed/ytest.parquet\")"
   ]
  },
  {
   "cell_type": "code",
   "execution_count": 3,
   "id": "6942a608",
   "metadata": {},
   "outputs": [],
   "source": [
    "#Cargamos pipeline preprocesado\n",
    "preprocessor = cargar_modelo('../models/preprocessor.pickle')"
   ]
  },
  {
   "cell_type": "markdown",
   "id": "e5860850",
   "metadata": {},
   "source": [
    "# SUPPORT VECTOR MACHINE"
   ]
  },
  {
   "cell_type": "markdown",
   "id": "be271fc7",
   "metadata": {},
   "source": [
    "SVM  es un algoritmo de aprendizaje automático supervisado capaz de realizar clasificación, regresión e incluso detección de valores atípicos. Funciona dibujando una linea recta entre dos clases"
   ]
  },
  {
   "cell_type": "code",
   "execution_count": 4,
   "id": "2e01681a",
   "metadata": {},
   "outputs": [],
   "source": [
    "clf_svm = Pipeline(steps=[\n",
    "    ('preprocesador', preprocessor),\n",
    "    ('clasificador', SVC(kernel = 'sigmoid', probability= True, random_state=0))])"
   ]
  },
  {
   "cell_type": "code",
   "execution_count": 5,
   "id": "f99bca9b",
   "metadata": {},
   "outputs": [
    {
     "data": {
      "text/plain": [
       "Pipeline(steps=[('preprocesador',\n",
       "                 ColumnTransformer(transformers=[('num',\n",
       "                                                  Pipeline(steps=[('imputer',\n",
       "                                                                   SimpleImputer(strategy='median')),\n",
       "                                                                  ('scaler',\n",
       "                                                                   StandardScaler())]),\n",
       "                                                  ['step', 'amount',\n",
       "                                                   'connection_time',\n",
       "                                                   'oldbalanceOrg', 'age',\n",
       "                                                   'newbalanceOrig',\n",
       "                                                   'user_number',\n",
       "                                                   'user_connections',\n",
       "                                                   'security_alert',\n",
       "                                                   'oldbalanceDest',\n",
       "                                                   'newbalanceDest']),\n",
       "                                                 ('cat',\n",
       "                                                  Pipeline(steps=[('imputer',\n",
       "                                                                   SimpleImputer(fill_value=nan,\n",
       "                                                                                 strategy='constant')),\n",
       "                                                                  ('onehot',\n",
       "                                                                   OneHotEncoder(handle_unknown='ignore'))]),\n",
       "                                                  ['type', 'gender', 'race',\n",
       "                                                   'zone', 'device'])])),\n",
       "                ('clasificador',\n",
       "                 SVC(kernel='sigmoid', probability=True, random_state=0))])"
      ]
     },
     "execution_count": 5,
     "metadata": {},
     "output_type": "execute_result"
    }
   ],
   "source": [
    "clf_svm.fit(xtrain, ytrain)"
   ]
  },
  {
   "cell_type": "code",
   "execution_count": 6,
   "id": "543e815c",
   "metadata": {},
   "outputs": [],
   "source": [
    "with open('../models/model_SVM.pickle', 'wb') as f:\n",
    "    pickle.dump(clf_svm, f)"
   ]
  },
  {
   "cell_type": "code",
   "execution_count": 7,
   "id": "684ff2ef",
   "metadata": {},
   "outputs": [],
   "source": [
    "with open('../models/model_SVM.pickle', 'rb') as f:\n",
    "    clf_svm = pickle.load(f)"
   ]
  },
  {
   "cell_type": "code",
   "execution_count": 8,
   "id": "c51694d5",
   "metadata": {},
   "outputs": [
    {
     "name": "stdout",
     "output_type": "stream",
     "text": [
      "Accuracy of the model: 0.9979877452733472\n",
      "\n",
      "Classification report: \n",
      "              precision    recall  f1-score   support\n",
      "\n",
      "           0       1.00      1.00      1.00    209487\n",
      "           1       0.02      0.02      0.02       228\n",
      "\n",
      "    accuracy                           1.00    209715\n",
      "   macro avg       0.51      0.51      0.51    209715\n",
      "weighted avg       1.00      1.00      1.00    209715\n",
      "\n",
      "\n",
      "Confusion matrix: \n",
      "[[209289    198]\n",
      " [   224      4]]\n",
      "\n"
     ]
    }
   ],
   "source": [
    "ypred = clf_svm.predict(xtest)\n",
    "ypred_proba = clf_svm.predict_proba(xtest)\n",
    "evaluate_model(ytest,ypred)"
   ]
  },
  {
   "cell_type": "markdown",
   "id": "c290bd11",
   "metadata": {},
   "source": [
    "De todos los casos en los que hubo fraude, el modelo solo ha predicho el 0.02%. Sin embargo el accuracy es bueno debido a que tenemos muchos más casos de 'no fraude', por eso piensa que predice bien."
   ]
  },
  {
   "cell_type": "markdown",
   "id": "d8648e8b",
   "metadata": {},
   "source": [
    "# Ajuste del umbral de predicción"
   ]
  },
  {
   "cell_type": "code",
   "execution_count": 36,
   "id": "dd2c1730",
   "metadata": {},
   "outputs": [
    {
     "name": "stdout",
     "output_type": "stream",
     "text": [
      "Best Threshold=0.001548, G-Mean=0.598\n",
      "ROC-AUC score of the model: 0.5882601139508804\n",
      "Accuracy of the model: 0.7483680232696756\n",
      "\n",
      "Classification report: \n",
      "              precision    recall  f1-score   support\n",
      "\n",
      "           0       1.00      0.75      0.86    209487\n",
      "           1       0.00      0.47      0.00       228\n",
      "\n",
      "    accuracy                           0.75    209715\n",
      "   macro avg       0.50      0.61      0.43    209715\n",
      "weighted avg       1.00      0.75      0.86    209715\n",
      "\n",
      "\n",
      "Confusion matrix: \n",
      "[[156836  52651]\n",
      " [   120    108]]\n",
      "\n"
     ]
    }
   ],
   "source": [
    "\n",
    "# keep probabilities for the positive outcome only\n",
    "yhat = ypred_proba[:, 1]\n",
    "# calculate roc curves\n",
    "fpr, tpr, thresholds = roc_curve(ytest, yhat)\n",
    "\n",
    "gmeans = np.sqrt(tpr * (1-fpr))\n",
    "# locate the index of the largest g-mean\n",
    "ix = np.argmax(gmeans)\n",
    "print('Best Threshold=%f, G-Mean=%.3f' % (thresholds[ix], gmeans[ix]))\n",
    "\n",
    "ypred_new_threshold = (ypred_proba[:,1]>thresholds[ix]).astype(int)\n",
    "evaluate_model(ytest,ypred_new_threshold,ypred_proba)"
   ]
  },
  {
   "cell_type": "markdown",
   "id": "acee1b44",
   "metadata": {},
   "source": [
    "# Graficos"
   ]
  },
  {
   "cell_type": "code",
   "execution_count": 37,
   "id": "f18ff28c",
   "metadata": {},
   "outputs": [
    {
     "data": {
      "image/png": "[encoded data removed]",
      "text/plain": [
       "<Figure size 432x288 with 1 Axes>"
      ]
     },
     "metadata": {
      "needs_background": "light"
     },
     "output_type": "display_data"
    }
   ],
   "source": [
    "import matplotlib.pyplot as plt\n",
    "# plot the roc curve for the model\n",
    "plt.plot([0,1], [0,1], linestyle='--', label='No Skill')\n",
    "plt.plot(fpr, tpr, marker='.', label='SVM')\n",
    "# axis labels\n",
    "plt.xlabel('False Positive Rate')\n",
    "plt.ylabel('True Positive Rate')\n",
    "plt.legend()\n",
    "# show the plot\n",
    "plt.show()"
   ]
  },
  {
   "cell_type": "code",
   "execution_count": 14,
   "id": "fce14f5d",
   "metadata": {},
   "outputs": [
    {
     "name": "stdout",
     "output_type": "stream",
     "text": [
      "Best Threshold=0.001548, G-Mean=0.598\n"
     ]
    }
   ],
   "source": [
    "# calculate the g-mean for each threshold\n",
    "gmeans = np.sqrt(tpr * (1-fpr))\n",
    "# locate the index of the largest g-mean\n",
    "ix = np.argmax(gmeans)\n",
    "print('Best Threshold=%f, G-Mean=%.3f' % (thresholds[ix], gmeans[ix]))"
   ]
  },
  {
   "cell_type": "markdown",
   "id": "99870d3a",
   "metadata": {},
   "source": [
    "PR CURVE"
   ]
  },
  {
   "cell_type": "code",
   "execution_count": 31,
   "id": "9303aaa1",
   "metadata": {},
   "outputs": [
    {
     "data": {
      "image/png": "[encoded data removed]",
      "text/plain": [
       "<Figure size 432x288 with 1 Axes>"
      ]
     },
     "metadata": {
      "needs_background": "light"
     },
     "output_type": "display_data"
    }
   ],
   "source": [
    "# calculate pr-curve\n",
    "precision, recall, thresholds = precision_recall_curve(ytest, yhat)\n",
    "# plot the roc curve for the model\n",
    "no_skill = len(ytest[ytest==1]) / len(ytest)\n",
    "plt.plot([0,1], [no_skill,no_skill], linestyle='--', label='No Skill')\n",
    "plt.plot(recall, precision, marker='.', label='SVM')\n",
    "# axis labels\n",
    "plt.xlabel('Recall')\n",
    "plt.ylabel('Precision')\n",
    "plt.legend()\n",
    "# show the plot\n",
    "plt.show()"
   ]
  },
  {
   "cell_type": "code",
   "execution_count": 33,
   "id": "122e08b9",
   "metadata": {},
   "outputs": [
    {
     "name": "stdout",
     "output_type": "stream",
     "text": [
      "Best Threshold=0.012233, F-Score=nan\n"
     ]
    },
    {
     "data": {
      "image/png": "[encoded data removed]",
      "text/plain": [
       "<Figure size 432x288 with 1 Axes>"
      ]
     },
     "metadata": {
      "needs_background": "light"
     },
     "output_type": "display_data"
    }
   ],
   "source": [
    "# convert to f score\n",
    "fscore = (2 * precision * recall) / (precision + recall)\n",
    "# locate the index of the largest f score\n",
    "ix = np.argmax(fscore)\n",
    "print('Best Threshold=%f, F-Score=%.3f' % (thresholds[ix], fscore[ix]))\n",
    "# plot the roc curve for the model\n",
    "no_skill = len(ytest[ytest==1]) / len(ytest)\n",
    "plt.plot([0,1], [no_skill,no_skill], linestyle='--', label='No Skill')\n",
    "plt.plot(recall, precision, marker='.', label='SVM')\n",
    "plt.scatter(recall[ix], precision[ix], s=100, marker='o', color='black', label='Best')\n",
    "# axis labels\n",
    "plt.xlabel('Recall')\n",
    "plt.ylabel('Precision')\n",
    "plt.legend()\n",
    "# show the plot\n",
    "plt.show()"
   ]
  },
  {
   "cell_type": "code",
   "execution_count": 34,
   "id": "9204c0ff",
   "metadata": {},
   "outputs": [
    {
     "name": "stdout",
     "output_type": "stream",
     "text": [
      "F-Score: 0.01860\n"
     ]
    }
   ],
   "source": [
    "# evaluate the model\n",
    "score = f1_score(ytest, ypred)\n",
    "print('F-Score: %.5f' % score)"
   ]
  },
  {
   "cell_type": "markdown",
   "id": "58dbc926",
   "metadata": {},
   "source": [
    "CUMULATIVE GAINS CURVE"
   ]
  },
  {
   "cell_type": "code",
   "execution_count": 23,
   "id": "328c2b30",
   "metadata": {},
   "outputs": [
    {
     "data": {
      "image/png": "[encoded data removed]",
      "text/plain": [
       "<Figure size 432x288 with 1 Axes>"
      ]
     },
     "metadata": {
      "needs_background": "light"
     },
     "output_type": "display_data"
    }
   ],
   "source": [
    "import scikitplot as skplt\n",
    "import matplotlib.pyplot as plt\n",
    "\n",
    "skplt.metrics.plot_cumulative_gain(ytest, ypred_proba)\n",
    "plt.show()"
   ]
  },
  {
   "cell_type": "markdown",
   "id": "ed1c03ee",
   "metadata": {},
   "source": [
    "El 20 % de la muestra Class1, acumula el 40% de casos positivos"
   ]
  },
  {
   "cell_type": "markdown",
   "id": "177fad5f",
   "metadata": {},
   "source": [
    "LIFT CURVE"
   ]
  },
  {
   "cell_type": "code",
   "execution_count": 25,
   "id": "240dff0d",
   "metadata": {},
   "outputs": [
    {
     "data": {
      "image/png": "[encoded data removed]",
      "text/plain": [
       "<Figure size 432x288 with 1 Axes>"
      ]
     },
     "metadata": {
      "needs_background": "light"
     },
     "output_type": "display_data"
    }
   ],
   "source": [
    "skplt.metrics.plot_lift_curve(ytest, ypred_proba)\n",
    "plt.show()"
   ]
  },
  {
   "cell_type": "markdown",
   "id": "812afd24",
   "metadata": {},
   "source": [
    "Tomando el 20% de la muestra de Class1, el modelo es 2 veces mejor que la aleatoriedad"
   ]
  }
 ],
 "metadata": {
  "kernelspec": {
   "display_name": "practica0",
   "language": "python",
   "name": "practica0"
  },
  "language_info": {
   "codemirror_mode": {
    "name": "ipython",
    "version": 3
   },
   "file_extension": ".py",
   "mimetype": "text/x-python",
   "name": "python",
   "nbconvert_exporter": "python",
   "pygments_lexer": "ipython3",
   "version": "3.9.13"
  }
 },
 "nbformat": 4,
 "nbformat_minor": 5
}
