{
 "cells": [
  {
   "cell_type": "markdown",
   "id": "aecaac25",
   "metadata": {},
   "source": [
    "# CUNEF MUCD 2022/2023\n",
    "\n",
    "# Machine Learning\n",
    "# Análisis de Fraude¶"
   ]
  },
  {
   "cell_type": "markdown",
   "id": "bbf510e5",
   "metadata": {},
   "source": [
    "### Autores:\n",
    "- Gozde Yazganoglu\n",
    "- Irma Sanchez"
   ]
  },
  {
   "cell_type": "markdown",
   "id": "376feb5e",
   "metadata": {},
   "source": [
    "# Importación de Librerías\n"
   ]
  },
  {
   "cell_type": "code",
   "execution_count": 1,
   "id": "8f315b34",
   "metadata": {},
   "outputs": [],
   "source": [
    "import pandas as pd\n",
    "import numpy as np\n",
    "\n",
    "from sklearn.metrics import classification_report, confusion_matrix, roc_curve, auc, \\\n",
    "                            silhouette_score, recall_score, precision_score, make_scorer, \\\n",
    "                            roc_auc_score, f1_score, precision_recall_curve\n",
    "\n",
    "from sklearn.metrics import accuracy_score, roc_auc_score, \\\n",
    "                            classification_report, confusion_matrix\n",
    "\n",
    "\n",
    "from sklearn import metrics\n",
    "from sklearn.metrics import plot_confusion_matrix\n",
    "from sklearn.metrics import accuracy_score, log_loss\n",
    "from sklearn.metrics import ConfusionMatrixDisplay\n",
    "\n",
    "import lightgbm as lgb\n",
    "from sklearn.pipeline import Pipeline\n",
    "import pickle\n",
    "import warnings\n",
    "warnings.filterwarnings('ignore')\n",
    "\n",
    "#from aux_func import evaluate_model, cargar_modelo"
   ]
  },
  {
   "cell_type": "markdown",
   "id": "3e9cd514",
   "metadata": {},
   "source": [
    "# Cargo de los Datos y Processor"
   ]
  },
  {
   "cell_type": "code",
   "execution_count": 2,
   "id": "b5938865",
   "metadata": {},
   "outputs": [],
   "source": [
    "xtrain = pd.read_parquet(\"../data/processed/xtrain.parquet\")\n",
    "ytrain = pd.read_parquet(\"../data/processed/ytrain.parquet\")\n",
    "xtest = pd.read_parquet(\"../data/processed/xtest.parquet\")\n",
    "ytest = pd.read_parquet(\"../data/processed/ytest.parquet\")"
   ]
  },
  {
   "cell_type": "code",
   "execution_count": 28,
   "id": "164eb257",
   "metadata": {},
   "outputs": [],
   "source": [
    "### Función para cargar el Modelo\n",
    "def cargar_modelo(ruta):\n",
    "    return pickle.load(open(ruta, 'rb'))"
   ]
  },
  {
   "cell_type": "code",
   "execution_count": 11,
   "id": "259f8f3b",
   "metadata": {},
   "outputs": [],
   "source": [
    "#Cargamos pipeline preprocesado\n",
    "preprocessor = cargar_modelo('../models/preprocessor.pickle')"
   ]
  },
  {
   "cell_type": "markdown",
   "id": "3b005cac",
   "metadata": {},
   "source": [
    "# LIGHTGBM"
   ]
  },
  {
   "cell_type": "markdown",
   "id": "ff238b28",
   "metadata": {},
   "source": [
    "LightGBM es un clasificador que utiliza técnicas homólogas a las que utiliza XGBoost, pero se encuentra más optimizado que XGBoost permitiendo una mayor velocidad de entrenamiento y mayor eficiencia. A diferencia de XGBoost, utiliza aprendizaje en paralelo."
   ]
  },
  {
   "cell_type": "code",
   "execution_count": 12,
   "id": "2e01681a",
   "metadata": {},
   "outputs": [],
   "source": [
    "clf_lgbm = Pipeline(steps=[\n",
    "    ('preprocesador', preprocessor),\n",
    "    ('clasificador', lgb.LGBMClassifier(n_jobs=-1, random_state=0))])"
   ]
  },
  {
   "cell_type": "code",
   "execution_count": 13,
   "id": "aabfda93",
   "metadata": {},
   "outputs": [],
   "source": [
    "### Función Métricas del Modelo\n",
    "def evaluate_model(ytest, ypred, ypred_proba = None):\n",
    "    if ypred_proba is not None:\n",
    "        print('ROC-AUC score of the model: {}'.format(roc_auc_score(ytest, ypred_proba[:, 1])))\n",
    "    print('Accuracy of the model: {}\\n'.format(accuracy_score(ytest, ypred)))\n",
    "    print('Classification report: \\n{}\\n'.format(classification_report(ytest, ypred)))\n",
    "    print('Confusion matrix: \\n{}\\n'.format(confusion_matrix(ytest, ypred)))"
   ]
  },
  {
   "cell_type": "code",
   "execution_count": 14,
   "id": "6942a608",
   "metadata": {},
   "outputs": [],
   "source": [
    "### Función para cargar el Modelo\n",
    "def cargar_modelo(ruta):\n",
    "    return pickle.load(open(ruta, 'rb'))"
   ]
  },
  {
   "cell_type": "code",
   "execution_count": 15,
   "id": "f99bca9b",
   "metadata": {},
   "outputs": [
    {
     "data": {
      "text/html": [
       "<style>#sk-container-id-1 {color: black;background-color: white;}#sk-container-id-1 pre{padding: 0;}#sk-container-id-1 div.sk-toggleable {background-color: white;}#sk-container-id-1 label.sk-toggleable__label {cursor: pointer;display: block;width: 100%;margin-bottom: 0;padding: 0.3em;box-sizing: border-box;text-align: center;}#sk-container-id-1 label.sk-toggleable__label-arrow:before {content: \"▸\";float: left;margin-right: 0.25em;color: #696969;}#sk-container-id-1 label.sk-toggleable__label-arrow:hover:before {color: black;}#sk-container-id-1 div.sk-estimator:hover label.sk-toggleable__label-arrow:before {color: black;}#sk-container-id-1 div.sk-toggleable__content {max-height: 0;max-width: 0;overflow: hidden;text-align: left;background-color: #f0f8ff;}#sk-container-id-1 div.sk-toggleable__content pre {margin: 0.2em;color: black;border-radius: 0.25em;background-color: #f0f8ff;}#sk-container-id-1 input.sk-toggleable__control:checked~div.sk-toggleable__content {max-height: 200px;max-width: 100%;overflow: auto;}#sk-container-id-1 input.sk-toggleable__control:checked~label.sk-toggleable__label-arrow:before {content: \"▾\";}#sk-container-id-1 div.sk-estimator input.sk-toggleable__control:checked~label.sk-toggleable__label {background-color: #d4ebff;}#sk-container-id-1 div.sk-label input.sk-toggleable__control:checked~label.sk-toggleable__label {background-color: #d4ebff;}#sk-container-id-1 input.sk-hidden--visually {border: 0;clip: rect(1px 1px 1px 1px);clip: rect(1px, 1px, 1px, 1px);height: 1px;margin: -1px;overflow: hidden;padding: 0;position: absolute;width: 1px;}#sk-container-id-1 div.sk-estimator {font-family: monospace;background-color: #f0f8ff;border: 1px dotted black;border-radius: 0.25em;box-sizing: border-box;margin-bottom: 0.5em;}#sk-container-id-1 div.sk-estimator:hover {background-color: #d4ebff;}#sk-container-id-1 div.sk-parallel-item::after {content: \"\";width: 100%;border-bottom: 1px solid gray;flex-grow: 1;}#sk-container-id-1 div.sk-label:hover label.sk-toggleable__label {background-color: #d4ebff;}#sk-container-id-1 div.sk-serial::before {content: \"\";position: absolute;border-left: 1px solid gray;box-sizing: border-box;top: 0;bottom: 0;left: 50%;z-index: 0;}#sk-container-id-1 div.sk-serial {display: flex;flex-direction: column;align-items: center;background-color: white;padding-right: 0.2em;padding-left: 0.2em;position: relative;}#sk-container-id-1 div.sk-item {position: relative;z-index: 1;}#sk-container-id-1 div.sk-parallel {display: flex;align-items: stretch;justify-content: center;background-color: white;position: relative;}#sk-container-id-1 div.sk-item::before, #sk-container-id-1 div.sk-parallel-item::before {content: \"\";position: absolute;border-left: 1px solid gray;box-sizing: border-box;top: 0;bottom: 0;left: 50%;z-index: -1;}#sk-container-id-1 div.sk-parallel-item {display: flex;flex-direction: column;z-index: 1;position: relative;background-color: white;}#sk-container-id-1 div.sk-parallel-item:first-child::after {align-self: flex-end;width: 50%;}#sk-container-id-1 div.sk-parallel-item:last-child::after {align-self: flex-start;width: 50%;}#sk-container-id-1 div.sk-parallel-item:only-child::after {width: 0;}#sk-container-id-1 div.sk-dashed-wrapped {border: 1px dashed gray;margin: 0 0.4em 0.5em 0.4em;box-sizing: border-box;padding-bottom: 0.4em;background-color: white;}#sk-container-id-1 div.sk-label label {font-family: monospace;font-weight: bold;display: inline-block;line-height: 1.2em;}#sk-container-id-1 div.sk-label-container {text-align: center;}#sk-container-id-1 div.sk-container {/* jupyter's `normalize.less` sets `[hidden] { display: none; }` but bootstrap.min.css set `[hidden] { display: none !important; }` so we also need the `!important` here to be able to override the default hidden behavior on the sphinx rendered scikit-learn.org. See: https://github.com/scikit-learn/scikit-learn/issues/21755 */display: inline-block !important;position: relative;}#sk-container-id-1 div.sk-text-repr-fallback {display: none;}</style><div id=\"sk-container-id-1\" class=\"sk-top-container\"><div class=\"sk-text-repr-fallback\"><pre>Pipeline(steps=[(&#x27;preprocesador&#x27;,\n",
       "                 ColumnTransformer(transformers=[(&#x27;num&#x27;,\n",
       "                                                  Pipeline(steps=[(&#x27;imputer&#x27;,\n",
       "                                                                   SimpleImputer(strategy=&#x27;median&#x27;)),\n",
       "                                                                  (&#x27;scaler&#x27;,\n",
       "                                                                   StandardScaler())]),\n",
       "                                                  [&#x27;step&#x27;, &#x27;amount&#x27;,\n",
       "                                                   &#x27;connection_time&#x27;,\n",
       "                                                   &#x27;oldbalanceOrg&#x27;, &#x27;age&#x27;,\n",
       "                                                   &#x27;newbalanceOrig&#x27;,\n",
       "                                                   &#x27;user_number&#x27;,\n",
       "                                                   &#x27;user_connections&#x27;,\n",
       "                                                   &#x27;security_alert&#x27;,\n",
       "                                                   &#x27;oldbalanceDest&#x27;,\n",
       "                                                   &#x27;newbalanceDest&#x27;]),\n",
       "                                                 (&#x27;cat&#x27;,\n",
       "                                                  Pipeline(steps=[(&#x27;imputer&#x27;,\n",
       "                                                                   SimpleImputer(fill_value=nan,\n",
       "                                                                                 strategy=&#x27;constant&#x27;)),\n",
       "                                                                  (&#x27;onehot&#x27;,\n",
       "                                                                   OneHotEncoder(handle_unknown=&#x27;ignore&#x27;))]),\n",
       "                                                  [&#x27;type&#x27;, &#x27;gender&#x27;, &#x27;race&#x27;,\n",
       "                                                   &#x27;zone&#x27;, &#x27;device&#x27;])])),\n",
       "                (&#x27;clasificador&#x27;, LGBMClassifier(random_state=0))])</pre><b>In a Jupyter environment, please rerun this cell to show the HTML representation or trust the notebook. <br />On GitHub, the HTML representation is unable to render, please try loading this page with nbviewer.org.</b></div><div class=\"sk-container\" hidden><div class=\"sk-item sk-dashed-wrapped\"><div class=\"sk-label-container\"><div class=\"sk-label sk-toggleable\"><input class=\"sk-toggleable__control sk-hidden--visually\" id=\"sk-estimator-id-1\" type=\"checkbox\" ><label for=\"sk-estimator-id-1\" class=\"sk-toggleable__label sk-toggleable__label-arrow\">Pipeline</label><div class=\"sk-toggleable__content\"><pre>Pipeline(steps=[(&#x27;preprocesador&#x27;,\n",
       "                 ColumnTransformer(transformers=[(&#x27;num&#x27;,\n",
       "                                                  Pipeline(steps=[(&#x27;imputer&#x27;,\n",
       "                                                                   SimpleImputer(strategy=&#x27;median&#x27;)),\n",
       "                                                                  (&#x27;scaler&#x27;,\n",
       "                                                                   StandardScaler())]),\n",
       "                                                  [&#x27;step&#x27;, &#x27;amount&#x27;,\n",
       "                                                   &#x27;connection_time&#x27;,\n",
       "                                                   &#x27;oldbalanceOrg&#x27;, &#x27;age&#x27;,\n",
       "                                                   &#x27;newbalanceOrig&#x27;,\n",
       "                                                   &#x27;user_number&#x27;,\n",
       "                                                   &#x27;user_connections&#x27;,\n",
       "                                                   &#x27;security_alert&#x27;,\n",
       "                                                   &#x27;oldbalanceDest&#x27;,\n",
       "                                                   &#x27;newbalanceDest&#x27;]),\n",
       "                                                 (&#x27;cat&#x27;,\n",
       "                                                  Pipeline(steps=[(&#x27;imputer&#x27;,\n",
       "                                                                   SimpleImputer(fill_value=nan,\n",
       "                                                                                 strategy=&#x27;constant&#x27;)),\n",
       "                                                                  (&#x27;onehot&#x27;,\n",
       "                                                                   OneHotEncoder(handle_unknown=&#x27;ignore&#x27;))]),\n",
       "                                                  [&#x27;type&#x27;, &#x27;gender&#x27;, &#x27;race&#x27;,\n",
       "                                                   &#x27;zone&#x27;, &#x27;device&#x27;])])),\n",
       "                (&#x27;clasificador&#x27;, LGBMClassifier(random_state=0))])</pre></div></div></div><div class=\"sk-serial\"><div class=\"sk-item sk-dashed-wrapped\"><div class=\"sk-label-container\"><div class=\"sk-label sk-toggleable\"><input class=\"sk-toggleable__control sk-hidden--visually\" id=\"sk-estimator-id-2\" type=\"checkbox\" ><label for=\"sk-estimator-id-2\" class=\"sk-toggleable__label sk-toggleable__label-arrow\">preprocesador: ColumnTransformer</label><div class=\"sk-toggleable__content\"><pre>ColumnTransformer(transformers=[(&#x27;num&#x27;,\n",
       "                                 Pipeline(steps=[(&#x27;imputer&#x27;,\n",
       "                                                  SimpleImputer(strategy=&#x27;median&#x27;)),\n",
       "                                                 (&#x27;scaler&#x27;, StandardScaler())]),\n",
       "                                 [&#x27;step&#x27;, &#x27;amount&#x27;, &#x27;connection_time&#x27;,\n",
       "                                  &#x27;oldbalanceOrg&#x27;, &#x27;age&#x27;, &#x27;newbalanceOrig&#x27;,\n",
       "                                  &#x27;user_number&#x27;, &#x27;user_connections&#x27;,\n",
       "                                  &#x27;security_alert&#x27;, &#x27;oldbalanceDest&#x27;,\n",
       "                                  &#x27;newbalanceDest&#x27;]),\n",
       "                                (&#x27;cat&#x27;,\n",
       "                                 Pipeline(steps=[(&#x27;imputer&#x27;,\n",
       "                                                  SimpleImputer(fill_value=nan,\n",
       "                                                                strategy=&#x27;constant&#x27;)),\n",
       "                                                 (&#x27;onehot&#x27;,\n",
       "                                                  OneHotEncoder(handle_unknown=&#x27;ignore&#x27;))]),\n",
       "                                 [&#x27;type&#x27;, &#x27;gender&#x27;, &#x27;race&#x27;, &#x27;zone&#x27;, &#x27;device&#x27;])])</pre></div></div></div><div class=\"sk-parallel\"><div class=\"sk-parallel-item\"><div class=\"sk-item\"><div class=\"sk-label-container\"><div class=\"sk-label sk-toggleable\"><input class=\"sk-toggleable__control sk-hidden--visually\" id=\"sk-estimator-id-3\" type=\"checkbox\" ><label for=\"sk-estimator-id-3\" class=\"sk-toggleable__label sk-toggleable__label-arrow\">num</label><div class=\"sk-toggleable__content\"><pre>[&#x27;step&#x27;, &#x27;amount&#x27;, &#x27;connection_time&#x27;, &#x27;oldbalanceOrg&#x27;, &#x27;age&#x27;, &#x27;newbalanceOrig&#x27;, &#x27;user_number&#x27;, &#x27;user_connections&#x27;, &#x27;security_alert&#x27;, &#x27;oldbalanceDest&#x27;, &#x27;newbalanceDest&#x27;]</pre></div></div></div><div class=\"sk-serial\"><div class=\"sk-item\"><div class=\"sk-serial\"><div class=\"sk-item\"><div class=\"sk-estimator sk-toggleable\"><input class=\"sk-toggleable__control sk-hidden--visually\" id=\"sk-estimator-id-4\" type=\"checkbox\" ><label for=\"sk-estimator-id-4\" class=\"sk-toggleable__label sk-toggleable__label-arrow\">SimpleImputer</label><div class=\"sk-toggleable__content\"><pre>SimpleImputer(strategy=&#x27;median&#x27;)</pre></div></div></div><div class=\"sk-item\"><div class=\"sk-estimator sk-toggleable\"><input class=\"sk-toggleable__control sk-hidden--visually\" id=\"sk-estimator-id-5\" type=\"checkbox\" ><label for=\"sk-estimator-id-5\" class=\"sk-toggleable__label sk-toggleable__label-arrow\">StandardScaler</label><div class=\"sk-toggleable__content\"><pre>StandardScaler()</pre></div></div></div></div></div></div></div></div><div class=\"sk-parallel-item\"><div class=\"sk-item\"><div class=\"sk-label-container\"><div class=\"sk-label sk-toggleable\"><input class=\"sk-toggleable__control sk-hidden--visually\" id=\"sk-estimator-id-6\" type=\"checkbox\" ><label for=\"sk-estimator-id-6\" class=\"sk-toggleable__label sk-toggleable__label-arrow\">cat</label><div class=\"sk-toggleable__content\"><pre>[&#x27;type&#x27;, &#x27;gender&#x27;, &#x27;race&#x27;, &#x27;zone&#x27;, &#x27;device&#x27;]</pre></div></div></div><div class=\"sk-serial\"><div class=\"sk-item\"><div class=\"sk-serial\"><div class=\"sk-item\"><div class=\"sk-estimator sk-toggleable\"><input class=\"sk-toggleable__control sk-hidden--visually\" id=\"sk-estimator-id-7\" type=\"checkbox\" ><label for=\"sk-estimator-id-7\" class=\"sk-toggleable__label sk-toggleable__label-arrow\">SimpleImputer</label><div class=\"sk-toggleable__content\"><pre>SimpleImputer(fill_value=nan, strategy=&#x27;constant&#x27;)</pre></div></div></div><div class=\"sk-item\"><div class=\"sk-estimator sk-toggleable\"><input class=\"sk-toggleable__control sk-hidden--visually\" id=\"sk-estimator-id-8\" type=\"checkbox\" ><label for=\"sk-estimator-id-8\" class=\"sk-toggleable__label sk-toggleable__label-arrow\">OneHotEncoder</label><div class=\"sk-toggleable__content\"><pre>OneHotEncoder(handle_unknown=&#x27;ignore&#x27;)</pre></div></div></div></div></div></div></div></div></div></div><div class=\"sk-item\"><div class=\"sk-estimator sk-toggleable\"><input class=\"sk-toggleable__control sk-hidden--visually\" id=\"sk-estimator-id-9\" type=\"checkbox\" ><label for=\"sk-estimator-id-9\" class=\"sk-toggleable__label sk-toggleable__label-arrow\">LGBMClassifier</label><div class=\"sk-toggleable__content\"><pre>LGBMClassifier(random_state=0)</pre></div></div></div></div></div></div></div>"
      ],
      "text/plain": [
       "Pipeline(steps=[('preprocesador',\n",
       "                 ColumnTransformer(transformers=[('num',\n",
       "                                                  Pipeline(steps=[('imputer',\n",
       "                                                                   SimpleImputer(strategy='median')),\n",
       "                                                                  ('scaler',\n",
       "                                                                   StandardScaler())]),\n",
       "                                                  ['step', 'amount',\n",
       "                                                   'connection_time',\n",
       "                                                   'oldbalanceOrg', 'age',\n",
       "                                                   'newbalanceOrig',\n",
       "                                                   'user_number',\n",
       "                                                   'user_connections',\n",
       "                                                   'security_alert',\n",
       "                                                   'oldbalanceDest',\n",
       "                                                   'newbalanceDest']),\n",
       "                                                 ('cat',\n",
       "                                                  Pipeline(steps=[('imputer',\n",
       "                                                                   SimpleImputer(fill_value=nan,\n",
       "                                                                                 strategy='constant')),\n",
       "                                                                  ('onehot',\n",
       "                                                                   OneHotEncoder(handle_unknown='ignore'))]),\n",
       "                                                  ['type', 'gender', 'race',\n",
       "                                                   'zone', 'device'])])),\n",
       "                ('clasificador', LGBMClassifier(random_state=0))])"
      ]
     },
     "execution_count": 15,
     "metadata": {},
     "output_type": "execute_result"
    }
   ],
   "source": [
    "clf_lgbm.fit(xtrain, ytrain)"
   ]
  },
  {
   "cell_type": "code",
   "execution_count": 16,
   "id": "543e815c",
   "metadata": {},
   "outputs": [],
   "source": [
    "with open('../models/LightGBM.pickle', 'wb') as f:\n",
    "    pickle.dump(clf_lgbm, f)"
   ]
  },
  {
   "cell_type": "code",
   "execution_count": 17,
   "id": "684ff2ef",
   "metadata": {},
   "outputs": [],
   "source": [
    "with open('../models/LightGBM.pickle', 'rb') as f:\n",
    "    clf_lgbm = pickle.load(f)"
   ]
  },
  {
   "cell_type": "code",
   "execution_count": 18,
   "id": "c51694d5",
   "metadata": {},
   "outputs": [
    {
     "name": "stdout",
     "output_type": "stream",
     "text": [
      "ROC-AUC score of the model: 0.5861101459295845\n",
      "Accuracy of the model: 0.9961566888396157\n",
      "\n",
      "Classification report: \n",
      "              precision    recall  f1-score   support\n",
      "\n",
      "           0       1.00      1.00      1.00    209487\n",
      "           1       0.08      0.23      0.12       228\n",
      "\n",
      "    accuracy                           1.00    209715\n",
      "   macro avg       0.54      0.61      0.56    209715\n",
      "weighted avg       1.00      1.00      1.00    209715\n",
      "\n",
      "\n",
      "Confusion matrix: \n",
      "[[208856    631]\n",
      " [   175     53]]\n",
      "\n"
     ]
    }
   ],
   "source": [
    "ypred = clf_lgbm.predict(xtest)\n",
    "ypred_proba = clf_lgbm.predict_proba(xtest)\n",
    "evaluate_model(ytest,ypred,ypred_proba)"
   ]
  },
  {
   "cell_type": "code",
   "execution_count": 19,
   "id": "dd2c1730",
   "metadata": {},
   "outputs": [
    {
     "name": "stdout",
     "output_type": "stream",
     "text": [
      "Best Threshold=0.000000, G-Mean=0.504\n",
      "ROC-AUC score of the model: 0.5861101459295845\n",
      "Accuracy of the model: 0.9821138211382113\n",
      "\n",
      "Classification report: \n",
      "              precision    recall  f1-score   support\n",
      "\n",
      "           0       1.00      0.98      0.99    209487\n",
      "           1       0.02      0.25      0.03       228\n",
      "\n",
      "    accuracy                           0.98    209715\n",
      "   macro avg       0.51      0.62      0.51    209715\n",
      "weighted avg       1.00      0.98      0.99    209715\n",
      "\n",
      "\n",
      "Confusion matrix: \n",
      "[[205906   3581]\n",
      " [   170     58]]\n",
      "\n"
     ]
    }
   ],
   "source": [
    "# Adjusting threshold\n",
    "# keep probabilities for the positive outcome only\n",
    "yhat = ypred_proba[:, 1]\n",
    "# calculate roc curves\n",
    "fpr, tpr, thresholds = roc_curve(ytest, yhat)\n",
    "\n",
    "gmeans = np.sqrt(tpr * (1-fpr))\n",
    "# locate the index of the largest g-mean\n",
    "ix = np.argmax(gmeans)\n",
    "print('Best Threshold=%f, G-Mean=%.3f' % (thresholds[ix], gmeans[ix]))\n",
    "\n",
    "ypred_new_threshold = (ypred_proba[:,1]>thresholds[ix]).astype(int)\n",
    "evaluate_model(ytest,ypred_new_threshold,ypred_proba)"
   ]
  },
  {
   "cell_type": "code",
   "execution_count": 20,
   "id": "f18ff28c",
   "metadata": {},
   "outputs": [
    {
     "name": "stdout",
     "output_type": "stream",
     "text": [
      "Best Threshold=0.000000, G-Mean=0.504\n",
      "ROC-AUC score of the model: 0.5861101459295845\n",
      "Accuracy of the model: 0.9821138211382113\n",
      "\n",
      "Classification report: \n",
      "              precision    recall  f1-score   support\n",
      "\n",
      "           0       1.00      0.98      0.99    209487\n",
      "           1       0.02      0.25      0.03       228\n",
      "\n",
      "    accuracy                           0.98    209715\n",
      "   macro avg       0.51      0.62      0.51    209715\n",
      "weighted avg       1.00      0.98      0.99    209715\n",
      "\n",
      "\n",
      "Confusion matrix: \n",
      "[[205906   3581]\n",
      " [   170     58]]\n",
      "\n"
     ]
    }
   ],
   "source": [
    "# Adjusting threshold\n",
    "# keep probabilities for the positive outcome only\n",
    "yhat = ypred_proba[:, 1]\n",
    "# calculate roc curves\n",
    "fpr, tpr, thresholds = roc_curve(ytest, yhat)\n",
    "\n",
    "gmeans = np.sqrt(tpr * (1-fpr))\n",
    "# locate the index of the largest g-mean\n",
    "ix = np.argmax(gmeans)\n",
    "print('Best Threshold=%f, G-Mean=%.3f' % (thresholds[ix], gmeans[ix]))\n",
    "\n",
    "ypred_new_threshold = (ypred_proba[:,1]>thresholds[ix]).astype(int)\n",
    "evaluate_model(ytest,ypred_new_threshold,ypred_proba)"
   ]
  },
  {
   "cell_type": "code",
   "execution_count": null,
   "id": "cb952d4b",
   "metadata": {},
   "outputs": [],
   "source": [
    "ROC CURVE"
   ]
  },
  {
   "cell_type": "code",
   "execution_count": 29,
   "id": "3a7ae11c",
   "metadata": {},
   "outputs": [
    {
     "data": {
      "image/png": "[encoded data removed]",
      "text/plain": [
       "<Figure size 432x288 with 1 Axes>"
      ]
     },
     "metadata": {
      "needs_background": "light"
     },
     "output_type": "display_data"
    }
   ],
   "source": [
    "import matplotlib.pyplot as plt\n",
    "# plot the roc curve for the model\n",
    "plt.plot([0,1], [0,1], linestyle='--', label='No Skill')\n",
    "plt.plot(fpr, tpr, marker='.', label='LGBMClassifier')\n",
    "# axis labels\n",
    "plt.xlabel('False Positive Rate')\n",
    "plt.ylabel('True Positive Rate')\n",
    "plt.legend()\n",
    "# show the plot\n",
    "plt.show()"
   ]
  },
  {
   "cell_type": "code",
   "execution_count": 22,
   "id": "e63dcd20",
   "metadata": {},
   "outputs": [
    {
     "name": "stdout",
     "output_type": "stream",
     "text": [
      "Best Threshold=0.000000, G-Mean=0.504\n"
     ]
    }
   ],
   "source": [
    "# calculate the g-mean for each threshold\n",
    "gmeans = np.sqrt(tpr * (1-fpr))\n",
    "# locate the index of the largest g-mean\n",
    "ix = np.argmax(gmeans)\n",
    "print('Best Threshold=%f, G-Mean=%.3f' % (thresholds[ix], gmeans[ix]))"
   ]
  },
  {
   "cell_type": "code",
   "execution_count": null,
   "id": "9a0dd35f",
   "metadata": {},
   "outputs": [],
   "source": [
    "PR CURVE"
   ]
  },
  {
   "cell_type": "code",
   "execution_count": 30,
   "id": "5a4ba66b",
   "metadata": {},
   "outputs": [
    {
     "data": {
      "image/png": "[encoded data removed]",
      "text/plain": [
       "<Figure size 432x288 with 1 Axes>"
      ]
     },
     "metadata": {
      "needs_background": "light"
     },
     "output_type": "display_data"
    }
   ],
   "source": [
    "# calculate pr-curve\n",
    "precision, recall, thresholds = precision_recall_curve(ytest, yhat)\n",
    "# plot the roc curve for the model\n",
    "no_skill = len(ytest[ytest==1]) / len(ytest)\n",
    "plt.plot([0,1], [no_skill,no_skill], linestyle='--', label='No Skill')\n",
    "plt.plot(recall, precision, marker='.', label='LGBMClassifier')\n",
    "# axis labels\n",
    "plt.xlabel('Recall')\n",
    "plt.ylabel('Precision')\n",
    "plt.legend()\n",
    "# show the plot\n",
    "plt.show()"
   ]
  },
  {
   "cell_type": "code",
   "execution_count": 31,
   "id": "f2a813e5",
   "metadata": {},
   "outputs": [
    {
     "name": "stdout",
     "output_type": "stream",
     "text": [
      "Best Threshold=1.000000, F-Score=0.222\n"
     ]
    },
    {
     "data": {
      "image/png": "[encoded data removed]",
      "text/plain": [
       "<Figure size 432x288 with 1 Axes>"
      ]
     },
     "metadata": {
      "needs_background": "light"
     },
     "output_type": "display_data"
    }
   ],
   "source": [
    "# convert to f score\n",
    "fscore = (2 * precision * recall) / (precision + recall)\n",
    "# locate the index of the largest f score\n",
    "ix = np.argmax(fscore)\n",
    "print('Best Threshold=%f, F-Score=%.3f' % (thresholds[ix], fscore[ix]))\n",
    "# plot the roc curve for the model\n",
    "no_skill = len(ytest[ytest==1]) / len(ytest)\n",
    "plt.plot([0,1], [no_skill,no_skill], linestyle='--', label='No Skill')\n",
    "plt.plot(recall, precision, marker='.', label='LGBMClassifier')\n",
    "plt.scatter(recall[ix], precision[ix], s=100, marker='o', color='black', label='Best')\n",
    "# axis labels\n",
    "plt.xlabel('Recall')\n",
    "plt.ylabel('Precision')\n",
    "plt.legend()\n",
    "# show the plot\n",
    "plt.show()"
   ]
  },
  {
   "cell_type": "code",
   "execution_count": 25,
   "id": "5c27abdc",
   "metadata": {},
   "outputs": [
    {
     "name": "stdout",
     "output_type": "stream",
     "text": [
      "F-Score: 0.11623\n"
     ]
    }
   ],
   "source": [
    "# evaluate the model\n",
    "score = f1_score(ytest, ypred)\n",
    "print('F-Score: %.5f' % score)"
   ]
  },
  {
   "cell_type": "code",
   "execution_count": null,
   "id": "b3b3f148",
   "metadata": {},
   "outputs": [],
   "source": [
    "CUMULATIVE GAINS CURVE"
   ]
  },
  {
   "cell_type": "code",
   "execution_count": 26,
   "id": "2dfb3f43",
   "metadata": {},
   "outputs": [
    {
     "data": {
      "image/png": "[encoded data removed]",
      "text/plain": [
       "<Figure size 432x288 with 1 Axes>"
      ]
     },
     "metadata": {
      "needs_background": "light"
     },
     "output_type": "display_data"
    }
   ],
   "source": [
    "import scikitplot as skplt\n",
    "import matplotlib.pyplot as plt\n",
    "\n",
    "skplt.metrics.plot_cumulative_gain(ytest, ypred_proba)\n",
    "plt.show()"
   ]
  },
  {
   "cell_type": "code",
   "execution_count": null,
   "id": "f764b428",
   "metadata": {},
   "outputs": [],
   "source": [
    "LIFT CURVE"
   ]
  },
  {
   "cell_type": "code",
   "execution_count": 27,
   "id": "af53caea",
   "metadata": {},
   "outputs": [
    {
     "data": {
      "image/png": "[encoded data removed]",
      "text/plain": [
       "<Figure size 432x288 with 1 Axes>"
      ]
     },
     "metadata": {
      "needs_background": "light"
     },
     "output_type": "display_data"
    }
   ],
   "source": [
    "skplt.metrics.plot_lift_curve(ytest, ypred_proba)\n",
    "plt.show()"
   ]
  },
  {
   "cell_type": "code",
   "execution_count": null,
   "id": "26063d7b",
   "metadata": {},
   "outputs": [],
   "source": []
  }
 ],
 "metadata": {
  "kernelspec": {
   "display_name": "practica0",
   "language": "python",
   "name": "practica0"
  },
  "language_info": {
   "codemirror_mode": {
    "name": "ipython",
    "version": 3
   },
   "file_extension": ".py",
   "mimetype": "text/x-python",
   "name": "python",
   "nbconvert_exporter": "python",
   "pygments_lexer": "ipython3",
   "version": "3.9.13"
  }
 },
 "nbformat": 4,
 "nbformat_minor": 5
}
