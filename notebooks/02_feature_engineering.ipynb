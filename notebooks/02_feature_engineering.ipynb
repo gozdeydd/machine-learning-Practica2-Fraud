{
 "cells": [
  {
   "cell_type": "markdown",
   "id": "09de9417",
   "metadata": {},
   "source": [
    "# CUNEF MUCD 2022/2023\n",
    "## Machine Learning\n",
    "## Análisis de Fraude"
   ]
  },
  {
   "cell_type": "markdown",
   "id": "56bcd2db",
   "metadata": {},
   "source": [
    "### Autores:\n",
    "- Gozde Yazganoglu\n",
    "- Irma Sanchez\n"
   ]
  },
  {
   "cell_type": "markdown",
   "id": "44d3ecc0",
   "metadata": {},
   "source": [
    "# Importación de los librerías"
   ]
  },
  {
   "cell_type": "code",
   "execution_count": 10,
   "id": "3ab33f70",
   "metadata": {},
   "outputs": [],
   "source": [
    "import pandas as pd\n",
    "import numpy as np\n",
    "import matplotlib.pyplot as plt\n",
    "import seaborn as sns\n",
    "\n",
    "from sklearn.feature_selection import SelectFromModel, RFE\n",
    "import category_encoders as ce\n",
    "from sklearn.linear_model import LogisticRegression, Lasso , Ridge\n",
    "from sklearn.preprocessing import OneHotEncoder\n",
    "from collections import Counter\n",
    "from sklearn import metrics\n",
    "from sklearn.utils import resample\n",
    "from sklearn.model_selection import train_test_split\n",
    "from sklearn.preprocessing import StandardScaler\n",
    "from sklearn.impute import SimpleImputer, MissingIndicator\n",
    "from sklearn.pipeline import Pipeline\n",
    "from sklearn.compose import ColumnTransformer\n",
    "import pickle\n",
    "\n",
    "import warnings\n",
    "warnings.filterwarnings('ignore')\n",
    "\n",
    "from sklearn.metrics import classification_report, confusion_matrix, roc_curve, auc, \\\n",
    "                            silhouette_score, recall_score, precision_score, make_scorer, \\\n",
    "                            roc_auc_score, f1_score, precision_recall_curve"
   ]
  },
  {
   "cell_type": "markdown",
   "id": "543125fb",
   "metadata": {},
   "source": [
    "El parte de EDA hemos tratado los datos nulos y comentamos sobre la situacion de outliers. En esta sección vamos a continuar con variable selección y pipelines."
   ]
  },
  {
   "cell_type": "markdown",
   "id": "4b68d070",
   "metadata": {},
   "source": [
    "# Seleccion de los Variables y Creacion de Preprocessor"
   ]
  },
  {
   "cell_type": "markdown",
   "id": "d5ecb911",
   "metadata": {},
   "source": [
    "Hemos guardado el data como 'parquet' para que use menos memoria y procese más rapido. "
   ]
  },
  {
   "cell_type": "code",
   "execution_count": 2,
   "id": "04255bc1",
   "metadata": {},
   "outputs": [
    {
     "name": "stdout",
     "output_type": "stream",
     "text": [
      "El dataset está compuesto por 1048575 filas y 19 columnas\n"
     ]
    },
    {
     "data": {
      "text/html": [
       "<div>\n",
       "<style scoped>\n",
       "    .dataframe tbody tr th:only-of-type {\n",
       "        vertical-align: middle;\n",
       "    }\n",
       "\n",
       "    .dataframe tbody tr th {\n",
       "        vertical-align: top;\n",
       "    }\n",
       "\n",
       "    .dataframe thead th {\n",
       "        text-align: right;\n",
       "    }\n",
       "</style>\n",
       "<table border=\"1\" class=\"dataframe\">\n",
       "  <thead>\n",
       "    <tr style=\"text-align: right;\">\n",
       "      <th></th>\n",
       "      <th>step</th>\n",
       "      <th>type</th>\n",
       "      <th>amount</th>\n",
       "      <th>gender</th>\n",
       "      <th>device</th>\n",
       "      <th>connection_time</th>\n",
       "      <th>nameOrig</th>\n",
       "      <th>race</th>\n",
       "      <th>oldbalanceOrg</th>\n",
       "      <th>age</th>\n",
       "      <th>newbalanceOrig</th>\n",
       "      <th>zone</th>\n",
       "      <th>user_number</th>\n",
       "      <th>nameDest</th>\n",
       "      <th>user_connections</th>\n",
       "      <th>security_alert</th>\n",
       "      <th>oldbalanceDest</th>\n",
       "      <th>newbalanceDest</th>\n",
       "      <th>isFraud</th>\n",
       "    </tr>\n",
       "  </thead>\n",
       "  <tbody>\n",
       "    <tr>\n",
       "      <th>0</th>\n",
       "      <td>1</td>\n",
       "      <td>PAYMENT</td>\n",
       "      <td>9839.64</td>\n",
       "      <td>man</td>\n",
       "      <td>mac</td>\n",
       "      <td>0.140039</td>\n",
       "      <td>C1231006815</td>\n",
       "      <td>black</td>\n",
       "      <td>170136.0</td>\n",
       "      <td>85</td>\n",
       "      <td>160296.36</td>\n",
       "      <td>capital</td>\n",
       "      <td>138</td>\n",
       "      <td>M1979787155</td>\n",
       "      <td>5</td>\n",
       "      <td>1</td>\n",
       "      <td>0.0</td>\n",
       "      <td>0.0</td>\n",
       "      <td>0</td>\n",
       "    </tr>\n",
       "    <tr>\n",
       "      <th>1</th>\n",
       "      <td>1</td>\n",
       "      <td>PAYMENT</td>\n",
       "      <td>1864.28</td>\n",
       "      <td>woman</td>\n",
       "      <td>mac</td>\n",
       "      <td>0.496890</td>\n",
       "      <td>C1666544295</td>\n",
       "      <td>asian</td>\n",
       "      <td>21249.0</td>\n",
       "      <td>57</td>\n",
       "      <td>19384.72</td>\n",
       "      <td>country</td>\n",
       "      <td>909</td>\n",
       "      <td>M2044282225</td>\n",
       "      <td>1</td>\n",
       "      <td>0</td>\n",
       "      <td>0.0</td>\n",
       "      <td>0.0</td>\n",
       "      <td>0</td>\n",
       "    </tr>\n",
       "    <tr>\n",
       "      <th>2</th>\n",
       "      <td>1</td>\n",
       "      <td>TRANSFER</td>\n",
       "      <td>181.00</td>\n",
       "      <td>man</td>\n",
       "      <td>pc</td>\n",
       "      <td>0.781150</td>\n",
       "      <td>C1305486145</td>\n",
       "      <td>asian</td>\n",
       "      <td>181.0</td>\n",
       "      <td>66</td>\n",
       "      <td>0.00</td>\n",
       "      <td>capital</td>\n",
       "      <td>2569</td>\n",
       "      <td>C553264065</td>\n",
       "      <td>10</td>\n",
       "      <td>0</td>\n",
       "      <td>0.0</td>\n",
       "      <td>0.0</td>\n",
       "      <td>1</td>\n",
       "    </tr>\n",
       "    <tr>\n",
       "      <th>3</th>\n",
       "      <td>1</td>\n",
       "      <td>CASH_OUT</td>\n",
       "      <td>181.00</td>\n",
       "      <td>man</td>\n",
       "      <td>mac</td>\n",
       "      <td>0.565068</td>\n",
       "      <td>C840083671</td>\n",
       "      <td>black</td>\n",
       "      <td>181.0</td>\n",
       "      <td>31</td>\n",
       "      <td>0.00</td>\n",
       "      <td>country</td>\n",
       "      <td>1787</td>\n",
       "      <td>C38997010</td>\n",
       "      <td>3</td>\n",
       "      <td>0</td>\n",
       "      <td>21182.0</td>\n",
       "      <td>0.0</td>\n",
       "      <td>1</td>\n",
       "    </tr>\n",
       "    <tr>\n",
       "      <th>4</th>\n",
       "      <td>1</td>\n",
       "      <td>PAYMENT</td>\n",
       "      <td>11668.14</td>\n",
       "      <td>unknow</td>\n",
       "      <td>mac</td>\n",
       "      <td>0.517114</td>\n",
       "      <td>C2048537720</td>\n",
       "      <td>black</td>\n",
       "      <td>41554.0</td>\n",
       "      <td>90</td>\n",
       "      <td>29885.86</td>\n",
       "      <td>country</td>\n",
       "      <td>3997</td>\n",
       "      <td>M1230701703</td>\n",
       "      <td>8</td>\n",
       "      <td>0</td>\n",
       "      <td>0.0</td>\n",
       "      <td>0.0</td>\n",
       "      <td>0</td>\n",
       "    </tr>\n",
       "  </tbody>\n",
       "</table>\n",
       "</div>"
      ],
      "text/plain": [
       "   step      type    amount  gender device  connection_time     nameOrig  \\\n",
       "0     1   PAYMENT   9839.64     man    mac         0.140039  C1231006815   \n",
       "1     1   PAYMENT   1864.28   woman    mac         0.496890  C1666544295   \n",
       "2     1  TRANSFER    181.00     man     pc         0.781150  C1305486145   \n",
       "3     1  CASH_OUT    181.00     man    mac         0.565068   C840083671   \n",
       "4     1   PAYMENT  11668.14  unknow    mac         0.517114  C2048537720   \n",
       "\n",
       "    race  oldbalanceOrg  age  newbalanceOrig     zone  user_number  \\\n",
       "0  black       170136.0   85       160296.36  capital          138   \n",
       "1  asian        21249.0   57        19384.72  country          909   \n",
       "2  asian          181.0   66            0.00  capital         2569   \n",
       "3  black          181.0   31            0.00  country         1787   \n",
       "4  black        41554.0   90        29885.86  country         3997   \n",
       "\n",
       "      nameDest  user_connections  security_alert  oldbalanceDest  \\\n",
       "0  M1979787155                 5               1             0.0   \n",
       "1  M2044282225                 1               0             0.0   \n",
       "2   C553264065                10               0             0.0   \n",
       "3    C38997010                 3               0         21182.0   \n",
       "4  M1230701703                 8               0             0.0   \n",
       "\n",
       "   newbalanceDest  isFraud  \n",
       "0             0.0        0  \n",
       "1             0.0        0  \n",
       "2             0.0        1  \n",
       "3             0.0        1  \n",
       "4             0.0        0  "
      ]
     },
     "execution_count": 2,
     "metadata": {},
     "output_type": "execute_result"
    }
   ],
   "source": [
    "data= pd.read_parquet('../data/processed/dataset_payments_fraud_processed.parquet')\n",
    "print(\"El dataset está compuesto por\", len(data.index), \"filas y\", len(data.columns), \"columnas\")\n",
    "data.head()"
   ]
  },
  {
   "cell_type": "markdown",
   "id": "e30ec6c3",
   "metadata": {},
   "source": [
    "Para poder tratar con pipeline, categorizamos los variables. primero agrupamos los datos numericos."
   ]
  },
  {
   "cell_type": "code",
   "execution_count": 3,
   "id": "52019377",
   "metadata": {},
   "outputs": [
    {
     "name": "stdout",
     "output_type": "stream",
     "text": [
      "El dataset está compuesto por 1048575 filas y 11 columnas\n"
     ]
    },
    {
     "data": {
      "text/html": [
       "<div>\n",
       "<style scoped>\n",
       "    .dataframe tbody tr th:only-of-type {\n",
       "        vertical-align: middle;\n",
       "    }\n",
       "\n",
       "    .dataframe tbody tr th {\n",
       "        vertical-align: top;\n",
       "    }\n",
       "\n",
       "    .dataframe thead th {\n",
       "        text-align: right;\n",
       "    }\n",
       "</style>\n",
       "<table border=\"1\" class=\"dataframe\">\n",
       "  <thead>\n",
       "    <tr style=\"text-align: right;\">\n",
       "      <th></th>\n",
       "      <th>step</th>\n",
       "      <th>amount</th>\n",
       "      <th>connection_time</th>\n",
       "      <th>oldbalanceOrg</th>\n",
       "      <th>age</th>\n",
       "      <th>newbalanceOrig</th>\n",
       "      <th>user_number</th>\n",
       "      <th>user_connections</th>\n",
       "      <th>security_alert</th>\n",
       "      <th>oldbalanceDest</th>\n",
       "      <th>newbalanceDest</th>\n",
       "    </tr>\n",
       "  </thead>\n",
       "  <tbody>\n",
       "    <tr>\n",
       "      <th>0</th>\n",
       "      <td>1</td>\n",
       "      <td>9839.64</td>\n",
       "      <td>0.140039</td>\n",
       "      <td>170136.0</td>\n",
       "      <td>85</td>\n",
       "      <td>160296.36</td>\n",
       "      <td>138</td>\n",
       "      <td>5</td>\n",
       "      <td>1</td>\n",
       "      <td>0.0</td>\n",
       "      <td>0.0</td>\n",
       "    </tr>\n",
       "    <tr>\n",
       "      <th>1</th>\n",
       "      <td>1</td>\n",
       "      <td>1864.28</td>\n",
       "      <td>0.496890</td>\n",
       "      <td>21249.0</td>\n",
       "      <td>57</td>\n",
       "      <td>19384.72</td>\n",
       "      <td>909</td>\n",
       "      <td>1</td>\n",
       "      <td>0</td>\n",
       "      <td>0.0</td>\n",
       "      <td>0.0</td>\n",
       "    </tr>\n",
       "    <tr>\n",
       "      <th>2</th>\n",
       "      <td>1</td>\n",
       "      <td>181.00</td>\n",
       "      <td>0.781150</td>\n",
       "      <td>181.0</td>\n",
       "      <td>66</td>\n",
       "      <td>0.00</td>\n",
       "      <td>2569</td>\n",
       "      <td>10</td>\n",
       "      <td>0</td>\n",
       "      <td>0.0</td>\n",
       "      <td>0.0</td>\n",
       "    </tr>\n",
       "    <tr>\n",
       "      <th>3</th>\n",
       "      <td>1</td>\n",
       "      <td>181.00</td>\n",
       "      <td>0.565068</td>\n",
       "      <td>181.0</td>\n",
       "      <td>31</td>\n",
       "      <td>0.00</td>\n",
       "      <td>1787</td>\n",
       "      <td>3</td>\n",
       "      <td>0</td>\n",
       "      <td>21182.0</td>\n",
       "      <td>0.0</td>\n",
       "    </tr>\n",
       "    <tr>\n",
       "      <th>4</th>\n",
       "      <td>1</td>\n",
       "      <td>11668.14</td>\n",
       "      <td>0.517114</td>\n",
       "      <td>41554.0</td>\n",
       "      <td>90</td>\n",
       "      <td>29885.86</td>\n",
       "      <td>3997</td>\n",
       "      <td>8</td>\n",
       "      <td>0</td>\n",
       "      <td>0.0</td>\n",
       "      <td>0.0</td>\n",
       "    </tr>\n",
       "  </tbody>\n",
       "</table>\n",
       "</div>"
      ],
      "text/plain": [
       "   step    amount  connection_time  oldbalanceOrg  age  newbalanceOrig  \\\n",
       "0     1   9839.64         0.140039       170136.0   85       160296.36   \n",
       "1     1   1864.28         0.496890        21249.0   57        19384.72   \n",
       "2     1    181.00         0.781150          181.0   66            0.00   \n",
       "3     1    181.00         0.565068          181.0   31            0.00   \n",
       "4     1  11668.14         0.517114        41554.0   90        29885.86   \n",
       "\n",
       "   user_number  user_connections  security_alert  oldbalanceDest  \\\n",
       "0          138                 5               1             0.0   \n",
       "1          909                 1               0             0.0   \n",
       "2         2569                10               0             0.0   \n",
       "3         1787                 3               0         21182.0   \n",
       "4         3997                 8               0             0.0   \n",
       "\n",
       "   newbalanceDest  \n",
       "0             0.0  \n",
       "1             0.0  \n",
       "2             0.0  \n",
       "3             0.0  \n",
       "4             0.0  "
      ]
     },
     "execution_count": 3,
     "metadata": {},
     "output_type": "execute_result"
    }
   ],
   "source": [
    "data_numeric = data.drop(columns = [ 'nameDest','nameOrig', 'type','gender','race','zone', 'device', 'isFraud'])\n",
    "print(\"El dataset está compuesto por\", len(data_numeric.index), \"filas y\", len(data_numeric.columns), \"columnas\")\n",
    "data_numeric.head()\n",
    "\n"
   ]
  },
  {
   "cell_type": "code",
   "execution_count": 4,
   "id": "3f9168c7",
   "metadata": {},
   "outputs": [
    {
     "name": "stdout",
     "output_type": "stream",
     "text": [
      "El dataset está compuesto por 1048575 filas y 7 columnas\n"
     ]
    },
    {
     "data": {
      "text/html": [
       "<div>\n",
       "<style scoped>\n",
       "    .dataframe tbody tr th:only-of-type {\n",
       "        vertical-align: middle;\n",
       "    }\n",
       "\n",
       "    .dataframe tbody tr th {\n",
       "        vertical-align: top;\n",
       "    }\n",
       "\n",
       "    .dataframe thead th {\n",
       "        text-align: right;\n",
       "    }\n",
       "</style>\n",
       "<table border=\"1\" class=\"dataframe\">\n",
       "  <thead>\n",
       "    <tr style=\"text-align: right;\">\n",
       "      <th></th>\n",
       "      <th>nameDest</th>\n",
       "      <th>nameOrig</th>\n",
       "      <th>type</th>\n",
       "      <th>gender</th>\n",
       "      <th>race</th>\n",
       "      <th>zone</th>\n",
       "      <th>device</th>\n",
       "    </tr>\n",
       "  </thead>\n",
       "  <tbody>\n",
       "    <tr>\n",
       "      <th>0</th>\n",
       "      <td>M1979787155</td>\n",
       "      <td>C1231006815</td>\n",
       "      <td>PAYMENT</td>\n",
       "      <td>man</td>\n",
       "      <td>black</td>\n",
       "      <td>capital</td>\n",
       "      <td>mac</td>\n",
       "    </tr>\n",
       "    <tr>\n",
       "      <th>1</th>\n",
       "      <td>M2044282225</td>\n",
       "      <td>C1666544295</td>\n",
       "      <td>PAYMENT</td>\n",
       "      <td>woman</td>\n",
       "      <td>asian</td>\n",
       "      <td>country</td>\n",
       "      <td>mac</td>\n",
       "    </tr>\n",
       "    <tr>\n",
       "      <th>2</th>\n",
       "      <td>C553264065</td>\n",
       "      <td>C1305486145</td>\n",
       "      <td>TRANSFER</td>\n",
       "      <td>man</td>\n",
       "      <td>asian</td>\n",
       "      <td>capital</td>\n",
       "      <td>pc</td>\n",
       "    </tr>\n",
       "    <tr>\n",
       "      <th>3</th>\n",
       "      <td>C38997010</td>\n",
       "      <td>C840083671</td>\n",
       "      <td>CASH_OUT</td>\n",
       "      <td>man</td>\n",
       "      <td>black</td>\n",
       "      <td>country</td>\n",
       "      <td>mac</td>\n",
       "    </tr>\n",
       "    <tr>\n",
       "      <th>4</th>\n",
       "      <td>M1230701703</td>\n",
       "      <td>C2048537720</td>\n",
       "      <td>PAYMENT</td>\n",
       "      <td>unknow</td>\n",
       "      <td>black</td>\n",
       "      <td>country</td>\n",
       "      <td>mac</td>\n",
       "    </tr>\n",
       "  </tbody>\n",
       "</table>\n",
       "</div>"
      ],
      "text/plain": [
       "      nameDest     nameOrig      type  gender   race     zone device\n",
       "0  M1979787155  C1231006815   PAYMENT     man  black  capital    mac\n",
       "1  M2044282225  C1666544295   PAYMENT   woman  asian  country    mac\n",
       "2   C553264065  C1305486145  TRANSFER     man  asian  capital     pc\n",
       "3    C38997010   C840083671  CASH_OUT     man  black  country    mac\n",
       "4  M1230701703  C2048537720   PAYMENT  unknow  black  country    mac"
      ]
     },
     "execution_count": 4,
     "metadata": {},
     "output_type": "execute_result"
    }
   ],
   "source": [
    "data_cat = data.filter(items=['nameDest','nameOrig', 'type','gender','race','zone', 'device'])\n",
    "print(\"El dataset está compuesto por\", len(data_cat.index), \"filas y\", len(data_cat.columns), \"columnas\")\n",
    "data_cat.head()"
   ]
  },
  {
   "cell_type": "markdown",
   "id": "07e96c59",
   "metadata": {},
   "source": [
    "Ahora conseguimos con variables categoricos. Podemos hacer target encoding o one hot encoding. Este decision es depende de cuantos valores unicos por variable. Tenemos tambien variables tipo numero de cliente : nameDest, nameOrig como comentemos antes, estos variables no nos pueden dar mucha información.\n",
    "\n",
    "No queremos tampoco ni gender ni race. como hemos mencionado antes, no tiene mucho efecto y tampoco no podemos hacer este tipo de analisis."
   ]
  },
  {
   "cell_type": "code",
   "execution_count": null,
   "id": "130b5fab",
   "metadata": {},
   "outputs": [],
   "source": [
    "data = data.drop(columns=['nameOrig','nameDest', 'gender','race'])"
   ]
  },
  {
   "cell_type": "markdown",
   "id": "75c05f5e",
   "metadata": {},
   "source": [
    "Primero queremos a ver cual variables son mas importatntes según regressión ridge y lasso. con esta manera podemos seleccionar mejores variables possibles."
   ]
  },
  {
   "cell_type": "markdown",
   "id": "896ea37a",
   "metadata": {},
   "source": [
    "# Regresión Logística (Ridge)"
   ]
  },
  {
   "cell_type": "markdown",
   "id": "38495d54",
   "metadata": {},
   "source": [
    "La regresión de Ridge se desarrolló como una posible solución a la imprecisión de los estimadores de mínimos cuadrados cuando los modelos de regresión lineal tienen algunas variables independientes multicolineales (altamente correlacionadas), mediante la creación de un estimador de regresión de Ridge (RR). Esto proporciona una estimación más precisa de los parámetros de Ridge, ya que su varianza y estimador cuadrático medio son a menudo más pequeños que los estimadores mínimos cuadrados derivados anteriormente."
   ]
  },
  {
   "cell_type": "code",
   "execution_count": 8,
   "id": "f7b680ad",
   "metadata": {},
   "outputs": [],
   "source": [
    "\n",
    "#preparing data set for ridge and lasso regressions.\n",
    "\n",
    "\n",
    "\n",
    "xtrain, xtest, ytrain, ytest = train_test_split(data.drop(columns=['isFraud']),\n",
    "                                                data['isFraud'],\n",
    "                                                test_size=0.20, \n",
    "                                                random_state=0, \n",
    "                                                stratify= data['isFraud'])\n",
    "\n",
    "\n",
    "\n",
    "\n",
    "list_cat = list(xtrain.select_dtypes(\"object\", \"category\").columns)\n",
    "list_num = list(set(xtrain.columns)-set(list_cat))\n",
    "ohe = ce.OneHotEncoder(cols=list_cat)\n",
    "model = ohe.fit(xtrain, ytrain)\n",
    "\n",
    "xtrain_t = model.transform(xtrain, ytrain)\n",
    "xtest_t = model.transform(xtest, ytest)\n",
    "\n",
    "\n",
    "scaler = StandardScaler()\n",
    "model_scaled = scaler.fit(xtrain_t)\n",
    "X_train_scaled = pd.DataFrame(scaler.transform(xtrain_t), \n",
    "                              columns=xtrain_t.columns, \n",
    "                              index=xtrain_t.index)\n",
    "X_test_scaled = pd.DataFrame(scaler.transform(xtest_t),\n",
    "                             columns=xtest_t.columns,\n",
    "                             index=xtest_t.index)"
   ]
  },
  {
   "cell_type": "code",
   "execution_count": 11,
   "id": "5091e8af",
   "metadata": {},
   "outputs": [
    {
     "data": {
      "text/plain": [
       "SelectFromModel(estimator=LogisticRegression(C=2), threshold=0.01)"
      ]
     },
     "execution_count": 11,
     "metadata": {},
     "output_type": "execute_result"
    }
   ],
   "source": [
    "#Estsablising the ridge regression and fiting with testdata\n",
    "\n",
    "sel_ridge = SelectFromModel(LogisticRegression(C=2, penalty='l2'), threshold = 0.01)\n",
    "sel_ridge.fit(X_train_scaled, ytrain)"
   ]
  },
  {
   "cell_type": "code",
   "execution_count": 12,
   "id": "3a665a99",
   "metadata": {},
   "outputs": [
    {
     "data": {
      "image/png": "[encoded data removed]",
      "text/plain": [
       "<Figure size 1600x384 with 1 Axes>"
      ]
     },
     "metadata": {},
     "output_type": "display_data"
    }
   ],
   "source": [
    "df_coeficientes_ridge = pd.DataFrame(\n",
    "                        {'predictor': X_train_scaled.columns,\n",
    "                         'coef': sel_ridge.estimator_.coef_.flatten()}\n",
    "                  )\n",
    "\n",
    "fig, ax = plt.subplots(figsize=(16, 3.84))\n",
    "ax.stem(df_coeficientes_ridge.predictor, df_coeficientes_ridge.coef, markerfmt=' ')\n",
    "plt.xticks(rotation=90, ha='right', size=10)\n",
    "ax.set_xlabel('variable')\n",
    "ax.set_ylabel('coeficientes')\n",
    "ax.set_title('Coeficientes del modelo ridge');"
   ]
  },
  {
   "cell_type": "code",
   "execution_count": 13,
   "id": "e5d22f7f",
   "metadata": {},
   "outputs": [
    {
     "data": {
      "text/plain": [
       "Index(['step', 'type_1', 'type_2', 'type_3', 'type_4', 'type_5', 'amount',\n",
       "       'device_1', 'device_2', 'device_3', 'device_4', 'connection_time',\n",
       "       'oldbalanceOrg', 'newbalanceOrig', 'zone_1', 'zone_2', 'zone_3',\n",
       "       'user_number', 'security_alert', 'oldbalanceDest', 'newbalanceDest'],\n",
       "      dtype='object')"
      ]
     },
     "execution_count": 13,
     "metadata": {},
     "output_type": "execute_result"
    }
   ],
   "source": [
    "sel_ridge.get_support()\n",
    "selected_feat_ridge = X_train_scaled.columns[sel_ridge.get_support()]\n",
    "selected_feat_ridge"
   ]
  },
  {
   "cell_type": "code",
   "execution_count": 14,
   "id": "8393344e",
   "metadata": {},
   "outputs": [
    {
     "name": "stdout",
     "output_type": "stream",
     "text": [
      "total features: 24\n",
      "selected features: 21\n"
     ]
    }
   ],
   "source": [
    "print('total features: {}'.format((X_train_scaled.shape[1])))\n",
    "print('selected features: {}'.format(len(selected_feat_ridge)))"
   ]
  },
  {
   "cell_type": "markdown",
   "id": "c4ddb4d3",
   "metadata": {},
   "source": [
    "Ridge Regression nos selecciona 21 variables de 24. Los variables cantidad de dinero en cuentas, tienen mas importancia."
   ]
  },
  {
   "cell_type": "markdown",
   "id": "53961fd1",
   "metadata": {},
   "source": [
    "# Regresión Logística (Lasso)"
   ]
  },
  {
   "cell_type": "markdown",
   "id": "edef5f42",
   "metadata": {},
   "source": [
    "La regresión de Lasso es parecida La la regresión lineal, pero utiliza una técnica de \"contracción\" en la que los coeficientes de determinación se reducen La cero . \n",
    "La regresión lineal le brinda coeficientes de regresión como se observa en el conjunto de datos. La regresión Lasso le permite reducir o regularizar estos coeficientes para evitar el sobreajuste y hacer que funcionen mejor en diferentes conjuntos de datos. \n",
    "Este tipo de regresión se usa cuando el conjunto de datos muestra una alta multicolinealidad o cuando desea automatizar la eliminación de variables y la selección de características ."
   ]
  },
  {
   "cell_type": "code",
   "execution_count": 15,
   "id": "17b2940b",
   "metadata": {},
   "outputs": [
    {
     "data": {
      "text/plain": [
       "SelectFromModel(estimator=LogisticRegression(C=1, penalty='l1',\n",
       "                                             solver='liblinear'),\n",
       "                threshold=0.08)"
      ]
     },
     "execution_count": 15,
     "metadata": {},
     "output_type": "execute_result"
    }
   ],
   "source": [
    "# Establishing the model and fiting with training set.\n",
    "sel_lasso = SelectFromModel(LogisticRegression(C=1, penalty='l1', solver='liblinear'), threshold = 0.08) \n",
    "sel_lasso.fit(X_train_scaled, ytrain)"
   ]
  },
  {
   "cell_type": "code",
   "execution_count": 16,
   "id": "50af2802",
   "metadata": {},
   "outputs": [
    {
     "data": {
      "image/png": "[encoded data removed]",
      "text/plain": [
       "<Figure size 1600x384 with 1 Axes>"
      ]
     },
     "metadata": {},
     "output_type": "display_data"
    }
   ],
   "source": [
    "#now let's see on a graph\n",
    "df_coeficientes_lasso = pd.DataFrame(\n",
    "                        {'predictor': X_train_scaled.columns,\n",
    "                         'coef': sel_lasso.estimator_.coef_.flatten()}\n",
    "                  )\n",
    "\n",
    "fig, ax = plt.subplots(figsize=(16, 3.84))\n",
    "ax.stem(df_coeficientes_lasso.predictor, df_coeficientes_lasso.coef, markerfmt=' ')\n",
    "plt.xticks(rotation=90, ha='right', size=10)\n",
    "ax.set_xlabel('variable')\n",
    "ax.set_ylabel('coeficientes')\n",
    "ax.set_title('Coeficientes del modelo ridge');"
   ]
  },
  {
   "cell_type": "code",
   "execution_count": 30,
   "id": "949a3a59",
   "metadata": {},
   "outputs": [
    {
     "data": {
      "text/plain": [
       "Index(['step', 'type_1', 'type_2', 'type_4', 'type_5', 'amount', 'device_2',\n",
       "       'device_4', 'connection_time', 'oldbalanceOrg', 'newbalanceOrig',\n",
       "       'oldbalanceDest', 'newbalanceDest'],\n",
       "      dtype='object')"
      ]
     },
     "execution_count": 30,
     "metadata": {},
     "output_type": "execute_result"
    }
   ],
   "source": [
    "sel_lasso.get_support()\n",
    "selected_feat_lasso = X_train_scaled.columns[sel_lasso.get_support()]\n",
    "selected_feat_lasso"
   ]
  },
  {
   "cell_type": "code",
   "execution_count": 31,
   "id": "e9a710fc",
   "metadata": {},
   "outputs": [
    {
     "name": "stdout",
     "output_type": "stream",
     "text": [
      "total features: 24\n",
      "selected features: 13\n"
     ]
    }
   ],
   "source": [
    "print('total features: {}'.format((X_train_scaled.shape[1])))\n",
    "print('selected features: {}'.format(len(selected_feat_lasso)))"
   ]
  },
  {
   "cell_type": "markdown",
   "id": "4eb307de",
   "metadata": {},
   "source": [
    "Lasso nos dejo elegir 13 de 24 variables. En este analisis vamos a elegir Ridge selection para poder evitar perdida de informacion."
   ]
  },
  {
   "cell_type": "markdown",
   "id": "6260a9a8",
   "metadata": {},
   "source": [
    "# Pipelines"
   ]
  },
  {
   "cell_type": "markdown",
   "id": "cfa9a694",
   "metadata": {},
   "source": [
    "Para poder analizar en siguentes pasos, vamos a preparar otro pipeline y vamos a guardar en pickle por siguentes anallisises. "
   ]
  },
  {
   "cell_type": "code",
   "execution_count": 32,
   "id": "e2bad646",
   "metadata": {},
   "outputs": [],
   "source": [
    "list_cat = ['type','zone', 'device']"
   ]
  },
  {
   "cell_type": "code",
   "execution_count": 33,
   "id": "9e4ae28c",
   "metadata": {},
   "outputs": [],
   "source": [
    "list_num = ['step','amount','connection_time','oldbalanceOrg','age', 'newbalanceOrig','user_number','user_connections','security_alert','oldbalanceDest','newbalanceDest']"
   ]
  },
  {
   "cell_type": "code",
   "execution_count": 34,
   "id": "303820da",
   "metadata": {},
   "outputs": [],
   "source": [
    "numeric_transformer = Pipeline(steps=[\n",
    "    ('imputer', SimpleImputer(strategy='median')),\n",
    "    ('scaler', StandardScaler())\n",
    "    ])\n",
    "\n",
    "\n",
    "onehot_transformer = Pipeline(steps=[\n",
    "    ('imputer', SimpleImputer(strategy='constant', fill_value=np.nan)),\n",
    "    ('onehot', OneHotEncoder(handle_unknown='ignore'))\n",
    "    ])"
   ]
  },
  {
   "cell_type": "code",
   "execution_count": 35,
   "id": "dba7ef0b",
   "metadata": {},
   "outputs": [],
   "source": [
    "preprocessor = ColumnTransformer(\n",
    "    transformers=[\n",
    "        ('num', numeric_transformer, list_num),\n",
    "        ('cat', onehot_transformer, list_cat)\n",
    "        ])"
   ]
  },
  {
   "cell_type": "code",
   "execution_count": 36,
   "id": "ebc5d9ae",
   "metadata": {},
   "outputs": [],
   "source": [
    "# Guardamos el preprocessor\n",
    "with open('../models/preprocessor.pickle', 'wb') as f:\n",
    "    pickle.dump(preprocessor, f)"
   ]
  },
  {
   "cell_type": "markdown",
   "id": "7524aa48",
   "metadata": {},
   "source": [
    "El preprocessador se va utilizar en siguentos pasos. en esta manera podemos utilizar en futuro con nuevos datos introducidos para comprobar con modelos."
   ]
  },
  {
   "cell_type": "markdown",
   "id": "a681f748",
   "metadata": {},
   "source": [
    "# Creaccion de los datos de Train y Test"
   ]
  },
  {
   "cell_type": "code",
   "execution_count": 37,
   "id": "5a02dd73",
   "metadata": {},
   "outputs": [],
   "source": [
    "xtrain, xtest, ytrain, ytest = train_test_split(data.drop(columns=['isFraud']), data['isFraud'], test_size=0.20, random_state=0, stratify= data['isFraud'])"
   ]
  },
  {
   "cell_type": "code",
   "execution_count": 38,
   "id": "8bbb4770",
   "metadata": {},
   "outputs": [
    {
     "name": "stdout",
     "output_type": "stream",
     "text": [
      "El dataset está compuesto por 838860 filas y 14 columnas\n"
     ]
    },
    {
     "data": {
      "text/html": [
       "<div>\n",
       "<style scoped>\n",
       "    .dataframe tbody tr th:only-of-type {\n",
       "        vertical-align: middle;\n",
       "    }\n",
       "\n",
       "    .dataframe tbody tr th {\n",
       "        vertical-align: top;\n",
       "    }\n",
       "\n",
       "    .dataframe thead th {\n",
       "        text-align: right;\n",
       "    }\n",
       "</style>\n",
       "<table border=\"1\" class=\"dataframe\">\n",
       "  <thead>\n",
       "    <tr style=\"text-align: right;\">\n",
       "      <th></th>\n",
       "      <th>step</th>\n",
       "      <th>type</th>\n",
       "      <th>amount</th>\n",
       "      <th>device</th>\n",
       "      <th>connection_time</th>\n",
       "      <th>oldbalanceOrg</th>\n",
       "      <th>age</th>\n",
       "      <th>newbalanceOrig</th>\n",
       "      <th>zone</th>\n",
       "      <th>user_number</th>\n",
       "      <th>user_connections</th>\n",
       "      <th>security_alert</th>\n",
       "      <th>oldbalanceDest</th>\n",
       "      <th>newbalanceDest</th>\n",
       "    </tr>\n",
       "  </thead>\n",
       "  <tbody>\n",
       "    <tr>\n",
       "      <th>398013</th>\n",
       "      <td>18</td>\n",
       "      <td>PAYMENT</td>\n",
       "      <td>18122.77</td>\n",
       "      <td>iphone</td>\n",
       "      <td>0.203923</td>\n",
       "      <td>51886.00</td>\n",
       "      <td>44</td>\n",
       "      <td>33763.23</td>\n",
       "      <td>africa</td>\n",
       "      <td>2047</td>\n",
       "      <td>10</td>\n",
       "      <td>0</td>\n",
       "      <td>0.00</td>\n",
       "      <td>0.00</td>\n",
       "    </tr>\n",
       "    <tr>\n",
       "      <th>57644</th>\n",
       "      <td>9</td>\n",
       "      <td>CASH_OUT</td>\n",
       "      <td>162508.35</td>\n",
       "      <td>pc</td>\n",
       "      <td>0.811282</td>\n",
       "      <td>35137.00</td>\n",
       "      <td>18</td>\n",
       "      <td>0.00</td>\n",
       "      <td>capital</td>\n",
       "      <td>881</td>\n",
       "      <td>2</td>\n",
       "      <td>0</td>\n",
       "      <td>19824.00</td>\n",
       "      <td>437067.20</td>\n",
       "    </tr>\n",
       "    <tr>\n",
       "      <th>112607</th>\n",
       "      <td>11</td>\n",
       "      <td>PAYMENT</td>\n",
       "      <td>4531.20</td>\n",
       "      <td>pc</td>\n",
       "      <td>0.809820</td>\n",
       "      <td>85289.39</td>\n",
       "      <td>67</td>\n",
       "      <td>80758.19</td>\n",
       "      <td>africa</td>\n",
       "      <td>1769</td>\n",
       "      <td>4</td>\n",
       "      <td>0</td>\n",
       "      <td>0.00</td>\n",
       "      <td>0.00</td>\n",
       "    </tr>\n",
       "    <tr>\n",
       "      <th>438762</th>\n",
       "      <td>18</td>\n",
       "      <td>CASH_OUT</td>\n",
       "      <td>133330.40</td>\n",
       "      <td>pc</td>\n",
       "      <td>0.822840</td>\n",
       "      <td>0.00</td>\n",
       "      <td>25</td>\n",
       "      <td>0.00</td>\n",
       "      <td>country</td>\n",
       "      <td>2369</td>\n",
       "      <td>7</td>\n",
       "      <td>0</td>\n",
       "      <td>1989858.29</td>\n",
       "      <td>2789940.33</td>\n",
       "    </tr>\n",
       "    <tr>\n",
       "      <th>734829</th>\n",
       "      <td>38</td>\n",
       "      <td>CASH_IN</td>\n",
       "      <td>1937.66</td>\n",
       "      <td>mac</td>\n",
       "      <td>0.462285</td>\n",
       "      <td>3515915.02</td>\n",
       "      <td>52</td>\n",
       "      <td>3517852.68</td>\n",
       "      <td>country</td>\n",
       "      <td>4838</td>\n",
       "      <td>1</td>\n",
       "      <td>0</td>\n",
       "      <td>1506327.42</td>\n",
       "      <td>1748125.69</td>\n",
       "    </tr>\n",
       "  </tbody>\n",
       "</table>\n",
       "</div>"
      ],
      "text/plain": [
       "        step      type     amount  device  connection_time  oldbalanceOrg  \\\n",
       "398013    18   PAYMENT   18122.77  iphone         0.203923       51886.00   \n",
       "57644      9  CASH_OUT  162508.35      pc         0.811282       35137.00   \n",
       "112607    11   PAYMENT    4531.20      pc         0.809820       85289.39   \n",
       "438762    18  CASH_OUT  133330.40      pc         0.822840           0.00   \n",
       "734829    38   CASH_IN    1937.66     mac         0.462285     3515915.02   \n",
       "\n",
       "        age  newbalanceOrig     zone  user_number  user_connections  \\\n",
       "398013   44        33763.23   africa         2047                10   \n",
       "57644    18            0.00  capital          881                 2   \n",
       "112607   67        80758.19   africa         1769                 4   \n",
       "438762   25            0.00  country         2369                 7   \n",
       "734829   52      3517852.68  country         4838                 1   \n",
       "\n",
       "        security_alert  oldbalanceDest  newbalanceDest  \n",
       "398013               0            0.00            0.00  \n",
       "57644                0        19824.00       437067.20  \n",
       "112607               0            0.00            0.00  \n",
       "438762               0      1989858.29      2789940.33  \n",
       "734829               0      1506327.42      1748125.69  "
      ]
     },
     "execution_count": 38,
     "metadata": {},
     "output_type": "execute_result"
    }
   ],
   "source": [
    "print(\"El dataset está compuesto por\", len(xtrain.index), \"filas y\", len(xtrain.columns), \"columnas\")\n",
    "xtrain.head()"
   ]
  },
  {
   "cell_type": "code",
   "execution_count": 39,
   "id": "66930804",
   "metadata": {},
   "outputs": [
    {
     "name": "stdout",
     "output_type": "stream",
     "text": [
      "El dataset está compuesto por 209715 filas y 14 columnas\n"
     ]
    },
    {
     "data": {
      "text/html": [
       "<div>\n",
       "<style scoped>\n",
       "    .dataframe tbody tr th:only-of-type {\n",
       "        vertical-align: middle;\n",
       "    }\n",
       "\n",
       "    .dataframe tbody tr th {\n",
       "        vertical-align: top;\n",
       "    }\n",
       "\n",
       "    .dataframe thead th {\n",
       "        text-align: right;\n",
       "    }\n",
       "</style>\n",
       "<table border=\"1\" class=\"dataframe\">\n",
       "  <thead>\n",
       "    <tr style=\"text-align: right;\">\n",
       "      <th></th>\n",
       "      <th>step</th>\n",
       "      <th>type</th>\n",
       "      <th>amount</th>\n",
       "      <th>device</th>\n",
       "      <th>connection_time</th>\n",
       "      <th>oldbalanceOrg</th>\n",
       "      <th>age</th>\n",
       "      <th>newbalanceOrig</th>\n",
       "      <th>zone</th>\n",
       "      <th>user_number</th>\n",
       "      <th>user_connections</th>\n",
       "      <th>security_alert</th>\n",
       "      <th>oldbalanceDest</th>\n",
       "      <th>newbalanceDest</th>\n",
       "    </tr>\n",
       "  </thead>\n",
       "  <tbody>\n",
       "    <tr>\n",
       "      <th>913673</th>\n",
       "      <td>43</td>\n",
       "      <td>CASH_OUT</td>\n",
       "      <td>183961.06</td>\n",
       "      <td>iphone</td>\n",
       "      <td>0.188162</td>\n",
       "      <td>10110.00</td>\n",
       "      <td>14</td>\n",
       "      <td>0.00</td>\n",
       "      <td>country</td>\n",
       "      <td>4304</td>\n",
       "      <td>7</td>\n",
       "      <td>0</td>\n",
       "      <td>3065000.46</td>\n",
       "      <td>3248961.52</td>\n",
       "    </tr>\n",
       "    <tr>\n",
       "      <th>217560</th>\n",
       "      <td>13</td>\n",
       "      <td>CASH_OUT</td>\n",
       "      <td>116454.41</td>\n",
       "      <td>mac</td>\n",
       "      <td>0.381502</td>\n",
       "      <td>231298.00</td>\n",
       "      <td>23</td>\n",
       "      <td>114843.59</td>\n",
       "      <td>africa</td>\n",
       "      <td>4689</td>\n",
       "      <td>3</td>\n",
       "      <td>0</td>\n",
       "      <td>883739.58</td>\n",
       "      <td>1000193.98</td>\n",
       "    </tr>\n",
       "    <tr>\n",
       "      <th>738438</th>\n",
       "      <td>38</td>\n",
       "      <td>CASH_IN</td>\n",
       "      <td>177780.66</td>\n",
       "      <td>mac</td>\n",
       "      <td>0.453677</td>\n",
       "      <td>2820628.04</td>\n",
       "      <td>83</td>\n",
       "      <td>2998408.71</td>\n",
       "      <td>country</td>\n",
       "      <td>3408</td>\n",
       "      <td>10</td>\n",
       "      <td>0</td>\n",
       "      <td>990784.88</td>\n",
       "      <td>813004.21</td>\n",
       "    </tr>\n",
       "    <tr>\n",
       "      <th>632204</th>\n",
       "      <td>35</td>\n",
       "      <td>PAYMENT</td>\n",
       "      <td>16824.94</td>\n",
       "      <td>other</td>\n",
       "      <td>0.925336</td>\n",
       "      <td>337204.00</td>\n",
       "      <td>83</td>\n",
       "      <td>320379.06</td>\n",
       "      <td>africa</td>\n",
       "      <td>1524</td>\n",
       "      <td>10</td>\n",
       "      <td>0</td>\n",
       "      <td>0.00</td>\n",
       "      <td>0.00</td>\n",
       "    </tr>\n",
       "    <tr>\n",
       "      <th>529704</th>\n",
       "      <td>20</td>\n",
       "      <td>CASH_IN</td>\n",
       "      <td>109133.06</td>\n",
       "      <td>iphone</td>\n",
       "      <td>0.018892</td>\n",
       "      <td>17106267.15</td>\n",
       "      <td>45</td>\n",
       "      <td>17215400.22</td>\n",
       "      <td>country</td>\n",
       "      <td>1458</td>\n",
       "      <td>9</td>\n",
       "      <td>1</td>\n",
       "      <td>6624653.56</td>\n",
       "      <td>6515520.50</td>\n",
       "    </tr>\n",
       "  </tbody>\n",
       "</table>\n",
       "</div>"
      ],
      "text/plain": [
       "        step      type     amount  device  connection_time  oldbalanceOrg  \\\n",
       "913673    43  CASH_OUT  183961.06  iphone         0.188162       10110.00   \n",
       "217560    13  CASH_OUT  116454.41     mac         0.381502      231298.00   \n",
       "738438    38   CASH_IN  177780.66     mac         0.453677     2820628.04   \n",
       "632204    35   PAYMENT   16824.94   other         0.925336      337204.00   \n",
       "529704    20   CASH_IN  109133.06  iphone         0.018892    17106267.15   \n",
       "\n",
       "        age  newbalanceOrig     zone  user_number  user_connections  \\\n",
       "913673   14            0.00  country         4304                 7   \n",
       "217560   23       114843.59   africa         4689                 3   \n",
       "738438   83      2998408.71  country         3408                10   \n",
       "632204   83       320379.06   africa         1524                10   \n",
       "529704   45     17215400.22  country         1458                 9   \n",
       "\n",
       "        security_alert  oldbalanceDest  newbalanceDest  \n",
       "913673               0      3065000.46      3248961.52  \n",
       "217560               0       883739.58      1000193.98  \n",
       "738438               0       990784.88       813004.21  \n",
       "632204               0            0.00            0.00  \n",
       "529704               1      6624653.56      6515520.50  "
      ]
     },
     "execution_count": 39,
     "metadata": {},
     "output_type": "execute_result"
    }
   ],
   "source": [
    "print(\"El dataset está compuesto por\", len(xtest.index), \"filas y\", len(xtest.columns), \"columnas\")\n",
    "xtest.head()"
   ]
  },
  {
   "cell_type": "markdown",
   "id": "c6c660ef",
   "metadata": {},
   "source": [
    "Elegimos test size como 20% luego para comprobar con los modelos. Como tenemos un problema de minoridad, Es importante que barajar bien los valores. Hemos puesto stratify = ['isFraud'] para valores objectivos. Para asegurar, hacemos otro analisis rapida para observar si hemos seperado bien."
   ]
  },
  {
   "cell_type": "code",
   "execution_count": 40,
   "id": "308e204b",
   "metadata": {},
   "outputs": [],
   "source": [
    "import sweetviz as sv"
   ]
  },
  {
   "cell_type": "code",
   "execution_count": 41,
   "id": "04b742a5",
   "metadata": {},
   "outputs": [],
   "source": [
    "#compare_report = sv.compare([xtrain, \"train\"],[xtest, \"test\"])\n",
    "#compare_report.show_html(\"../html/compare_variables.html\")\n",
    "\n",
    "#Comentamos el codigo porque se trabaja mejor así. \n",
    "#El resultado esta en htmls. En caso de necesidad se puede executar también."
   ]
  },
  {
   "cell_type": "markdown",
   "id": "c89acb1d",
   "metadata": {},
   "source": [
    "El reporte de comparacion nos enseña que los datos de training son seperado bien. podemos conseguir con esta separacion. Cuando seperar elegimos stratif= data['isFraud'] para ayudarnos tener 2 sets en más o menos mismo proporciones de valores 1. En este trabajo no trabajamos con datos sinteticos para evitar sus desventajas."
   ]
  },
  {
   "cell_type": "code",
   "execution_count": 42,
   "id": "05750fae",
   "metadata": {},
   "outputs": [
    {
     "name": "stdout",
     "output_type": "stream",
     "text": [
      "guardado\n"
     ]
    }
   ],
   "source": [
    "xtrain.to_parquet(\"../data/processed/xtrain.parquet\")\n",
    "xtest.to_parquet(\"../data/processed/xtest.parquet\")\n",
    "pd.DataFrame(ytrain).to_parquet(\"../data/processed/ytrain.parquet\")\n",
    "pd.DataFrame(ytest).to_parquet(\"../data/processed/ytest.parquet\")\n",
    "print('guardado')\n"
   ]
  },
  {
   "cell_type": "code",
   "execution_count": null,
   "id": "ed6930b3",
   "metadata": {},
   "outputs": [],
   "source": []
  }
 ],
 "metadata": {
  "kernelspec": {
   "display_name": "practica0",
   "language": "python",
   "name": "practica0"
  },
  "language_info": {
   "codemirror_mode": {
    "name": "ipython",
    "version": 3
   },
   "file_extension": ".py",
   "mimetype": "text/x-python",
   "name": "python",
   "nbconvert_exporter": "python",
   "pygments_lexer": "ipython3",
   "version": "3.9.13"
  }
 },
 "nbformat": 4,
 "nbformat_minor": 5
}
